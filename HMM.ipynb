{
 "cells": [
  {
   "cell_type": "code",
   "execution_count": 1,
   "metadata": {
    "ExecuteTime": {
     "end_time": "2019-02-25T23:10:06.850180Z",
     "start_time": "2019-02-25T23:10:05.890334Z"
    }
   },
   "outputs": [],
   "source": [
    "import numpy as np\n",
    "import pandas as pd\n",
    "import tqdm"
   ]
  },
  {
   "cell_type": "code",
   "execution_count": 2,
   "metadata": {
    "ExecuteTime": {
     "end_time": "2019-02-25T23:10:06.859952Z",
     "start_time": "2019-02-25T23:10:06.854153Z"
    }
   },
   "outputs": [],
   "source": [
    "def translate(dna_string):\n",
    "    dna_string = dna_string.replace(\"A\", \"0\")\n",
    "    dna_string = dna_string.replace(\"T\", \"1\")\n",
    "    dna_string = dna_string.replace(\"G\", \"2\")\n",
    "    dna_string = dna_string.replace(\"C\", \"3\")\n",
    "    seq = list(dna_string)\n",
    "    return np.array(seq).astype(int)"
   ]
  },
  {
   "cell_type": "code",
   "execution_count": 3,
   "metadata": {
    "ExecuteTime": {
     "end_time": "2019-02-25T23:10:06.977306Z",
     "start_time": "2019-02-25T23:10:06.861864Z"
    }
   },
   "outputs": [],
   "source": [
    "dataset_string = pd.read_csv(\"data/Xtr0.csv\", index_col=0)\n",
    "dataset = [\n",
    "    translate(dna_string)\n",
    "    for dna_string in dataset_string.values[:, 0]\n",
    "]"
   ]
  },
  {
   "cell_type": "code",
   "execution_count": 4,
   "metadata": {
    "ExecuteTime": {
     "end_time": "2019-02-25T23:10:07.000116Z",
     "start_time": "2019-02-25T23:10:06.980638Z"
    }
   },
   "outputs": [],
   "source": [
    "states = np.arange(4)\n",
    "observations = np.arange(4)\n",
    "\n",
    "pi = np.random.random(4)\n",
    "pi /= pi.sum()\n",
    "\n",
    "A = np.random.random((4, 4))\n",
    "A /= A.sum(axis=1)[:, None]\n",
    "\n",
    "B = np.random.random((4, 4))\n",
    "B /= B.sum(axis=1)[:, None]\n",
    "\n",
    "def generate(A, B, pi, T):\n",
    "    x = []\n",
    "    y = []\n",
    "    for t in range(T):\n",
    "        if t == 0:\n",
    "            x.append(np.random.choice(states, p=pi))\n",
    "        else:\n",
    "            x.append(np.random.choice(states, p=A[x[-1]]))\n",
    "        y.append(np.random.choice(observations, p=B[x[-1]]))\n",
    "    x = np.array(x)\n",
    "    y = np.array(y)\n",
    "    return x, y\n",
    "\n",
    "x, y = generate(A, B, pi, 100)"
   ]
  },
  {
   "cell_type": "code",
   "execution_count": 5,
   "metadata": {
    "ExecuteTime": {
     "end_time": "2019-02-25T23:10:07.010522Z",
     "start_time": "2019-02-25T23:10:07.004486Z"
    }
   },
   "outputs": [],
   "source": [
    "def loglikelihood(y, A, B, pi):\n",
    "    T = len(y)\n",
    "    n_s = A.shape[0]\n",
    "    \n",
    "    norm = np.empty(T)\n",
    "\n",
    "    alpha = np.empty((T, n_s))\n",
    "    alpha[0] = pi * B[:, y[0]]\n",
    "    norm[0] = 1/alpha[0].sum()\n",
    "    for t in range(T-1):\n",
    "        alpha[t+1] = B[:, y[t+1]] * A.T.dot(alpha[t])\n",
    "        norm[t+1] = 1/alpha[t+1].sum()\n",
    "        alpha[t+1] *= norm[t+1]\n",
    "\n",
    "    loglike = alpha[T-1].sum() - np.log(norm).sum()\n",
    "    return loglike"
   ]
  },
  {
   "cell_type": "code",
   "execution_count": 6,
   "metadata": {
    "ExecuteTime": {
     "end_time": "2019-02-25T23:10:07.020719Z",
     "start_time": "2019-02-25T23:10:07.012820Z"
    }
   },
   "outputs": [],
   "source": [
    "def forward_backward(y, A, B, pi):\n",
    "    T = len(y)\n",
    "    n_s = A.shape[0]\n",
    "    \n",
    "    norm = np.empty(T)\n",
    "\n",
    "    alpha = np.empty((T, n_s))\n",
    "    alpha[0] = pi * B[:, y[0]]\n",
    "    norm[0] = 1/alpha[0].sum()\n",
    "    for t in range(T-1):\n",
    "        alpha[t+1] = B[:, y[t+1]] * A.T.dot(alpha[t])\n",
    "        norm[t+1] = 1/alpha[t+1].sum()\n",
    "        alpha[t+1] *= norm[t+1]\n",
    "\n",
    "    beta = np.empty((T, n_s))\n",
    "    beta[T-1] = norm[T-1] * 1\n",
    "    for t in range(T-2, -1, -1):\n",
    "        beta[t] = A.dot(beta[t+1] * B[:, y[t+1]])\n",
    "        beta[t] *= norm[t]\n",
    "\n",
    "    return alpha, beta, norm"
   ]
  },
  {
   "cell_type": "code",
   "execution_count": 7,
   "metadata": {
    "ExecuteTime": {
     "end_time": "2019-02-25T23:10:07.033634Z",
     "start_time": "2019-02-25T23:10:07.023772Z"
    }
   },
   "outputs": [],
   "source": [
    "def update(y, A, B, pi, alpha, beta, norm):\n",
    "    T = len(y)\n",
    "    n_s = A.shape[0]\n",
    "    n_o = B.shape[1]\n",
    "    \n",
    "    new_pi = np.empty(n_s)\n",
    "    new_A = np.empty((n_s, n_s))\n",
    "    new_B = np.empty((n_s, n_o))\n",
    "    \n",
    "    for i in range(n_s):\n",
    "        new_pi[i] = alpha[0, i] * beta[0, i] / alpha[0].dot(beta[0])\n",
    "    \n",
    "    for i in range(n_s):\n",
    "        for j in range(n_s):\n",
    "            new_A[i, j] = sum(\n",
    "                [alpha[t, i] * A[i, j] * B[j, y[t+1]] * beta[t+1, j] for t in range(T-1)]\n",
    "            ) / sum(\n",
    "                [alpha[t, i] * beta[t, i] / norm[t] for t in range(T-1)]\n",
    "            )\n",
    "    for j in range(n_s):\n",
    "        for k in range(n_o):\n",
    "            new_B[j, k] = sum(\n",
    "                [alpha[t, j] * beta[t, j] / norm[t] for t in range(T) if y[t] == k]\n",
    "            ) / sum(\n",
    "                [alpha[t, j] * beta[t, j] / norm[t] for t in range(T)]\n",
    "            )\n",
    "            \n",
    "    #new_pi = np.ones(n_s) / n_s\n",
    "    return new_A, new_B, new_pi"
   ]
  },
  {
   "cell_type": "code",
   "execution_count": 8,
   "metadata": {
    "ExecuteTime": {
     "end_time": "2019-02-25T23:10:07.042398Z",
     "start_time": "2019-02-25T23:10:07.036093Z"
    }
   },
   "outputs": [],
   "source": [
    "def baum_welch_step(y, A, B, pi):\n",
    "    alpha, beta, norm = forward_backward(y, A, B, pi)\n",
    "    return update(y, A, B, pi, alpha, beta, norm)\n",
    "\n",
    "def baum_welch(y, A0, B0, pi0, iterations=100):\n",
    "    A, B, pi = A0, B0, pi0\n",
    "    for it in tqdm.trange(iterations):\n",
    "        A, B, pi = baum_welch_step(y, A, B, pi)\n",
    "    return A, B, pi"
   ]
  },
  {
   "cell_type": "code",
   "execution_count": 9,
   "metadata": {
    "ExecuteTime": {
     "end_time": "2019-02-25T23:10:07.059009Z",
     "start_time": "2019-02-25T23:10:07.045250Z"
    }
   },
   "outputs": [],
   "source": [
    "def baum_welch_step_dataset(dataset, A, B, pi):\n",
    "    \n",
    "    n_s = A.shape[0]\n",
    "    n_o = B.shape[1]\n",
    "    \n",
    "    new_A_num = np.zeros((n_s, n_s))\n",
    "    new_A_den = np.zeros((n_s, n_s))\n",
    "    new_B_num = np.zeros((n_s, n_o))\n",
    "    new_B_den = np.zeros((n_s, n_o))\n",
    "    \n",
    "    for y in dataset:\n",
    "        T = len(y)\n",
    "        alpha, beta, norm = forward_backward(y, A, B, pi)\n",
    "\n",
    "        for i in range(n_s):\n",
    "            for j in range(n_s):\n",
    "                new_A_num[i, j] += sum(\n",
    "                    [alpha[t, i] * A[i, j] * B[j, y[t+1]] * beta[t+1, j] for t in range(T-1)]\n",
    "                )\n",
    "                new_A_den[i, j] += sum(\n",
    "                    [alpha[t, i] * beta[t, i] / norm[t] for t in range(T-1)]\n",
    "                )\n",
    "        for j in range(n_s):\n",
    "            for k in range(n_o):\n",
    "                new_B_num[j, k] += sum(\n",
    "                    [alpha[t, j] * beta[t, j] / norm[t] for t in range(T) if y[t] == k]\n",
    "                )\n",
    "                new_B_den[j, k] += sum(\n",
    "                    [alpha[t, j] * beta[t, j] / norm[t] for t in range(T)]\n",
    "                )\n",
    "\n",
    "    return new_A_num/new_A_den, new_B_num/new_B_den, [0.25, 0.25, 0.25, 0.25]\n",
    "\n",
    "def baum_welch_dataset(y, A0, B0, pi0, iterations=100):\n",
    "    A, B, pi = A0, B0, pi0\n",
    "    for it in tqdm.trange(iterations):\n",
    "        A, B, pi = baum_welch_step_dataset(y, A, B, pi)\n",
    "    return A, B, pi"
   ]
  },
  {
   "cell_type": "code",
   "execution_count": 10,
   "metadata": {
    "ExecuteTime": {
     "end_time": "2019-02-25T23:10:07.065973Z",
     "start_time": "2019-02-25T23:10:07.060715Z"
    }
   },
   "outputs": [],
   "source": [
    "def baum_welch_dna(y, iterations=100):\n",
    "    A_guess = np.array([\n",
    "        [  0,   1,   0,   0,], # exon 1 => exon 2\n",
    "        [  0,   0,   1,   0,], # exon 2 => exon 3\n",
    "        [0.5,   0,   0, 0.5,], # exon 3 => exon 1 or intron\n",
    "        [0.5,   0,   0, 0.5,],\n",
    "    ])\n",
    "    A0 = np.random.random((4, 4)) * A_guess\n",
    "    A0 /= A0.sum(axis=1)[:, None]\n",
    "    \n",
    "    B0 = np.random.random((4, 4)) / 4\n",
    "    B0 /= B0.sum(axis=1)[:, None]\n",
    "    \n",
    "    pi0 = np.random.random(4)\n",
    "    pi0 /= pi0.sum()\n",
    "    \n",
    "    print(A0)\n",
    "    print(B0)\n",
    "    print(pi0)\n",
    "    \n",
    "    if type(y) != type([]):\n",
    "        y = [y]\n",
    "    return baum_welch_dataset(y, A0, B0, pi0, iterations)"
   ]
  },
  {
   "cell_type": "code",
   "execution_count": 11,
   "metadata": {
    "ExecuteTime": {
     "end_time": "2019-02-25T23:10:13.688051Z",
     "start_time": "2019-02-25T23:10:07.068592Z"
    }
   },
   "outputs": [
    {
     "name": "stderr",
     "output_type": "stream",
     "text": [
      "  2%|▏         | 2/100 [00:00<00:08, 11.66it/s]"
     ]
    },
    {
     "name": "stdout",
     "output_type": "stream",
     "text": [
      "[[0.         1.         0.         0.        ]\n",
      " [0.         0.         1.         0.        ]\n",
      " [0.68724832 0.         0.         0.31275168]\n",
      " [0.50241789 0.         0.         0.49758211]]\n",
      "[[0.17266948 0.51251705 0.22207537 0.0927381 ]\n",
      " [0.33847022 0.04182091 0.49670836 0.12300051]\n",
      " [0.57097777 0.10182772 0.30127992 0.02591459]\n",
      " [0.29083936 0.41171089 0.21290062 0.08454913]]\n",
      "[0.08884133 0.36061344 0.29969832 0.25084691]\n"
     ]
    },
    {
     "name": "stderr",
     "output_type": "stream",
     "text": [
      "100%|██████████| 100/100 [00:06<00:00, 15.81it/s]"
     ]
    },
    {
     "name": "stdout",
     "output_type": "stream",
     "text": [
      "[[0.         1.         0.         0.        ]\n",
      " [0.         0.         1.         0.        ]\n",
      " [0.3413248  0.         0.         0.6586752 ]\n",
      " [0.39080701 0.         0.         0.60919299]]\n",
      "[[2.61930577e-01 2.49944032e-01 2.15091484e-01 2.73033907e-01]\n",
      " [1.86882336e-01 5.02135784e-02 2.23948215e-01 5.38955870e-01]\n",
      " [5.43629305e-01 2.76186237e-01 3.52228794e-04 1.79832230e-01]\n",
      " [6.79022981e-02 3.21890362e-01 4.64550633e-01 1.45656707e-01]]\n",
      "[0.25, 0.25, 0.25, 0.25]\n"
     ]
    },
    {
     "name": "stderr",
     "output_type": "stream",
     "text": [
      "\n"
     ]
    }
   ],
   "source": [
    "new_A, new_B, new_pi = baum_welch_dna(dataset[:10], 100)\n",
    "print(new_A)\n",
    "print(new_B)\n",
    "print(new_pi)"
   ]
  },
  {
   "cell_type": "code",
   "execution_count": null,
   "metadata": {},
   "outputs": [],
   "source": []
  }
 ],
 "metadata": {
  "kernelspec": {
   "display_name": "Python [conda env:optim]",
   "language": "python",
   "name": "conda-env-optim-py"
  },
  "language_info": {
   "codemirror_mode": {
    "name": "ipython",
    "version": 3
   },
   "file_extension": ".py",
   "mimetype": "text/x-python",
   "name": "python",
   "nbconvert_exporter": "python",
   "pygments_lexer": "ipython3",
   "version": "3.6.8"
  }
 },
 "nbformat": 4,
 "nbformat_minor": 2
}
