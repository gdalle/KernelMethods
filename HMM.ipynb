{
 "cells": [
  {
   "cell_type": "code",
   "execution_count": 1,
   "metadata": {
    "ExecuteTime": {
     "end_time": "2019-02-26T09:13:35.215794Z",
     "start_time": "2019-02-26T09:13:33.278272Z"
    }
   },
   "outputs": [],
   "source": [
    "import numpy as np\n",
    "import pandas as pd\n",
    "import tqdm\n",
    "from sklearn.preprocessing import OneHotEncoder"
   ]
  },
  {
   "cell_type": "code",
   "execution_count": 2,
   "metadata": {
    "ExecuteTime": {
     "end_time": "2019-02-26T09:13:35.239100Z",
     "start_time": "2019-02-26T09:13:35.218311Z"
    }
   },
   "outputs": [
    {
     "name": "stdout",
     "output_type": "stream",
     "text": [
      "[[0.         1.         0.         0.        ]\n",
      " [0.         0.         1.         0.        ]\n",
      " [0.63018735 0.         0.         0.36981265]\n",
      " [0.49632213 0.         0.         0.50367787]]\n",
      "[[0.27725454 0.26157888 0.20000889 0.26115768]\n",
      " [0.09972905 0.41371784 0.01206804 0.47448506]\n",
      " [0.24094784 0.26725151 0.34782094 0.14397971]\n",
      " [0.19152753 0.29893667 0.17995657 0.32957923]]\n"
     ]
    }
   ],
   "source": [
    "np.random.seed(63)\n",
    "\n",
    "states = np.arange(4)\n",
    "observations = np.arange(4)\n",
    "\n",
    "pi = np.random.random(4)\n",
    "pi /= pi.sum()\n",
    "\n",
    "A = np.random.random((4, 4))\n",
    "i_zero = [0, 0, 0, 1, 1, 1, 2, 2, 3, 3]\n",
    "j_zero = [0, 2, 3, 0, 1, 3, 1, 2, 1, 2]\n",
    "A[i_zero, j_zero] = 0\n",
    "A /= A.sum(axis=1)[:, None]\n",
    "\n",
    "B = np.random.random((4, 4))\n",
    "B /= B.sum(axis=1)[:, None]\n",
    "\n",
    "def generate(A, B, pi, T):\n",
    "    x = []\n",
    "    y = []\n",
    "    for t in range(T):\n",
    "        if t == 0:\n",
    "            x.append(np.random.choice(states, p=pi))\n",
    "        else:\n",
    "            x.append(np.random.choice(states, p=A[x[-1]]))\n",
    "        y.append(np.random.choice(observations, p=B[x[-1]]))\n",
    "    x = np.array(x)\n",
    "    y = np.array(y)\n",
    "    return x, y\n",
    "\n",
    "x, y = generate(A, B, pi, 100)\n",
    "\n",
    "print(A)\n",
    "print(B)"
   ]
  },
  {
   "cell_type": "code",
   "execution_count": 3,
   "metadata": {
    "ExecuteTime": {
     "end_time": "2019-02-26T09:13:35.246392Z",
     "start_time": "2019-02-26T09:13:35.240818Z"
    }
   },
   "outputs": [],
   "source": [
    "def loglikelihood(y, A, B, pi):\n",
    "    T = len(y)\n",
    "    n_s = A.shape[0]\n",
    "    \n",
    "    norm = np.empty(T)\n",
    "\n",
    "    alpha = np.empty((T, n_s))\n",
    "    alpha[0] = pi * B[:, y[0]]\n",
    "    norm[0] = 1/alpha[0].sum()\n",
    "    for t in range(T-1):\n",
    "        alpha[t+1] = B[:, y[t+1]] * A.T.dot(alpha[t])\n",
    "        norm[t+1] = 1/alpha[t+1].sum()\n",
    "        alpha[t+1] *= norm[t+1]\n",
    "\n",
    "    loglike = alpha[T-1].sum() - np.log(norm).sum()\n",
    "    return loglike"
   ]
  },
  {
   "cell_type": "code",
   "execution_count": 4,
   "metadata": {
    "ExecuteTime": {
     "end_time": "2019-02-26T09:13:35.256074Z",
     "start_time": "2019-02-26T09:13:35.249201Z"
    }
   },
   "outputs": [],
   "source": [
    "def forward_backward(y, A, B, pi):\n",
    "    T = len(y)\n",
    "    n_s = A.shape[0]\n",
    "    \n",
    "    norm = np.empty(T)\n",
    "\n",
    "    alpha = np.empty((T, n_s))\n",
    "    alpha[0] = pi * B[:, y[0]]\n",
    "    norm[0] = 1/alpha[0].sum()\n",
    "    for t in range(T-1):\n",
    "        alpha[t+1] = B[:, y[t+1]] * A.T.dot(alpha[t])\n",
    "        norm[t+1] = 1/alpha[t+1].sum()\n",
    "        alpha[t+1] *= norm[t+1]\n",
    "\n",
    "    beta = np.empty((T, n_s))\n",
    "    beta[T-1] = norm[T-1] * 1\n",
    "    for t in range(T-2, -1, -1):\n",
    "        beta[t] = A.dot(beta[t+1] * B[:, y[t+1]])\n",
    "        beta[t] *= norm[t]\n",
    "\n",
    "    return alpha, beta, norm"
   ]
  },
  {
   "cell_type": "code",
   "execution_count": 5,
   "metadata": {
    "ExecuteTime": {
     "end_time": "2019-02-26T09:13:35.267086Z",
     "start_time": "2019-02-26T09:13:35.259149Z"
    }
   },
   "outputs": [],
   "source": [
    "def update(y, A, B, pi, alpha, beta, norm):\n",
    "    T = len(y)\n",
    "    n_s = A.shape[0]\n",
    "    n_o = B.shape[1]\n",
    "    \n",
    "    new_pi = np.empty(n_s)\n",
    "    new_A = np.empty((n_s, n_s))\n",
    "    new_B = np.empty((n_s, n_o))\n",
    "    \n",
    "    for i in range(n_s):\n",
    "        new_pi[i] = alpha[0, i] * beta[0, i] / alpha[0].dot(beta[0])\n",
    "    \n",
    "    for i in range(n_s):\n",
    "        for j in range(n_s):\n",
    "            new_A[i, j] = sum(\n",
    "                [alpha[t, i] * A[i, j] * B[j, y[t+1]] * beta[t+1, j] for t in range(T-1)]\n",
    "            ) / sum(\n",
    "                [alpha[t, i] * beta[t, i] / norm[t] for t in range(T-1)]\n",
    "            )\n",
    "    for j in range(n_s):\n",
    "        for k in range(n_o):\n",
    "            new_B[j, k] = sum(\n",
    "                [alpha[t, j] * beta[t, j] / norm[t] for t in range(T) if y[t] == k]\n",
    "            ) / sum(\n",
    "                [alpha[t, j] * beta[t, j] / norm[t] for t in range(T)]\n",
    "            )\n",
    "            \n",
    "    return new_A, new_B, new_pi"
   ]
  },
  {
   "cell_type": "code",
   "execution_count": 6,
   "metadata": {
    "ExecuteTime": {
     "end_time": "2019-02-26T09:13:35.275017Z",
     "start_time": "2019-02-26T09:13:35.269366Z"
    }
   },
   "outputs": [],
   "source": [
    "def baum_welch_step(y, A, B, pi):\n",
    "    alpha, beta, norm = forward_backward(y, A, B, pi)\n",
    "    return update(y, A, B, pi, alpha, beta, norm)\n",
    "\n",
    "def baum_welch(y, A0, B0, pi0, iterations=100):\n",
    "    A, B, pi = A0, B0, pi0\n",
    "    for it in tqdm.trange(iterations):\n",
    "        A, B, pi = baum_welch_step(y, A, B, pi)\n",
    "    return A, B, pi"
   ]
  },
  {
   "cell_type": "code",
   "execution_count": 7,
   "metadata": {
    "ExecuteTime": {
     "end_time": "2019-02-26T09:13:35.288509Z",
     "start_time": "2019-02-26T09:13:35.276974Z"
    }
   },
   "outputs": [],
   "source": [
    "def baum_welch_step_dataset2(dataset, A, B, pi):\n",
    "    \n",
    "    n_s = A.shape[0]\n",
    "    n_o = B.shape[1]\n",
    "    \n",
    "    new_A_num = np.zeros((n_s, n_s))\n",
    "    new_A_den = np.zeros((n_s, n_s))\n",
    "    new_B_num = np.zeros((n_s, n_o))\n",
    "    new_B_den = np.zeros((n_s, n_o))\n",
    "    new_pi_num = np.zeros(n_s)\n",
    "    new_pi_den = np.zeros(n_s)\n",
    "    \n",
    "    for y in dataset:\n",
    "        T = len(y)\n",
    "        alpha, beta, norm = forward_backward(y, A, B, pi)\n",
    "        \n",
    "        for i in range(n_s):\n",
    "            new_pi_num[i] += alpha[t, i] * beta[t, i] / norm[t]\n",
    "            new_pi_den[i] += 1\n",
    "\n",
    "        for i in range(n_s):\n",
    "            for j in range(n_s):\n",
    "                new_A_num[i, j] += sum(\n",
    "                    [alpha[t, i] * A[i, j] * B[j, y[t+1]] * beta[t+1, j] for t in range(T-1)]\n",
    "                )\n",
    "                new_A_den[i, j] += sum(\n",
    "                    [alpha[t, i] * beta[t, i] / norm[t] for t in range(T-1)]\n",
    "                )\n",
    "        for j in range(n_s):\n",
    "            for k in range(n_o):\n",
    "                new_B_num[j, k] += sum(\n",
    "                    [alpha[t, j] * beta[t, j] / norm[t] for t in range(T-1) if y[t] == k]\n",
    "                )\n",
    "                new_B_den[j, k] += sum(\n",
    "                    [alpha[t, j] * beta[t, j] / norm[t] for t in range(T-1)]\n",
    "                )\n",
    "\n",
    "    return new_A_num/new_A_den, new_B_num/new_B_den, new_pi_num/new_pi_den\n",
    "\n",
    "def baum_welch_dataset2(dataset, A0, B0, pi0, iterations=100):\n",
    "    A, B, pi = A0, B0, pi0\n",
    "    for it in tqdm.trange(iterations):\n",
    "        A, B, pi = baum_welch_step_dataset2(dataset, A, B, pi)\n",
    "    return A, B, pi"
   ]
  },
  {
   "cell_type": "code",
   "execution_count": 8,
   "metadata": {
    "ExecuteTime": {
     "end_time": "2019-02-26T09:13:35.302107Z",
     "start_time": "2019-02-26T09:13:35.290266Z"
    }
   },
   "outputs": [],
   "source": [
    "def baum_welch_step_dataset(dataset, A, B, pi):\n",
    "    \n",
    "    n_s = A.shape[0]\n",
    "    n_o = B.shape[1]\n",
    "    \n",
    "    new_A_num = np.zeros((n_s, n_s))\n",
    "    new_A_den = np.zeros((n_s, n_s))\n",
    "    new_B_num = np.zeros((n_s, n_o))\n",
    "    new_B_den = np.zeros((n_s, n_o))\n",
    "    new_pi_num = np.zeros(n_s)\n",
    "    new_pi_den = np.zeros(n_s)\n",
    "    \n",
    "    for y in dataset:\n",
    "        T = len(y)\n",
    "        alpha, beta, norm = forward_backward(y, A, B, pi)\n",
    "        \n",
    "        new_A_num += (\n",
    "            alpha[:-1, :, None] * A[None, :, :] * B[:, y[1:]].T[:, None, :] * beta[1:][:, None, :]\n",
    "        ).sum(axis=0)\n",
    "        new_A_den += (\n",
    "            alpha[:-1, :, None] * beta[:-1, :, None] / norm[:-1, None, None]\n",
    "        ).sum(axis=0)\n",
    "        \n",
    "        onehot_encoder = OneHotEncoder(sparse=False, categories=\"auto\")\n",
    "        y_binary = onehot_encoder.fit_transform(y[:, None]).astype(int)\n",
    "        new_B_num += (\n",
    "            y_binary[:-1, None, :] * alpha[:-1, :, None] * beta[:-1, :, None] / norm[:-1, None, None]\n",
    "        ).sum(axis=0)\n",
    "        new_B_den += (\n",
    "            alpha[:-1, :, None] * beta[:-1, :, None] / norm[:-1, None, None]\n",
    "        ).sum(axis=0)\n",
    "        \n",
    "        new_pi_num += alpha[0, :] * beta[0, :] / norm[0]\n",
    "        new_pi_den += 1\n",
    "\n",
    "    return new_A_num/new_A_den, new_B_num/new_B_den, new_pi_num/new_pi_den\n",
    "\n",
    "def baum_welch_dataset(dataset, A0, B0, pi0, iterations=100):\n",
    "    A, B, pi = A0, B0, pi0\n",
    "    for it in tqdm.trange(iterations):\n",
    "        A, B, pi = baum_welch_step_dataset(dataset, A, B, pi)\n",
    "    return A, B, pi"
   ]
  },
  {
   "cell_type": "code",
   "execution_count": 9,
   "metadata": {
    "ExecuteTime": {
     "end_time": "2019-02-26T09:13:35.310704Z",
     "start_time": "2019-02-26T09:13:35.304152Z"
    }
   },
   "outputs": [],
   "source": [
    "def baum_welch_dna(dataset, iterations=100):\n",
    "    np.random.seed(63)\n",
    "    A_guess = np.array([\n",
    "        [  0,   1,   0,   0,], # exon 1 => exon 2\n",
    "        [  0,   0,   1,   0,], # exon 2 => exon 3\n",
    "        [0.5,   0,   0, 0.5,], # exon 3 => exon 1 or intron\n",
    "        [0.5,   0,   0, 0.5,],\n",
    "    ])\n",
    "    A0 = np.random.random((4, 4)) * A_guess\n",
    "    A0 /= A0.sum(axis=1)[:, None]\n",
    "    \n",
    "    B0 = np.random.random((4, 4)) / 4\n",
    "    B0 /= B0.sum(axis=1)[:, None]\n",
    "    \n",
    "    pi0 = np.random.random(4)\n",
    "    pi0 /= pi0.sum()\n",
    "    \n",
    "    print(\"\\nInitial values\")\n",
    "    print(A0)\n",
    "    print(B0)\n",
    "    print(pi0)\n",
    "\n",
    "    A, B, pi = baum_welch_dataset(dataset, A0, B0, pi0, iterations)\n",
    "    \n",
    "    print(\"Estimation\")\n",
    "    print(A)\n",
    "    print(B)\n",
    "    print(pi)\n",
    "    \n",
    "    return A, B, pi"
   ]
  },
  {
   "cell_type": "code",
   "execution_count": 10,
   "metadata": {
    "ExecuteTime": {
     "end_time": "2019-02-26T09:13:35.317330Z",
     "start_time": "2019-02-26T09:13:35.313233Z"
    }
   },
   "outputs": [],
   "source": [
    "def translate(dna_string):\n",
    "    dna_string = dna_string.replace(\"A\", \"0\")\n",
    "    dna_string = dna_string.replace(\"T\", \"1\")\n",
    "    dna_string = dna_string.replace(\"G\", \"2\")\n",
    "    dna_string = dna_string.replace(\"C\", \"3\")\n",
    "    seq = list(dna_string)\n",
    "    return np.array(seq).astype(int)"
   ]
  },
  {
   "cell_type": "code",
   "execution_count": 12,
   "metadata": {
    "ExecuteTime": {
     "end_time": "2019-02-26T09:14:35.453891Z",
     "start_time": "2019-02-26T09:14:13.208996Z"
    }
   },
   "outputs": [
    {
     "name": "stderr",
     "output_type": "stream",
     "text": [
      "  1%|          | 1/100 [00:00<00:09,  9.93it/s]"
     ]
    },
    {
     "name": "stdout",
     "output_type": "stream",
     "text": [
      "\n",
      "Initial values\n",
      "[[0.         1.         0.         0.        ]\n",
      " [0.         0.         1.         0.        ]\n",
      " [0.54819171 0.         0.         0.45180829]\n",
      " [0.63018735 0.         0.         0.36981265]]\n",
      "[[0.28091143 0.00260081 0.43141308 0.28507468]\n",
      " [0.27725454 0.26157888 0.20000889 0.26115768]\n",
      " [0.09972905 0.41371784 0.01206804 0.47448506]\n",
      " [0.24094784 0.26725151 0.34782094 0.14397971]]\n",
      "[0.19152753 0.29893667 0.17995657 0.32957923]\n"
     ]
    },
    {
     "name": "stderr",
     "output_type": "stream",
     "text": [
      "100%|██████████| 100/100 [00:11<00:00,  8.94it/s]\n",
      "  0%|          | 0/100 [00:00<?, ?it/s]"
     ]
    },
    {
     "name": "stdout",
     "output_type": "stream",
     "text": [
      "Estimation\n",
      "[[0.         1.         0.         0.        ]\n",
      " [0.         0.         1.         0.        ]\n",
      " [0.28030737 0.         0.         0.71969263]\n",
      " [0.21819027 0.         0.         0.78180973]]\n",
      "[[1.08516258e-01 9.12171194e-05 1.80785815e-01 7.10606710e-01]\n",
      " [4.41528881e-01 2.65136684e-01 1.68982568e-02 2.76436178e-01]\n",
      " [2.81430835e-01 2.52646444e-01 2.20294785e-01 2.45627936e-01]\n",
      " [2.68264002e-01 3.76362796e-01 3.15905326e-01 3.94678768e-02]]\n",
      "[7.76254859e-02 1.09997525e-04 3.61832028e-01 5.60432489e-01]\n",
      "\n",
      "Initial values\n",
      "[[0.         1.         0.         0.        ]\n",
      " [0.         0.         1.         0.        ]\n",
      " [0.54819171 0.         0.         0.45180829]\n",
      " [0.63018735 0.         0.         0.36981265]]\n",
      "[[0.28091143 0.00260081 0.43141308 0.28507468]\n",
      " [0.27725454 0.26157888 0.20000889 0.26115768]\n",
      " [0.09972905 0.41371784 0.01206804 0.47448506]\n",
      " [0.24094784 0.26725151 0.34782094 0.14397971]]\n",
      "[0.19152753 0.29893667 0.17995657 0.32957923]\n"
     ]
    },
    {
     "name": "stderr",
     "output_type": "stream",
     "text": [
      "100%|██████████| 100/100 [00:10<00:00, 10.74it/s]"
     ]
    },
    {
     "name": "stdout",
     "output_type": "stream",
     "text": [
      "Estimation\n",
      "[[0.         1.         0.         0.        ]\n",
      " [0.         0.         1.         0.        ]\n",
      " [0.31999455 0.         0.         0.68000545]\n",
      " [0.18437613 0.         0.         0.81562387]]\n",
      "[[0.13772672 0.14532412 0.35379934 0.36314982]\n",
      " [0.02611055 0.15081302 0.00449955 0.81857687]\n",
      " [0.33286343 0.36456734 0.02165432 0.28091491]\n",
      " [0.27995656 0.22943016 0.37847053 0.11214275]]\n",
      "[0.03079525 0.24617236 0.28476589 0.43826651]\n"
     ]
    },
    {
     "name": "stderr",
     "output_type": "stream",
     "text": [
      "\n"
     ]
    }
   ],
   "source": [
    "n_samples = 2000\n",
    "iterations = 100\n",
    "for d in range(2):\n",
    "    dataset_string = pd.read_csv(\"data/Xtr{}.csv\".format(d), index_col=0)\n",
    "    dataset = [\n",
    "        translate(dna_string)\n",
    "        for dna_string in dataset_string.values[:, 0]\n",
    "    ]\n",
    "    new_A, new_B, new_pi = baum_welch_dna(dataset[:n_samples], iterations)\n",
    "    pd.DataFrame(new_A).to_csv(\"data/HMM_{}_A.csv\".format(d))\n",
    "    pd.DataFrame(new_B).to_csv(\"data/HMM_{}_B.csv\".format(d))\n",
    "    pd.DataFrame(pi).to_csv(\"data/HMM_{}_pi.csv\".format(d))"
   ]
  },
  {
   "cell_type": "code",
   "execution_count": null,
   "metadata": {},
   "outputs": [],
   "source": []
  }
 ],
 "metadata": {
  "kernelspec": {
   "display_name": "Python [conda env:optim]",
   "language": "python",
   "name": "conda-env-optim-py"
  },
  "language_info": {
   "codemirror_mode": {
    "name": "ipython",
    "version": 3
   },
   "file_extension": ".py",
   "mimetype": "text/x-python",
   "name": "python",
   "nbconvert_exporter": "python",
   "pygments_lexer": "ipython3",
   "version": "3.6.8"
  }
 },
 "nbformat": 4,
 "nbformat_minor": 2
}
