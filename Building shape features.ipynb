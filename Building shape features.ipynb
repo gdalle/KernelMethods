{
 "cells": [
  {
   "cell_type": "code",
   "execution_count": 261,
   "metadata": {},
   "outputs": [],
   "source": [
    "import numpy as np\n",
    "import pandas as pd\n",
    "import gzip\n",
    "import pickle"
   ]
  },
  {
   "cell_type": "code",
   "execution_count": 265,
   "metadata": {},
   "outputs": [],
   "source": [
    "def read_shape_file(shape):\n",
    "    sh = pd.read_csv('shape_data/'+shape+'.gz', skiprows=[0], sep = '\\t', error_bad_lines=False)\n",
    "    sh.columns = [shape]\n",
    "    #sh = sh[:100098]\n",
    "    sh = sh.dropna()\n",
    "    sh = sh[:sh.shape[0]-1]\n",
    "    sh = sh.reset_index(drop=True)\n",
    "    print('Built file with name '+ shape+' and with shape '+ str(sh.shape) )\n",
    "    return sh"
   ]
  },
  {
   "cell_type": "code",
   "execution_count": 266,
   "metadata": {},
   "outputs": [
    {
     "name": "stdout",
     "output_type": "stream",
     "text": [
      "Built file with name helt and with shape (100000, 1)\n",
      "Built file with name prot and with shape (100000, 1)\n",
      "Built file with name roll and with shape (100000, 1)\n",
      "Built file with name mgw and with shape (100000, 1)\n"
     ]
    }
   ],
   "source": [
    "helt = read_shape_file('helt')\n",
    "prot = read_shape_file('prot')\n",
    "roll = read_shape_file('roll')\n",
    "mgw = read_shape_file('mgw')"
   ]
  },
  {
   "cell_type": "markdown",
   "metadata": {},
   "source": [
    "## Open DNA sequence"
   ]
  },
  {
   "cell_type": "code",
   "execution_count": 267,
   "metadata": {},
   "outputs": [
    {
     "name": "stdout",
     "output_type": "stream",
     "text": [
      " 3422303 shape_data/chr6.fa\r\n"
     ]
    }
   ],
   "source": [
    "! wc -l 'shape_data/chr6.fa'"
   ]
  },
  {
   "cell_type": "markdown",
   "metadata": {},
   "source": [
    "50 nucleotides for each line, 171,115,150 nucleotides in total, almost perfect match with shape files"
   ]
  },
  {
   "cell_type": "markdown",
   "metadata": {},
   "source": [
    "Chromosome 6, middle part, 2,000,000 -> 2,100,000"
   ]
  },
  {
   "cell_type": "code",
   "execution_count": 268,
   "metadata": {},
   "outputs": [
    {
     "name": "stdout",
     "output_type": "stream",
     "text": [
      "skipped 40001\n",
      "included 2000\n"
     ]
    }
   ],
   "source": [
    "L = []\n",
    "i = 0\n",
    "skipped = 0\n",
    "with gzip.open('shape_data/chr6.fa.gz', 'rb') as f:\n",
    "    for line in f:\n",
    "        # skip 1+40k lines\n",
    "        if i<40001:\n",
    "            skipped +=1\n",
    "            pass\n",
    "        else:\n",
    "            # read 2000 lines\n",
    "            L.append(line[:-1].lower())\n",
    "            if i>=40001+2000-1:\n",
    "                break\n",
    "        i+=1\n",
    "print('skipped', skipped)\n",
    "print('included', len(L))"
   ]
  },
  {
   "cell_type": "markdown",
   "metadata": {},
   "source": [
    "## Match it using pentamers!"
   ]
  },
  {
   "cell_type": "code",
   "execution_count": 269,
   "metadata": {},
   "outputs": [
    {
     "data": {
      "text/plain": [
       "1024"
      ]
     },
     "execution_count": 269,
     "metadata": {},
     "output_type": "execute_result"
    }
   ],
   "source": [
    "4**5 #n_pentamers"
   ]
  },
  {
   "cell_type": "code",
   "execution_count": 270,
   "metadata": {},
   "outputs": [],
   "source": [
    "def get_pentamer(L, idx):\n",
    "    assert idx>=2 and idx < 99998, 'out of sequence'\n",
    "    q = idx//50\n",
    "    r = idx%50\n",
    "    \n",
    "    if r+2<50 and r-2>=0:\n",
    "        return L[q][r-2:r+2+1]\n",
    "    elif r+2>=50:\n",
    "        left = L[q][r-2:]\n",
    "        return left + L[q+1][:(5-len(left))]\n",
    "    elif r-2<0:\n",
    "        right = L[q][:r+2+1]\n",
    "        return L[q-1][(50-(5-len(right))):] + right"
   ]
  },
  {
   "cell_type": "code",
   "execution_count": 271,
   "metadata": {},
   "outputs": [],
   "source": [
    "def build_dict(shape_name, shape_df, mean = True):\n",
    "    dic = {}\n",
    "    for idx in range(2, 99998):\n",
    "        pent = get_pentamer(L, idx)\n",
    "        h = float(shape_df[shape_name][idx])\n",
    "        if pent not in dic.keys():\n",
    "            dic[pent] = [h]\n",
    "        else:\n",
    "            dic[pent].append(h)\n",
    "    if mean:\n",
    "        for k in dic.keys():\n",
    "            dic[k] = np.array(dic[k]).mean()\n",
    "    print(\"Built dictionary for shape \"+ shape_name+ \" and got \"+str(len(dic.keys()))+ ' entries')\n",
    "    return dic"
   ]
  },
  {
   "cell_type": "code",
   "execution_count": 272,
   "metadata": {},
   "outputs": [
    {
     "name": "stdout",
     "output_type": "stream",
     "text": [
      "Built dictionary for shape helt and got 1024 entries\n",
      "Built dictionary for shape prot and got 1024 entries\n",
      "Built dictionary for shape roll and got 1024 entries\n",
      "Built dictionary for shape mgw and got 1024 entries\n"
     ]
    }
   ],
   "source": [
    "dic_helt = build_dict('helt', helt)\n",
    "dic_prot = build_dict('prot', prot)\n",
    "dic_roll = build_dict('roll', roll)\n",
    "dic_mgw = build_dict('mgw', mgw)"
   ]
  },
  {
   "cell_type": "code",
   "execution_count": 274,
   "metadata": {},
   "outputs": [],
   "source": [
    "pickle.dump(dic_helt, open('shape_data/helt.frq', 'wb'))\n",
    "pickle.dump(dic_prot, open('shape_data/prot.frq', 'wb'))\n",
    "pickle.dump(dic_roll, open('shape_data/roll.frq', 'wb'))\n",
    "pickle.dump(dic_mgw, open('shape_data/mgw.frq', 'wb'))"
   ]
  },
  {
   "cell_type": "markdown",
   "metadata": {},
   "source": [
    "## Build shape features on dataset"
   ]
  },
  {
   "cell_type": "code",
   "execution_count": null,
   "metadata": {},
   "outputs": [],
   "source": []
  }
 ],
 "metadata": {
  "kernelspec": {
   "display_name": "Python 3",
   "language": "python",
   "name": "python3"
  },
  "language_info": {
   "codemirror_mode": {
    "name": "ipython",
    "version": 3
   },
   "file_extension": ".py",
   "mimetype": "text/x-python",
   "name": "python",
   "nbconvert_exporter": "python",
   "pygments_lexer": "ipython3",
   "version": "3.7.0"
  }
 },
 "nbformat": 4,
 "nbformat_minor": 2
}
