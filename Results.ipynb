{
 "cells": [
  {
   "cell_type": "markdown",
   "metadata": {},
   "source": [
    "*Crossvalidation Accuracy for Spectrum Kernels: best and most robust is exact spectr6 on all datasets.*\n",
    "\n",
    "| Dataset | spectr3 | spectr4 | spectr5 | spectr6 | spectr3h1 | spectr4h1 | spectr5h1 | spectr6+spectr5h1 | spectr6+spectr3h1 | spectr6h1 | translate3 |\n",
    "| --- | --- | --- | --- | --- | --- | --- | --- | --- | --- | --- | --- |\n",
    "| 1 | 0.585 | 0.598 | 0.602 | **0.620** | 0.598 |  0.596 | 0.597 | 0.613 | 0.623 | 0.616 | 0.556 |\n",
    "| 2 | 0.624 | 0.653 | 0.685 | **0.710** | 0.633 | 0.647  | 0.678 | 0.676 | 0.715 | 0.700 | 0.616 | \n",
    "| 3 | 0.612 | 0.614 | 0.611 | **0.635** | 0.607 | 0.613  | 0.619 | 0.616 | 0.635 | 0.630 | 0.610 |"
   ]
  },
  {
   "cell_type": "code",
   "execution_count": null,
   "metadata": {},
   "outputs": [],
   "source": []
  }
 ],
 "metadata": {
  "kernelspec": {
   "display_name": "Python 3",
   "language": "python",
   "name": "python3"
  },
  "language_info": {
   "codemirror_mode": {
    "name": "ipython",
    "version": 3
   },
   "file_extension": ".py",
   "mimetype": "text/x-python",
   "name": "python",
   "nbconvert_exporter": "python",
   "pygments_lexer": "ipython3",
   "version": "3.6.8"
  }
 },
 "nbformat": 4,
 "nbformat_minor": 2
}
