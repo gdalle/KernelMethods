{
 "cells": [
  {
   "cell_type": "markdown",
   "metadata": {},
   "source": [
    "# Kernel methods for biological sequence classification\n",
    "\n",
    "MVA 2019 - Kernel methods for machine learning\n",
    "\n",
    "*Éloïse Berthier, Guillaume Dalle, Clément Mantoux*"
   ]
  },
  {
   "cell_type": "code",
   "execution_count": 1,
   "metadata": {
    "ExecuteTime": {
     "end_time": "2019-03-13T17:04:02.727693Z",
     "start_time": "2019-03-13T17:04:02.701917Z"
    }
   },
   "outputs": [],
   "source": [
    "%load_ext autoreload\n",
    "%autoreload 2"
   ]
  },
  {
   "cell_type": "code",
   "execution_count": 2,
   "metadata": {
    "ExecuteTime": {
     "end_time": "2019-03-13T17:04:03.754613Z",
     "start_time": "2019-03-13T17:04:02.729981Z"
    }
   },
   "outputs": [],
   "source": [
    "import numpy as np"
   ]
  },
  {
   "cell_type": "code",
   "execution_count": 3,
   "metadata": {
    "ExecuteTime": {
     "end_time": "2019-03-13T17:04:06.486910Z",
     "start_time": "2019-03-13T17:04:03.757557Z"
    }
   },
   "outputs": [],
   "source": [
    "import backend\n",
    "from kernels import *"
   ]
  },
  {
   "cell_type": "markdown",
   "metadata": {},
   "source": [
    "Kernel computed on the fly on imported data"
   ]
  },
  {
   "cell_type": "code",
   "execution_count": 4,
   "metadata": {
    "ExecuteTime": {
     "end_time": "2019-03-13T17:04:09.326261Z",
     "start_time": "2019-03-13T17:04:06.491530Z"
    }
   },
   "outputs": [],
   "source": [
    "kernels1a = LinearKernel().load(\"mat100\", indices=[0, 1, 2])\n",
    "kernels1b = GaussianKernel(0.1).load(\"mat100\", indices=[0, 1, 2])"
   ]
  },
  {
   "cell_type": "markdown",
   "metadata": {},
   "source": [
    "Linear kernel computed on the fly on imported features"
   ]
  },
  {
   "cell_type": "code",
   "execution_count": 5,
   "metadata": {
    "ExecuteTime": {
     "end_time": "2019-03-13T17:04:31.565460Z",
     "start_time": "2019-03-13T17:04:09.328546Z"
    }
   },
   "outputs": [],
   "source": [
    "kernels2a = FeatureCSVKernel(\"SpectralKernel6\", {}).load(\"spectr6\", indices=[0, 1, 2])\n",
    "kernels2b = FeatureCSVKernel(\"SpectralKernel4\", {}).load(\"spectr4\", indices=[0, 1, 2])\n",
    "kernels2c = FeatureCSVKernel(\"TranslatedKernel\", {}).load(\"trans6\", indices=[0, 1, 2])\n",
    "kernels2d = FeatureCSVKernel(\"TfIdfKernel6\", {}).load(\"tfidf6\", indices=[0, 1, 2])"
   ]
  },
  {
   "cell_type": "markdown",
   "metadata": {},
   "source": [
    "Precomputed kernel defined from stored Gram matrices"
   ]
  },
  {
   "cell_type": "code",
   "execution_count": 6,
   "metadata": {
    "ExecuteTime": {
     "end_time": "2019-03-13T17:04:34.831277Z",
     "start_time": "2019-03-13T17:04:31.567300Z"
    }
   },
   "outputs": [],
   "source": [
    "kernels3 = GramCSVKernel(\"SubstringKernel\", {}).load(\"substring4_0.7\", indices=[0, 1])"
   ]
  },
  {
   "cell_type": "markdown",
   "metadata": {},
   "source": [
    "Gaussian spectrum kernel"
   ]
  },
  {
   "cell_type": "code",
   "execution_count": 44,
   "metadata": {
    "ExecuteTime": {
     "end_time": "2019-03-13T17:04:36.926835Z",
     "start_time": "2019-03-13T17:04:34.833001Z"
    }
   },
   "outputs": [],
   "source": [
    "kernels4 = CauchyKernel(0.004).load(\"spectr6\", indices=[0, 1, 2])#+CauchyKernel(0.1).load(\"spectr6\",\n",
    "                                 #indices=[1])+CauchyKernel(0.5).load(\"spectr6\", indices=[0]) # 0.005 is cool!"
   ]
  },
  {
   "cell_type": "markdown",
   "metadata": {},
   "source": [
    "Boosting for Spectrum6 (better than Spectrum 4 and 5)"
   ]
  },
  {
   "cell_type": "code",
   "execution_count": 8,
   "metadata": {
    "ExecuteTime": {
     "end_time": "2019-03-13T17:05:10.965426Z",
     "start_time": "2019-03-13T17:04:36.928082Z"
    }
   },
   "outputs": [
    {
     "name": "stderr",
     "output_type": "stream",
     "text": [
      "100%|██████████| 20/20 [00:16<00:00,  1.30it/s]\n",
      " 20%|██        | 4/20 [00:03<00:12,  1.26it/s]\n"
     ]
    },
    {
     "ename": "KeyboardInterrupt",
     "evalue": "",
     "output_type": "error",
     "traceback": [
      "\u001b[0;31m---------------------------------------------------------------------------\u001b[0m",
      "\u001b[0;31mKeyboardInterrupt\u001b[0m                         Traceback (most recent call last)",
      "\u001b[0;32m<ipython-input-8-e7bd62c1cc51>\u001b[0m in \u001b[0;36m<module>\u001b[0;34m()\u001b[0m\n\u001b[0;32m----> 1\u001b[0;31m \u001b[0mkernelsBoost\u001b[0m \u001b[0;34m=\u001b[0m \u001b[0mBoostingKernel\u001b[0m\u001b[0;34m(\u001b[0m\u001b[0mLinearKernel\u001b[0m\u001b[0;34m(\u001b[0m\u001b[0;34m)\u001b[0m\u001b[0;34m,\u001b[0m \u001b[0miterations\u001b[0m\u001b[0;34m=\u001b[0m\u001b[0;36m20\u001b[0m\u001b[0;34m)\u001b[0m\u001b[0;34m.\u001b[0m\u001b[0mload\u001b[0m\u001b[0;34m(\u001b[0m\u001b[0;34m\"spectr6\"\u001b[0m\u001b[0;34m,\u001b[0m \u001b[0;34m[\u001b[0m\u001b[0;36m0\u001b[0m\u001b[0;34m,\u001b[0m\u001b[0;36m1\u001b[0m\u001b[0;34m,\u001b[0m\u001b[0;36m2\u001b[0m\u001b[0;34m]\u001b[0m\u001b[0;34m)\u001b[0m\u001b[0;34m\u001b[0m\u001b[0m\n\u001b[0m",
      "\u001b[0;32m~/Documents/MVA/Kernel Methods/KernelMethods/kernels.py\u001b[0m in \u001b[0;36mload\u001b[0;34m(self, suffix, indices)\u001b[0m\n\u001b[1;32m    247\u001b[0m             \u001b[0mXtr\u001b[0m \u001b[0;34m=\u001b[0m \u001b[0;34m(\u001b[0m\u001b[0mXtr\u001b[0m \u001b[0;34m-\u001b[0m \u001b[0mm\u001b[0m\u001b[0;34m)\u001b[0m \u001b[0;34m/\u001b[0m \u001b[0ms\u001b[0m\u001b[0;34m\u001b[0m\u001b[0m\n\u001b[1;32m    248\u001b[0m             \u001b[0mXte\u001b[0m \u001b[0;34m=\u001b[0m \u001b[0;34m(\u001b[0m\u001b[0mXte\u001b[0m \u001b[0;34m-\u001b[0m \u001b[0mm\u001b[0m\u001b[0;34m)\u001b[0m \u001b[0;34m/\u001b[0m \u001b[0ms\u001b[0m\u001b[0;34m\u001b[0m\u001b[0m\n\u001b[0;32m--> 249\u001b[0;31m             \u001b[0mKtr\u001b[0m\u001b[0;34m,\u001b[0m \u001b[0mKte\u001b[0m \u001b[0;34m=\u001b[0m \u001b[0mkernel_boosting\u001b[0m\u001b[0;34m(\u001b[0m\u001b[0mself\u001b[0m\u001b[0;34m.\u001b[0m\u001b[0mvector_kernel\u001b[0m\u001b[0;34m,\u001b[0m \u001b[0mXtr\u001b[0m\u001b[0;34m,\u001b[0m \u001b[0mYtr\u001b[0m\u001b[0;34m,\u001b[0m \u001b[0mXte\u001b[0m\u001b[0;34m,\u001b[0m \u001b[0mself\u001b[0m\u001b[0;34m.\u001b[0m\u001b[0miterations\u001b[0m\u001b[0;34m)\u001b[0m\u001b[0;34m\u001b[0m\u001b[0m\n\u001b[0m\u001b[1;32m    250\u001b[0m             \u001b[0mk\u001b[0m\u001b[0;34m.\u001b[0m\u001b[0mtrain_matrix\u001b[0m \u001b[0;34m=\u001b[0m \u001b[0mKtr\u001b[0m\u001b[0;34m\u001b[0m\u001b[0m\n\u001b[1;32m    251\u001b[0m             \u001b[0mk\u001b[0m\u001b[0;34m.\u001b[0m\u001b[0mtest_matrix\u001b[0m \u001b[0;34m=\u001b[0m \u001b[0mKte\u001b[0m\u001b[0;34m\u001b[0m\u001b[0m\n",
      "\u001b[0;32m~/Documents/MVA/Kernel Methods/KernelMethods/classification.py\u001b[0m in \u001b[0;36mkernel_boosting\u001b[0;34m(K0, Xtr, Ytr, Xte, steps)\u001b[0m\n\u001b[1;32m    152\u001b[0m         \u001b[0mSp\u001b[0m \u001b[0;34m=\u001b[0m \u001b[0;34m(\u001b[0m\u001b[0mYtr\u001b[0m \u001b[0;34m*\u001b[0m \u001b[0mYtr\u001b[0m\u001b[0;34m.\u001b[0m\u001b[0mT\u001b[0m\u001b[0;34m)\u001b[0m \u001b[0;34m*\u001b[0m \u001b[0mKtr_t\u001b[0m \u001b[0;34m>\u001b[0m \u001b[0;36m0\u001b[0m\u001b[0;34m\u001b[0m\u001b[0m\n\u001b[1;32m    153\u001b[0m         \u001b[0mSm\u001b[0m \u001b[0;34m=\u001b[0m \u001b[0;34m(\u001b[0m\u001b[0mYtr\u001b[0m \u001b[0;34m*\u001b[0m \u001b[0mYtr\u001b[0m\u001b[0;34m.\u001b[0m\u001b[0mT\u001b[0m\u001b[0;34m)\u001b[0m \u001b[0;34m*\u001b[0m \u001b[0mKtr_t\u001b[0m \u001b[0;34m<\u001b[0m \u001b[0;36m0\u001b[0m\u001b[0;34m\u001b[0m\u001b[0m\n\u001b[0;32m--> 154\u001b[0;31m         \u001b[0mWp\u001b[0m \u001b[0;34m=\u001b[0m \u001b[0mnp\u001b[0m\u001b[0;34m.\u001b[0m\u001b[0msum\u001b[0m\u001b[0;34m(\u001b[0m\u001b[0mD\u001b[0m\u001b[0;34m[\u001b[0m\u001b[0mSp\u001b[0m\u001b[0;34m]\u001b[0m \u001b[0;34m*\u001b[0m \u001b[0mnp\u001b[0m\u001b[0;34m.\u001b[0m\u001b[0mabs\u001b[0m\u001b[0;34m(\u001b[0m\u001b[0mKtr_t\u001b[0m\u001b[0;34m[\u001b[0m\u001b[0mSp\u001b[0m\u001b[0;34m]\u001b[0m\u001b[0;34m)\u001b[0m\u001b[0;34m)\u001b[0m\u001b[0;34m\u001b[0m\u001b[0m\n\u001b[0m\u001b[1;32m    155\u001b[0m         \u001b[0mWm\u001b[0m \u001b[0;34m=\u001b[0m \u001b[0mnp\u001b[0m\u001b[0;34m.\u001b[0m\u001b[0msum\u001b[0m\u001b[0;34m(\u001b[0m\u001b[0mD\u001b[0m\u001b[0;34m[\u001b[0m\u001b[0mSm\u001b[0m\u001b[0;34m]\u001b[0m \u001b[0;34m*\u001b[0m \u001b[0mnp\u001b[0m\u001b[0;34m.\u001b[0m\u001b[0mabs\u001b[0m\u001b[0;34m(\u001b[0m\u001b[0mKtr_t\u001b[0m\u001b[0;34m[\u001b[0m\u001b[0mSm\u001b[0m\u001b[0;34m]\u001b[0m\u001b[0;34m)\u001b[0m\u001b[0;34m)\u001b[0m\u001b[0;34m\u001b[0m\u001b[0m\n\u001b[1;32m    156\u001b[0m         \u001b[0malpha\u001b[0m \u001b[0;34m=\u001b[0m \u001b[0;36m0.5\u001b[0m \u001b[0;34m*\u001b[0m \u001b[0mnp\u001b[0m\u001b[0;34m.\u001b[0m\u001b[0mlog\u001b[0m\u001b[0;34m(\u001b[0m\u001b[0mWp\u001b[0m \u001b[0;34m/\u001b[0m \u001b[0mWm\u001b[0m\u001b[0;34m)\u001b[0m\u001b[0;34m\u001b[0m\u001b[0m\n",
      "\u001b[0;31mKeyboardInterrupt\u001b[0m: "
     ]
    }
   ],
   "source": [
    "kernelsBoost = BoostingKernel(LinearKernel(), iterations=20).load(\"spectr6\", [0,1,2])"
   ]
  },
  {
   "cell_type": "markdown",
   "metadata": {},
   "source": [
    "Parameter tuning"
   ]
  },
  {
   "cell_type": "code",
   "execution_count": 51,
   "metadata": {
    "ExecuteTime": {
     "end_time": "2019-03-13T17:05:10.995116Z",
     "start_time": "2019-03-13T17:05:10.968008Z"
    }
   },
   "outputs": [],
   "source": [
    "lambdas = np.logspace(-5, -2, 5)"
   ]
  },
  {
   "cell_type": "code",
   "execution_count": null,
   "metadata": {
    "ExecuteTime": {
     "end_time": "2019-03-13T17:05:38.954338Z",
     "start_time": "2019-03-13T17:05:10.996738Z"
    }
   },
   "outputs": [
    {
     "name": "stderr",
     "output_type": "stream",
     "text": [
      "\n",
      "\n",
      "\n",
      "\n",
      "\n",
      "Tuning lambda on dataset 0 with kernel CauchyKernel and params {'sigma': 0.004, 'center': True, 'suffix': 'spectr6'}:   0%|          | 0/5 [00:00<?, ?it/s]\u001b[A\u001b[A\u001b[A\u001b[A\u001b[A\n",
      "\n",
      "\n",
      "\n",
      "\n",
      "Tuning lambda on dataset 0 with kernel CauchyKernel and params {'sigma': 0.004, 'center': True, 'suffix': 'spectr6'}:  20%|██        | 1/5 [00:04<00:16,  4.01s/it]\u001b[A\u001b[A\u001b[A\u001b[A\u001b[A\n",
      "\n",
      "\n",
      "\n",
      "\n",
      "Tuning lambda on dataset 0 with kernel CauchyKernel and params {'sigma': 0.004, 'center': True, 'suffix': 'spectr6'}:  40%|████      | 2/5 [00:06<00:10,  3.66s/it]\u001b[A\u001b[A\u001b[A\u001b[A\u001b[A\n",
      "\n",
      "\n",
      "\n",
      "\n",
      "Tuning lambda on dataset 0 with kernel CauchyKernel and params {'sigma': 0.004, 'center': True, 'suffix': 'spectr6'}:  60%|██████    | 3/5 [00:10<00:07,  3.80s/it]\u001b[A\u001b[A\u001b[A\u001b[A\u001b[A\n",
      "\n",
      "\n",
      "\n",
      "\n",
      "Tuning lambda on dataset 0 with kernel CauchyKernel and params {'sigma': 0.004, 'center': True, 'suffix': 'spectr6'}:  80%|████████  | 4/5 [00:13<00:03,  3.40s/it]\u001b[A\u001b[A\u001b[A\u001b[A\u001b[A\n",
      "\n",
      "\n",
      "\n",
      "\n",
      "Tuning lambda on dataset 0 with kernel CauchyKernel and params {'sigma': 0.004, 'center': True, 'suffix': 'spectr6'}: 100%|██████████| 5/5 [00:16<00:00,  3.19s/it]\u001b[A\u001b[A\u001b[A\u001b[A\u001b[A\n",
      "\n",
      "\n",
      "\n",
      "\n",
      "\u001b[A\u001b[A\u001b[A\u001b[A\u001b[A"
     ]
    },
    {
     "data": {
      "image/png": "[encoded data removed]",
      "text/plain": [
       "<Figure size 432x288 with 1 Axes>"
      ]
     },
     "metadata": {
      "needs_background": "light"
     },
     "output_type": "display_data"
    },
    {
     "name": "stderr",
     "output_type": "stream",
     "text": [
      "\n",
      "\n",
      "\n",
      "\n",
      "\n",
      "Tuning lambda on dataset 1 with kernel CauchyKernel and params {'sigma': 0.004, 'center': True, 'suffix': 'spectr6'}:   0%|          | 0/5 [00:00<?, ?it/s]\u001b[A\u001b[A\u001b[A\u001b[A\u001b[A\n",
      "\n",
      "\n",
      "\n",
      "\n",
      "Tuning lambda on dataset 1 with kernel CauchyKernel and params {'sigma': 0.004, 'center': True, 'suffix': 'spectr6'}:  20%|██        | 1/5 [00:03<00:14,  3.60s/it]\u001b[A\u001b[A\u001b[A\u001b[A\u001b[A\n",
      "\n",
      "\n",
      "\n",
      "\n",
      "Tuning lambda on dataset 1 with kernel CauchyKernel and params {'sigma': 0.004, 'center': True, 'suffix': 'spectr6'}:  40%|████      | 2/5 [00:06<00:10,  3.52s/it]\u001b[A\u001b[A\u001b[A\u001b[A\u001b[A\n",
      "\n",
      "\n",
      "\n",
      "\n",
      "Tuning lambda on dataset 1 with kernel CauchyKernel and params {'sigma': 0.004, 'center': True, 'suffix': 'spectr6'}:  60%|██████    | 3/5 [00:09<00:06,  3.23s/it]\u001b[A\u001b[A\u001b[A\u001b[A\u001b[A\n",
      "\n",
      "\n",
      "\n",
      "\n",
      "Tuning lambda on dataset 1 with kernel CauchyKernel and params {'sigma': 0.004, 'center': True, 'suffix': 'spectr6'}:  80%|████████  | 4/5 [00:12<00:03,  3.12s/it]\u001b[A\u001b[A\u001b[A\u001b[A\u001b[A\n",
      "\n",
      "\n",
      "\n",
      "\n",
      "Tuning lambda on dataset 1 with kernel CauchyKernel and params {'sigma': 0.004, 'center': True, 'suffix': 'spectr6'}: 100%|██████████| 5/5 [00:15<00:00,  3.15s/it]\u001b[A\u001b[A\u001b[A\u001b[A\u001b[A\n",
      "\n",
      "\n",
      "\n",
      "\n",
      "\u001b[A\u001b[A\u001b[A\u001b[A\u001b[A"
     ]
    },
    {
     "data": {
      "image/png": "[encoded data removed]",
      "text/plain": [
       "<Figure size 432x288 with 1 Axes>"
      ]
     },
     "metadata": {
      "needs_background": "light"
     },
     "output_type": "display_data"
    },
    {
     "name": "stderr",
     "output_type": "stream",
     "text": [
      "\n",
      "\n",
      "\n",
      "\n",
      "\n",
      "Tuning lambda on dataset 2 with kernel CauchyKernel and params {'sigma': 0.004, 'center': True, 'suffix': 'spectr6'}:   0%|          | 0/5 [00:00<?, ?it/s]\u001b[A\u001b[A\u001b[A\u001b[A\u001b[A\n",
      "\n",
      "\n",
      "\n",
      "\n",
      "Tuning lambda on dataset 2 with kernel CauchyKernel and params {'sigma': 0.004, 'center': True, 'suffix': 'spectr6'}:  20%|██        | 1/5 [00:04<00:17,  4.40s/it]\u001b[A\u001b[A\u001b[A\u001b[A\u001b[A\n",
      "\n",
      "\n",
      "\n",
      "\n",
      "Tuning lambda on dataset 2 with kernel CauchyKernel and params {'sigma': 0.004, 'center': True, 'suffix': 'spectr6'}:  40%|████      | 2/5 [00:07<00:12,  4.13s/it]\u001b[A\u001b[A\u001b[A\u001b[A\u001b[A\n",
      "\n",
      "\n",
      "\n",
      "\n",
      "Tuning lambda on dataset 2 with kernel CauchyKernel and params {'sigma': 0.004, 'center': True, 'suffix': 'spectr6'}:  60%|██████    | 3/5 [00:11<00:08,  4.02s/it]\u001b[A\u001b[A\u001b[A\u001b[A\u001b[A\n",
      "\n",
      "\n",
      "\n",
      "\n",
      "Tuning lambda on dataset 2 with kernel CauchyKernel and params {'sigma': 0.004, 'center': True, 'suffix': 'spectr6'}:  80%|████████  | 4/5 [00:14<00:03,  3.65s/it]\u001b[A\u001b[A\u001b[A\u001b[A\u001b[A"
     ]
    }
   ],
   "source": [
    "three_kernels = []\n",
    "three_lambdas = []\n",
    "\n",
    "use_multiple_kernel = False\n",
    "\n",
    "for d in [0, 1, 2]:\n",
    "    \n",
    "    kernels_to_combine_or_compare = [\n",
    "#        kernels1a[d],\n",
    "#         kernels1b[d],\n",
    "#         kernels2a[d],\n",
    "#         kernels2b[d],\n",
    "#         kernels2c[d],\n",
    "#         kernels2d[d],\n",
    "         kernels4[d]\n",
    "#         kernelsBoost[d]\n",
    "    ]\n",
    "#     if d != 2:\n",
    "#         kernels_to_combine_or_compare.append(kernels3[0])\n",
    "\n",
    "    if use_multiple_kernel:\n",
    "        best_kernel = MultipleKernel(\n",
    "            kernels_to_combine_or_compare,\n",
    "            grad_step=1, iterations=3,\n",
    "            entropic=1\n",
    "        )\n",
    "        best_lambd = backend.tune_parameters(\n",
    "            [best_kernel], lambdas,\n",
    "            plot=True, result=\"best_lambdas\")[0]\n",
    "        \n",
    "    else:\n",
    "        best_kernel, best_lambd = backend.tune_parameters(\n",
    "            kernels_to_combine_or_compare, lambdas,\n",
    "            plot=True, result=\"best_kernel_lambda\")\n",
    "        \n",
    "    three_kernels.append(best_kernel)\n",
    "    three_lambdas.append(best_lambd)"
   ]
  },
  {
   "cell_type": "code",
   "execution_count": null,
   "metadata": {
    "ExecuteTime": {
     "end_time": "2019-03-13T17:05:40.768819Z",
     "start_time": "2019-03-13T17:05:38.956223Z"
    }
   },
   "outputs": [],
   "source": [
    "backend.final_prediction(three_kernels, three_lambdas)"
   ]
  },
  {
   "cell_type": "markdown",
   "metadata": {},
   "source": [
    "Fast test for boosting kernels :"
   ]
  },
  {
   "cell_type": "code",
   "execution_count": 12,
   "metadata": {
    "ExecuteTime": {
     "end_time": "2019-03-13T17:06:16.401235Z",
     "start_time": "2019-03-13T17:05:40.770378Z"
    }
   },
   "outputs": [
    {
     "name": "stderr",
     "output_type": "stream",
     "text": [
      "100%|██████████| 20/20 [00:08<00:00,  2.56it/s]\n",
      "100%|██████████| 20/20 [00:07<00:00,  2.26it/s]\n",
      "100%|██████████| 20/20 [00:07<00:00,  2.62it/s]\n"
     ]
    }
   ],
   "source": [
    "kernels = BoostingKernel(LinearKernel(), iterations=20).load(\"spectr6\", [0,1,2])"
   ]
  },
  {
   "cell_type": "code",
   "execution_count": 13,
   "metadata": {
    "ExecuteTime": {
     "end_time": "2019-03-13T17:06:21.424791Z",
     "start_time": "2019-03-13T17:06:16.402972Z"
    }
   },
   "outputs": [
    {
     "name": "stdout",
     "output_type": "stream",
     "text": [
      "Dataset 0\n",
      "0.7465\n",
      "Dataset 1\n",
      "0.795\n",
      "Dataset 2\n",
      "0.7205\n"
     ]
    }
   ],
   "source": [
    "for d in [0,1,2]:\n",
    "    print(\"Dataset \"+str(d))\n",
    "    print(backend.cross_validate(kernels[d], 0.01)[1].mean())"
   ]
  }
 ],
 "metadata": {
  "kernelspec": {
   "display_name": "Python 3",
   "language": "python",
   "name": "python3"
  },
  "language_info": {
   "codemirror_mode": {
    "name": "ipython",
    "version": 3
   },
   "file_extension": ".py",
   "mimetype": "text/x-python",
   "name": "python",
   "nbconvert_exporter": "python",
   "pygments_lexer": "ipython3",
   "version": "3.7.0"
  }
 },
 "nbformat": 4,
 "nbformat_minor": 2
}
