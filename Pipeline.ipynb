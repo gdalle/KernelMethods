{
 "cells": [
  {
   "cell_type": "markdown",
   "metadata": {},
   "source": [
    "# Kernel methods for biological sequence classification\n",
    "\n",
    "MVA 2019 - Kernel methods for machine learning\n",
    "\n",
    "*Éloïse Berthier, Guillaume Dalle, Clément Mantoux*"
   ]
  },
  {
   "cell_type": "code",
   "execution_count": 1,
   "metadata": {
    "ExecuteTime": {
     "end_time": "2019-03-13T17:04:02.727693Z",
     "start_time": "2019-03-13T17:04:02.701917Z"
    }
   },
   "outputs": [],
   "source": [
    "%load_ext autoreload\n",
    "%autoreload 2"
   ]
  },
  {
   "cell_type": "code",
   "execution_count": 2,
   "metadata": {
    "ExecuteTime": {
     "end_time": "2019-03-13T17:04:03.754613Z",
     "start_time": "2019-03-13T17:04:02.729981Z"
    }
   },
   "outputs": [],
   "source": [
    "import numpy as np"
   ]
  },
  {
   "cell_type": "code",
   "execution_count": 3,
   "metadata": {
    "ExecuteTime": {
     "end_time": "2019-03-13T17:04:06.486910Z",
     "start_time": "2019-03-13T17:04:03.757557Z"
    }
   },
   "outputs": [],
   "source": [
    "import backend\n",
    "from kernels import *"
   ]
  },
  {
   "cell_type": "markdown",
   "metadata": {},
   "source": [
    "Kernel computed on the fly on imported data"
   ]
  },
  {
   "cell_type": "code",
   "execution_count": 4,
   "metadata": {
    "ExecuteTime": {
     "end_time": "2019-03-13T17:04:09.326261Z",
     "start_time": "2019-03-13T17:04:06.491530Z"
    }
   },
   "outputs": [],
   "source": [
    "kernels1a = LinearKernel().load(\"mat100\", indices=[0, 1, 2])\n",
    "kernels1b = GaussianKernel(0.1).load(\"mat100\", indices=[0, 1, 2])"
   ]
  },
  {
   "cell_type": "markdown",
   "metadata": {},
   "source": [
    "Linear kernel computed on the fly on imported features"
   ]
  },
  {
   "cell_type": "code",
   "execution_count": 5,
   "metadata": {
    "ExecuteTime": {
     "end_time": "2019-03-13T17:04:31.565460Z",
     "start_time": "2019-03-13T17:04:09.328546Z"
    }
   },
   "outputs": [],
   "source": [
    "kernels2a = FeatureCSVKernel(\"SpectralKernel6\", {}).load(\"spectr6\", indices=[0, 1, 2])\n",
    "kernels2b = FeatureCSVKernel(\"SpectralKernel4\", {}).load(\"spectr4\", indices=[0, 1, 2])\n",
    "kernels2c = FeatureCSVKernel(\"TranslatedKernel\", {}).load(\"trans6\", indices=[0, 1, 2])\n",
    "kernels2d = FeatureCSVKernel(\"TfIdfKernel6\", {}).load(\"tfidf6\", indices=[0, 1, 2])"
   ]
  },
  {
   "cell_type": "markdown",
   "metadata": {},
   "source": [
    "Precomputed kernel defined from stored Gram matrices"
   ]
  },
  {
   "cell_type": "code",
   "execution_count": 16,
   "metadata": {
    "ExecuteTime": {
     "end_time": "2019-03-13T17:04:34.831277Z",
     "start_time": "2019-03-13T17:04:31.567300Z"
    }
   },
   "outputs": [],
   "source": [
    "kernels3 = GramCSVKernel(\"SubstringKernel\", {}).load(\"substring4_0.7\", indices=[0, 1])"
   ]
  },
  {
   "cell_type": "markdown",
   "metadata": {},
   "source": [
    "Gaussian spectrum kernel"
   ]
  },
  {
   "cell_type": "code",
   "execution_count": 5,
   "metadata": {
    "ExecuteTime": {
     "end_time": "2019-03-13T17:04:36.926835Z",
     "start_time": "2019-03-13T17:04:34.833001Z"
    }
   },
   "outputs": [],
   "source": [
    "#kernels4 = CauchyKernel(0.005).load(\"spectr6\", indices=[0, 1, 2])#+CauchyKernel(0.1).load(\"spectr6\",\n",
    "#                                 indices=[1])+CauchyKernel(0.5).load(\"spectr6\", indices=[0]) # 0.005 is cool!"
   ]
  },
  {
   "cell_type": "code",
   "execution_count": 11,
   "metadata": {},
   "outputs": [],
   "source": [
    "kernels5 = GaussianKernel(80).load(\"spectr6\", indices=[0, 1, 2])#+CauchyKernel(0.1).load(\"spectr6\",\n",
    "                                 #indices=[1])+CauchyKernel(0.5).load(\"spectr6\", indices=[0]) # 1e2 -> 0.68 same - 50"
   ]
  },
  {
   "cell_type": "code",
   "execution_count": 6,
   "metadata": {},
   "outputs": [],
   "source": [
    "kernels6 = GaussianKernel(50).load(\"shapespectr4\", indices=[0, 1, 2]) # good good"
   ]
  },
  {
   "cell_type": "code",
   "execution_count": 7,
   "metadata": {},
   "outputs": [],
   "source": [
    "kernels7 = GaussianKernel(20).load(\"trans6\", indices=[0, 1, 2]) # good good"
   ]
  },
  {
   "cell_type": "code",
   "execution_count": 33,
   "metadata": {},
   "outputs": [],
   "source": [
    "kernels8 = GaussianKernel(50).load(\"tfidf6\", indices=[0, 1, 2])"
   ]
  },
  {
   "cell_type": "code",
   "execution_count": 38,
   "metadata": {},
   "outputs": [],
   "source": [
    "kernels9 = GaussianKernel(10).load(\"HMM_MCK2\", indices=[0, 1, 2])"
   ]
  },
  {
   "cell_type": "markdown",
   "metadata": {},
   "source": [
    "Boosting for Spectrum6 (better than Spectrum 4 and 5)"
   ]
  },
  {
   "cell_type": "code",
   "execution_count": 93,
   "metadata": {
    "ExecuteTime": {
     "end_time": "2019-03-13T17:05:10.965426Z",
     "start_time": "2019-03-13T17:04:36.928082Z"
    }
   },
   "outputs": [],
   "source": [
    "#kernelsBoost = BoostingKernel(LinearKernel(), iterations=20).load(\"spectr6\", [0,1,2])"
   ]
  },
  {
   "cell_type": "markdown",
   "metadata": {},
   "source": [
    "Parameter tuning"
   ]
  },
  {
   "cell_type": "code",
   "execution_count": 41,
   "metadata": {
    "ExecuteTime": {
     "end_time": "2019-03-13T17:05:10.995116Z",
     "start_time": "2019-03-13T17:05:10.968008Z"
    }
   },
   "outputs": [],
   "source": [
    "lambdas = np.logspace(-4., -3.2, 5) #-4 -3.2"
   ]
  },
  {
   "cell_type": "code",
   "execution_count": null,
   "metadata": {
    "ExecuteTime": {
     "end_time": "2019-03-13T17:05:38.954338Z",
     "start_time": "2019-03-13T17:05:10.996738Z"
    },
    "scrolled": true
   },
   "outputs": [],
   "source": [
    "three_kernels = []\n",
    "three_lambdas = []\n",
    "\n",
    "use_multiple_kernel = True\n",
    "\n",
    "for d in [0, 1, 2]:\n",
    "    \n",
    "    kernels_to_combine_or_compare = [\n",
    "#        kernels1a[d],\n",
    "#         kernels1b[d],\n",
    "#         kernels2a[d],\n",
    "#         kernels2b[d],\n",
    "#         kernels2c[d],\n",
    "#         kernels2d[d],\n",
    "#        kernels4[d],\n",
    "#        kernels3[d],\n",
    "#        kernels5[d],\n",
    "         kernels6[d],\n",
    "        kernels7[d],\n",
    "       kernels8[d]\n",
    "#        kernels9[d]\n",
    "#         kernelsBoost[d]\n",
    "    ]\n",
    "#     if d != 2:\n",
    "#         kernels_to_combine_or_compare.append(kernels3[0])\n",
    "\n",
    "    if use_multiple_kernel:\n",
    "        best_kernel = MultipleKernel(\n",
    "            kernels_to_combine_or_compare,\n",
    "            grad_step=1, iterations=3,\n",
    "            entropic=1\n",
    "        )\n",
    "        best_lambd = backend.tune_parameters(\n",
    "            [best_kernel], lambdas,\n",
    "            plot=True, result=\"best_lambdas\")[0]\n",
    "        \n",
    "    else:\n",
    "        best_kernel, best_lambd = backend.tune_parameters(\n",
    "            kernels_to_combine_or_compare, lambdas,\n",
    "            plot=True, result=\"best_kernel_lambda\")\n",
    "        \n",
    "    three_kernels.append(best_kernel)\n",
    "    three_lambdas.append(best_lambd)"
   ]
  },
  {
   "cell_type": "code",
   "execution_count": null,
   "metadata": {},
   "outputs": [],
   "source": [
    "62 - 74 - 63 // 63 - 73 - 64"
   ]
  },
  {
   "cell_type": "code",
   "execution_count": 31,
   "metadata": {
    "ExecuteTime": {
     "end_time": "2019-03-13T17:05:40.768819Z",
     "start_time": "2019-03-13T17:05:38.956223Z"
    }
   },
   "outputs": [
    {
     "name": "stdout",
     "output_type": "stream",
     "text": [
      "DATASET 0\n",
      "Eta [0.36398327 0.28964685 0.34636988]\n",
      "Eta [0.29846082 0.38554377 0.31599542]\n",
      "Eta [0.43754041 0.18584615 0.37661344]\n",
      "DATASET 1\n",
      "Eta [0.34785515 0.28421513 0.36792971]\n",
      "Eta [0.31122135 0.39539666 0.29338199]\n",
      "Eta [0.38914237 0.15850278 0.45235485]\n",
      "DATASET 2\n",
      "Eta [0.35920482 0.25716738 0.3836278 ]\n",
      "Eta [0.29232247 0.43593082 0.27174671]\n",
      "Eta [0.43183446 0.0552384  0.51292714]\n"
     ]
    }
   ],
   "source": [
    "backend.final_prediction(three_kernels, three_lambdas)"
   ]
  },
  {
   "cell_type": "markdown",
   "metadata": {},
   "source": [
    "Fast test for boosting kernels :"
   ]
  },
  {
   "cell_type": "code",
   "execution_count": 12,
   "metadata": {
    "ExecuteTime": {
     "end_time": "2019-03-13T17:06:16.401235Z",
     "start_time": "2019-03-13T17:05:40.770378Z"
    }
   },
   "outputs": [
    {
     "name": "stderr",
     "output_type": "stream",
     "text": [
      "100%|██████████| 20/20 [00:08<00:00,  2.56it/s]\n",
      "100%|██████████| 20/20 [00:07<00:00,  2.26it/s]\n",
      "100%|██████████| 20/20 [00:07<00:00,  2.62it/s]\n"
     ]
    }
   ],
   "source": [
    "kernels = BoostingKernel(LinearKernel(), iterations=20).load(\"spectr6\", [0,1,2])"
   ]
  },
  {
   "cell_type": "code",
   "execution_count": 13,
   "metadata": {
    "ExecuteTime": {
     "end_time": "2019-03-13T17:06:21.424791Z",
     "start_time": "2019-03-13T17:06:16.402972Z"
    },
    "scrolled": true
   },
   "outputs": [
    {
     "name": "stdout",
     "output_type": "stream",
     "text": [
      "Dataset 0\n",
      "0.7465\n",
      "Dataset 1\n",
      "0.795\n",
      "Dataset 2\n",
      "0.7205\n"
     ]
    }
   ],
   "source": [
    "for d in [0,1,2]:\n",
    "    print(\"Dataset \"+str(d))\n",
    "    print(backend.cross_validate(kernels[d], 0.01)[1].mean())"
   ]
  }
 ],
 "metadata": {
  "kernelspec": {
   "display_name": "Python 3",
   "language": "python",
   "name": "python3"
  },
  "language_info": {
   "codemirror_mode": {
    "name": "ipython",
    "version": 3
   },
   "file_extension": ".py",
   "mimetype": "text/x-python",
   "name": "python",
   "nbconvert_exporter": "python",
   "pygments_lexer": "ipython3",
   "version": "3.6.8"
  }
 },
 "nbformat": 4,
 "nbformat_minor": 2
}
