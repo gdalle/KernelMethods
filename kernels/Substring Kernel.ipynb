{
 "cells": [
  {
   "cell_type": "code",
   "execution_count": 1,
   "metadata": {},
   "outputs": [],
   "source": [
    "import numpy as np\n",
    "import pandas as pd\n",
    "import matplotlib.pyplot as plt\n",
    "import itertools\n",
    "from tqdm import tqdm\n",
    "import numba\n",
    "from numba import jit"
   ]
  },
  {
   "cell_type": "markdown",
   "metadata": {},
   "source": [
    "## Import the datasets"
   ]
  },
  {
   "cell_type": "code",
   "execution_count": 43,
   "metadata": {},
   "outputs": [],
   "source": [
    "df = pd.read_csv('data/Xtr1.csv')\n",
    "df2 = pd.read_csv('data/Xte1.csv')\n",
    "df[\"Id\"] = range(2000)\n",
    "df = df.set_index(\"Id\")\n",
    "df2[\"Id\"] = 1000 + df2[\"Id\"]\n",
    "df2 = df2.set_index(\"Id\")\n",
    "df = pd.concat((df, df2), axis=0)"
   ]
  },
  {
   "cell_type": "markdown",
   "metadata": {},
   "source": [
    "NB: We are only interested in $K(Xtr, Xtr)$ and $K(Xtr, Xte)$."
   ]
  },
  {
   "cell_type": "markdown",
   "metadata": {},
   "source": [
    "## Substring Kernel"
   ]
  },
  {
   "cell_type": "markdown",
   "metadata": {},
   "source": [
    "All sequences is this set have length 101.\n",
    "\n",
    "We have two parameters $k$ and $\\lambda$.\n",
    "\n",
    "Let $u \\in A^k$. If $i=(i_1, ..., i_k)$, let $x(i)=x_{i_1}...x_{i_k}$. We define :\n",
    "$\\Phi_u(x) = \\sum_{i, x(i) = u} \\lambda^{i_k - i_1 + 1}$"
   ]
  },
  {
   "cell_type": "code",
   "execution_count": 44,
   "metadata": {},
   "outputs": [],
   "source": [
    "k = 4\n",
    "lambd = 0.7\n",
    "letters = [\"A\", \"C\", \"G\", \"T\"]\n",
    "index = np.arange(85)\n",
    "for i in range(4):\n",
    "    index[ord(letters[i])] = i"
   ]
  },
  {
   "cell_type": "markdown",
   "metadata": {},
   "source": [
    "The dot product is computed recursively using auxiliary quantities defined p. 353 and 356."
   ]
  },
  {
   "cell_type": "code",
   "execution_count": 45,
   "metadata": {},
   "outputs": [],
   "source": [
    "def one_hot(s):\n",
    "    \"\"\"\n",
    "    Input : string\n",
    "    Output : n*4 0/1 matrix\n",
    "    \"\"\"\n",
    "    result = np.zeros((len(s), 4))\n",
    "    array = np.array(list(s))\n",
    "    for i in range(4):\n",
    "        result[:, i] = (array == letters[i])\n",
    "    return result"
   ]
  },
  {
   "cell_type": "markdown",
   "metadata": {},
   "source": [
    "Pre-computes the one-hot encodings of the DNA sequences :"
   ]
  },
  {
   "cell_type": "code",
   "execution_count": 46,
   "metadata": {},
   "outputs": [],
   "source": [
    "one_hots = np.zeros((df.shape[0], len(df[\"seq\"][0]), 4))\n",
    "for i in range(df.shape[0]):\n",
    "    one_hots[i] = one_hot(df[\"seq\"][i])\n",
    "\n",
    "df_int = one_hots.argmax(axis=2) # letters replaced with integers"
   ]
  },
  {
   "cell_type": "markdown",
   "metadata": {},
   "source": [
    "Auxiliary function $B$ :"
   ]
  },
  {
   "cell_type": "code",
   "execution_count": 47,
   "metadata": {},
   "outputs": [],
   "source": [
    "@jit(nopython=True)\n",
    "def compute_B(x, y, k, lambd):\n",
    "    \"\"\"\n",
    "    Input : x, y are strings\n",
    "    Returns a n*n*k tensor B such that B[l,i,j] = B_l(x[0:i+1], y[0:j+1])\n",
    "    \"\"\"\n",
    "    n = len(x)\n",
    "    B = np.zeros((k+1, n, n))\n",
    "    B[0, :, :] = 1\n",
    "    for l in range(1, k+1):\n",
    "        if l > n:\n",
    "            break\n",
    "        for i in range(l-1, n):\n",
    "            for j in range(l-1, n):\n",
    "                a = x[i]\n",
    "                b = y[j]\n",
    "                if i > 0:\n",
    "                    B[l, i, j] += lambd * B[l, i-1, j]\n",
    "                if j > 0:\n",
    "                    B[l, i, j] += lambd * B[l, i, j-1]\n",
    "                if i > 0 and j > 0:\n",
    "                    B[l, i, j] -= lambd**2 * B[l, i-1, j-1]\n",
    "                    if a == b:\n",
    "                        B[l, i, j] += lambd**2 * B[l-1, i-1, j-1]\n",
    "    return B"
   ]
  },
  {
   "cell_type": "code",
   "execution_count": 48,
   "metadata": {},
   "outputs": [],
   "source": [
    "@jit(nopython=True)\n",
    "def compute_B(x, y, k, lambd):\n",
    "    \"\"\"\n",
    "    Input : x, y are strings\n",
    "    Returns a n*n*k tensor B such that B[l,i,j] = B_l(x[0:i+1], y[0:j+1])\n",
    "    \"\"\"\n",
    "    n = len(x)\n",
    "    B = np.zeros((k+1, n, n))\n",
    "    B[0, :, :] = 1\n",
    "\n",
    "    for l in range(1, k+1):\n",
    "        if l > n:\n",
    "            break\n",
    "        for i in range(l-1, n):\n",
    "            for j in range(l-1, n):\n",
    "                a = x[i]\n",
    "                b = y[j]\n",
    "                if i > 0:\n",
    "                    B[l, i, j] += lambd * B[l, i-1, j]\n",
    "                if j > 0:\n",
    "                    B[l, i, j] += lambd * B[l, i, j-1]\n",
    "                if i > 0 and j > 0:\n",
    "                    B[l, i, j] -= lambd**2 * B[l, i-1, j-1]\n",
    "                    if a == b:\n",
    "                        B[l, i, j] += lambd**2 * B[l-1, i-1, j-1]\n",
    "    return B"
   ]
  },
  {
   "cell_type": "code",
   "execution_count": 49,
   "metadata": {},
   "outputs": [],
   "source": [
    "x = \"ACGT\"\n",
    "y = \"TGCG\""
   ]
  },
  {
   "cell_type": "code",
   "execution_count": 50,
   "metadata": {},
   "outputs": [
    {
     "data": {
      "text/plain": [
       "array([[[1.     , 1.     , 1.     , 1.     ],\n",
       "        [1.     , 1.     , 1.     , 1.     ],\n",
       "        [1.     , 1.     , 1.     , 1.     ],\n",
       "        [1.     , 1.     , 1.     , 1.     ]],\n",
       "\n",
       "       [[0.     , 0.     , 0.     , 0.     ],\n",
       "        [0.     , 0.     , 0.49   , 0.343  ],\n",
       "        [0.     , 0.49   , 0.686  , 0.9702 ],\n",
       "        [0.     , 0.343  , 0.4802 , 0.67914]],\n",
       "\n",
       "       [[0.     , 0.     , 0.     , 0.     ],\n",
       "        [0.     , 0.     , 0.     , 0.     ],\n",
       "        [0.     , 0.     , 0.     , 0.2401 ],\n",
       "        [0.     , 0.     , 0.     , 0.16807]]])"
      ]
     },
     "execution_count": 50,
     "metadata": {},
     "output_type": "execute_result"
    }
   ],
   "source": [
    "compute_B(x, y, 2, lambd)"
   ]
  },
  {
   "cell_type": "code",
   "execution_count": 51,
   "metadata": {},
   "outputs": [
    {
     "name": "stdout",
     "output_type": "stream",
     "text": [
      "11.1 ms ± 313 µs per loop (mean ± std. dev. of 7 runs, 100 loops each)\n"
     ]
    }
   ],
   "source": [
    "%%timeit\n",
    "_ = compute_B(df[\"seq\"][0], df[\"seq\"][1], k, lambd)"
   ]
  },
  {
   "cell_type": "code",
   "execution_count": 52,
   "metadata": {},
   "outputs": [],
   "source": [
    "def compute_K_words(x, y, xo, yo, k, lambd):\n",
    "    \"\"\"\n",
    "    df_int is the list of integer sequences\n",
    "    Returns a n*n*k tensor K such that K[l,i,j] = K_l(x[0:i], y[0:j])\n",
    "    \"\"\"\n",
    "    n = len(x)\n",
    "    B = compute_B(x, y, k, lambd)\n",
    "    K = np.zeros((k+1, n, n))\n",
    "    K[0, :, :] = 1\n",
    "    \n",
    "    for l in range(1, k+1):\n",
    "        if l > n:\n",
    "            break\n",
    "        for i in range(l-1, n):\n",
    "            for j in range(l-1, n):\n",
    "                a = x[i]\n",
    "                if i > 0:\n",
    "                    K[l, i, j] = K[l, i-1, j]\n",
    "                    s = 0\n",
    "                    mask = yo[1:j+1, index[ord(a)]]\n",
    "                    K[l, i, j] += lambd**2 * mask.dot(B[l-1, i-1, :j])\n",
    "    return K"
   ]
  },
  {
   "cell_type": "code",
   "execution_count": 53,
   "metadata": {},
   "outputs": [],
   "source": [
    "@jit(nopython=True)\n",
    "def compute_K(df_int, one_hots, i, j, k, lambd):\n",
    "    \"\"\"\n",
    "    df_int is the list of integer sequences\n",
    "    Returns a n*n*k tensor K such that K[l,i,j] = K_l(x[0:i], y[0:j])\n",
    "    \"\"\"\n",
    "    x = df_int[i]\n",
    "    y = df_int[j]\n",
    "    xo = one_hots[i]\n",
    "    yo = one_hots[j]\n",
    "    \n",
    "    n = df_int.shape[1]\n",
    "    B = compute_B(x, y, k, lambd)\n",
    "    K = np.zeros((k+1, n, n))\n",
    "    K[0, :, :] = 1\n",
    "    \n",
    "    for l in range(1, k+1):\n",
    "        if l > n:\n",
    "            break\n",
    "        for i in range(max(l-1,1), n): # we skip i = 0, which yields K = 0\n",
    "            for j in range(l-1, n):\n",
    "                a = x[i]\n",
    "                K[l, i, j] = K[l, i-1, j]\n",
    "                s = 0\n",
    "                mask = yo[1:j+1, a]\n",
    "                K[l, i, j] += lambd**2 * mask.dot(B[l-1, i-1, :j])\n",
    "    return K"
   ]
  },
  {
   "cell_type": "code",
   "execution_count": 54,
   "metadata": {},
   "outputs": [
    {
     "data": {
      "text/plain": [
       "array([[[1.     , 1.     , 1.     , 1.     ],\n",
       "        [1.     , 1.     , 1.     , 1.     ],\n",
       "        [1.     , 1.     , 1.     , 1.     ],\n",
       "        [1.     , 1.     , 1.     , 1.     ]],\n",
       "\n",
       "       [[0.     , 0.     , 0.     , 0.     ],\n",
       "        [0.     , 0.49   , 0.49   , 0.49   ],\n",
       "        [0.     , 0.49   , 0.98   , 0.98   ],\n",
       "        [0.     , 0.49   , 1.47   , 1.47   ]],\n",
       "\n",
       "       [[0.     , 0.     , 0.     , 0.     ],\n",
       "        [0.     , 0.     , 0.     , 0.     ],\n",
       "        [0.     , 0.     , 0.2401 , 0.2401 ],\n",
       "        [0.     , 0.     , 0.40817, 0.40817]],\n",
       "\n",
       "       [[0.     , 0.     , 0.     , 0.     ],\n",
       "        [0.     , 0.     , 0.     , 0.     ],\n",
       "        [0.     , 0.     , 0.     , 0.     ],\n",
       "        [0.     , 0.     , 0.     , 0.     ]],\n",
       "\n",
       "       [[0.     , 0.     , 0.     , 0.     ],\n",
       "        [0.     , 0.     , 0.     , 0.     ],\n",
       "        [0.     , 0.     , 0.     , 0.     ],\n",
       "        [0.     , 0.     , 0.     , 0.     ]]])"
      ]
     },
     "execution_count": 54,
     "metadata": {},
     "output_type": "execute_result"
    }
   ],
   "source": [
    "x = \"GGTT\"\n",
    "y = \"TGTA\"\n",
    "xo = one_hot(x)\n",
    "yo = one_hot(y)\n",
    "compute_K_words(x, y, xo, yo, k, lambd)"
   ]
  },
  {
   "cell_type": "code",
   "execution_count": 55,
   "metadata": {},
   "outputs": [
    {
     "name": "stdout",
     "output_type": "stream",
     "text": [
      "9.96 ms ± 1.06 ms per loop (mean ± std. dev. of 7 runs, 1 loop each)\n"
     ]
    }
   ],
   "source": [
    "%%timeit\n",
    "_ = compute_K(df_int, one_hots, 0, 1, k, lambd)"
   ]
  },
  {
   "cell_type": "markdown",
   "metadata": {},
   "source": [
    "## Application"
   ]
  },
  {
   "cell_type": "code",
   "execution_count": 59,
   "metadata": {},
   "outputs": [],
   "source": [
    "@jit(nopython=True)\n",
    "def kernel(df_int, one_hots, i, j, k, lambd):\n",
    "    return compute_K(df_int, one_hots, i, j, k, lambd)[-1, -1, -1]"
   ]
  },
  {
   "cell_type": "code",
   "execution_count": 60,
   "metadata": {},
   "outputs": [],
   "source": [
    "K_Xtr_Xtr = np.zeros((2000, 2000))"
   ]
  },
  {
   "cell_type": "code",
   "execution_count": 61,
   "metadata": {},
   "outputs": [],
   "source": [
    "K_Xtr_Xte = np.zeros((2000, 1000))"
   ]
  },
  {
   "cell_type": "code",
   "execution_count": 32,
   "metadata": {},
   "outputs": [
    {
     "name": "stderr",
     "output_type": "stream",
     "text": [
      "100%|██████████| 2000/2000 [00:12<00:00, 162.77it/s]\n"
     ]
    }
   ],
   "source": [
    "for i in tqdm(range(2000)):\n",
    "    K_Xtr_Xtr[i, 0] = kernel(df_int, one_hots, i, 0, k, lambd)"
   ]
  },
  {
   "cell_type": "code",
   "execution_count": 62,
   "metadata": {},
   "outputs": [],
   "source": [
    "def loop1():\n",
    "    for i in tqdm(range(2000)):\n",
    "        for j in range(i+1):\n",
    "            K_Xtr_Xtr[i, j] = kernel(df_int, one_hots, i, j, k, lambd)\n",
    "            K_Xtr_Xtr[j, i] = K_Xtr_Xtr[i, j]"
   ]
  },
  {
   "cell_type": "code",
   "execution_count": 63,
   "metadata": {},
   "outputs": [],
   "source": [
    "def loop2():\n",
    "    for i in tqdm(range(2000)):\n",
    "        for j in range(1000):\n",
    "            K_Xtr_Xte[i, j] = kernel(df_int, one_hots, i, j+2000, k, lambd)"
   ]
  },
  {
   "cell_type": "code",
   "execution_count": 64,
   "metadata": {},
   "outputs": [
    {
     "name": "stderr",
     "output_type": "stream",
     "text": [
      "100%|██████████| 2000/2000 [5:33:02<00:00, 19.31s/it]\n"
     ]
    }
   ],
   "source": [
    "loop1()"
   ]
  },
  {
   "cell_type": "code",
   "execution_count": 34,
   "metadata": {},
   "outputs": [],
   "source": [
    "def f(i, j):\n",
    "    return kernel(df_int, one_hots, i, j, k, lambd)"
   ]
  },
  {
   "cell_type": "code",
   "execution_count": 43,
   "metadata": {},
   "outputs": [],
   "source": [
    "K = [[f(i, j) for i in range(50)] for j in range(50)]\n",
    "K = np.array(K)"
   ]
  },
  {
   "cell_type": "code",
   "execution_count": 65,
   "metadata": {},
   "outputs": [],
   "source": [
    "pd.DataFrame(K_Xtr_Xtr).to_csv(\"data/Xtr1_substring4_0.7.csv\", header=False, index=False, sep=\" \")"
   ]
  },
  {
   "cell_type": "code",
   "execution_count": 46,
   "metadata": {},
   "outputs": [],
   "source": [
    "eg = np.linalg.eig(K_Xtr_Xtr+1e-10*np.eye(2000))"
   ]
  },
  {
   "cell_type": "code",
   "execution_count": 53,
   "metadata": {},
   "outputs": [
    {
     "data": {
      "text/plain": [
       "True"
      ]
     },
     "execution_count": 53,
     "metadata": {},
     "output_type": "execute_result"
    }
   ],
   "source": [
    "(eg[0] > 0).all()"
   ]
  },
  {
   "cell_type": "code",
   "execution_count": 35,
   "metadata": {},
   "outputs": [
    {
     "data": {
      "text/plain": [
       "0.0"
      ]
     },
     "execution_count": 35,
     "metadata": {},
     "output_type": "execute_result"
    }
   ],
   "source": [
    "np.linalg.norm(K_Xtr_Xtr-K_Xtr_Xtr.T)"
   ]
  }
 ],
 "metadata": {
  "kernelspec": {
   "display_name": "Python 3",
   "language": "python",
   "name": "python3"
  },
  "language_info": {
   "codemirror_mode": {
    "name": "ipython",
    "version": 3
   },
   "file_extension": ".py",
   "mimetype": "text/x-python",
   "name": "python",
   "nbconvert_exporter": "python",
   "pygments_lexer": "ipython3",
   "version": "3.6.8"
  }
 },
 "nbformat": 4,
 "nbformat_minor": 2
}
