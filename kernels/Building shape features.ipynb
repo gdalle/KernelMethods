{
 "cells": [
  {
   "cell_type": "code",
   "execution_count": 1,
   "metadata": {},
   "outputs": [],
   "source": [
    "import numpy as np\n",
    "import pandas as pd\n",
    "import gzip\n",
    "import pickle\n",
    "import itertools\n",
    "import tqdm\n",
    "from suffix_trees import STree"
   ]
  },
  {
   "cell_type": "code",
   "execution_count": 265,
   "metadata": {},
   "outputs": [],
   "source": [
    "def read_shape_file(shape):\n",
    "    sh = pd.read_csv('shape_data/'+shape+'.gz', skiprows=[0], sep = '\\t', error_bad_lines=False)\n",
    "    sh.columns = [shape]\n",
    "    #sh = sh[:100098]\n",
    "    sh = sh.dropna()\n",
    "    sh = sh[:sh.shape[0]-1]\n",
    "    sh = sh.reset_index(drop=True)\n",
    "    print('Built file with name '+ shape+' and with shape '+ str(sh.shape) )\n",
    "    return sh"
   ]
  },
  {
   "cell_type": "code",
   "execution_count": 266,
   "metadata": {},
   "outputs": [
    {
     "name": "stdout",
     "output_type": "stream",
     "text": [
      "Built file with name helt and with shape (100000, 1)\n",
      "Built file with name prot and with shape (100000, 1)\n",
      "Built file with name roll and with shape (100000, 1)\n",
      "Built file with name mgw and with shape (100000, 1)\n"
     ]
    }
   ],
   "source": [
    "helt = read_shape_file('helt')\n",
    "prot = read_shape_file('prot')\n",
    "roll = read_shape_file('roll')\n",
    "mgw = read_shape_file('mgw')"
   ]
  },
  {
   "cell_type": "markdown",
   "metadata": {},
   "source": [
    "## Open DNA sequence"
   ]
  },
  {
   "cell_type": "code",
   "execution_count": 267,
   "metadata": {},
   "outputs": [
    {
     "name": "stdout",
     "output_type": "stream",
     "text": [
      " 3422303 shape_data/chr6.fa\r\n"
     ]
    }
   ],
   "source": [
    "! wc -l 'shape_data/chr6.fa'"
   ]
  },
  {
   "cell_type": "markdown",
   "metadata": {},
   "source": [
    "50 nucleotides for each line, 171,115,150 nucleotides in total, almost perfect match with shape files"
   ]
  },
  {
   "cell_type": "markdown",
   "metadata": {},
   "source": [
    "Chromosome 6, middle part, 2,000,000 -> 2,100,000"
   ]
  },
  {
   "cell_type": "code",
   "execution_count": 268,
   "metadata": {},
   "outputs": [
    {
     "name": "stdout",
     "output_type": "stream",
     "text": [
      "skipped 40001\n",
      "included 2000\n"
     ]
    }
   ],
   "source": [
    "L = []\n",
    "i = 0\n",
    "skipped = 0\n",
    "with gzip.open('shape_data/chr6.fa.gz', 'rb') as f:\n",
    "    for line in f:\n",
    "        # skip 1+40k lines\n",
    "        if i<40001:\n",
    "            skipped +=1\n",
    "            pass\n",
    "        else:\n",
    "            # read 2000 lines\n",
    "            L.append(line[:-1].lower())\n",
    "            if i>=40001+2000-1:\n",
    "                break\n",
    "        i+=1\n",
    "print('skipped', skipped)\n",
    "print('included', len(L))"
   ]
  },
  {
   "cell_type": "markdown",
   "metadata": {},
   "source": [
    "## Match it using pentamers!"
   ]
  },
  {
   "cell_type": "code",
   "execution_count": 269,
   "metadata": {},
   "outputs": [
    {
     "data": {
      "text/plain": [
       "1024"
      ]
     },
     "execution_count": 269,
     "metadata": {},
     "output_type": "execute_result"
    }
   ],
   "source": [
    "4**5 #n_pentamers"
   ]
  },
  {
   "cell_type": "code",
   "execution_count": 270,
   "metadata": {},
   "outputs": [],
   "source": [
    "def get_pentamer(L, idx):\n",
    "    assert idx>=2 and idx < 99998, 'out of sequence'\n",
    "    q = idx//50\n",
    "    r = idx%50\n",
    "    \n",
    "    if r+2<50 and r-2>=0:\n",
    "        return L[q][r-2:r+2+1]\n",
    "    elif r+2>=50:\n",
    "        left = L[q][r-2:]\n",
    "        return left + L[q+1][:(5-len(left))]\n",
    "    elif r-2<0:\n",
    "        right = L[q][:r+2+1]\n",
    "        return L[q-1][(50-(5-len(right))):] + right"
   ]
  },
  {
   "cell_type": "code",
   "execution_count": 271,
   "metadata": {},
   "outputs": [],
   "source": [
    "def build_dict(shape_name, shape_df, mean = True):\n",
    "    dic = {}\n",
    "    for idx in range(2, 99998):\n",
    "        pent = get_pentamer(L, idx)\n",
    "        h = float(shape_df[shape_name][idx])\n",
    "        if pent not in dic.keys():\n",
    "            dic[pent] = [h]\n",
    "        else:\n",
    "            dic[pent].append(h)\n",
    "    if mean:\n",
    "        for k in dic.keys():\n",
    "            dic[k] = np.array(dic[k]).mean()\n",
    "    print(\"Built dictionary for shape \"+ shape_name+ \" and got \"+str(len(dic.keys()))+ ' entries')\n",
    "    return dic"
   ]
  },
  {
   "cell_type": "code",
   "execution_count": 272,
   "metadata": {},
   "outputs": [
    {
     "name": "stdout",
     "output_type": "stream",
     "text": [
      "Built dictionary for shape helt and got 1024 entries\n",
      "Built dictionary for shape prot and got 1024 entries\n",
      "Built dictionary for shape roll and got 1024 entries\n",
      "Built dictionary for shape mgw and got 1024 entries\n"
     ]
    }
   ],
   "source": [
    "dic_helt = build_dict('helt', helt)\n",
    "dic_prot = build_dict('prot', prot)\n",
    "dic_roll = build_dict('roll', roll)\n",
    "dic_mgw = build_dict('mgw', mgw)"
   ]
  },
  {
   "cell_type": "code",
   "execution_count": 274,
   "metadata": {},
   "outputs": [],
   "source": [
    "pickle.dump(dic_helt, open('shape_data/helt.frq', 'wb'))\n",
    "pickle.dump(dic_prot, open('shape_data/prot.frq', 'wb'))\n",
    "pickle.dump(dic_roll, open('shape_data/roll.frq', 'wb'))\n",
    "pickle.dump(dic_mgw, open('shape_data/mgw.frq', 'wb'))"
   ]
  },
  {
   "cell_type": "markdown",
   "metadata": {},
   "source": [
    "## Build shape features on dataset"
   ]
  },
  {
   "cell_type": "code",
   "execution_count": 196,
   "metadata": {},
   "outputs": [],
   "source": [
    "dic_helt = pickle.load(open('shape_data/helt.frq', 'rb'))\n",
    "dic_prot = pickle.load(open('shape_data/prot.frq', 'rb'))\n",
    "dic_roll = pickle.load(open('shape_data/roll.frq', 'rb'))\n",
    "dic_mgw = pickle.load(open('shape_data/mgw.frq', 'rb'))"
   ]
  },
  {
   "cell_type": "code",
   "execution_count": 4,
   "metadata": {},
   "outputs": [],
   "source": [
    "def build_voc(letters, length):\n",
    "    vocl = [''.join(x) for x in itertools.product(letters, repeat=length)]\n",
    "    voc = {}\n",
    "    i = 0\n",
    "    for v in vocl:\n",
    "        voc[v] = i\n",
    "        i+=1\n",
    "    return voc"
   ]
  },
  {
   "cell_type": "code",
   "execution_count": 5,
   "metadata": {},
   "outputs": [],
   "source": [
    "def compute_shape_features(x, k, dic_helt, dic_prot, dic_roll, dic_mgw, letters = 'ATCG'):\n",
    "    \n",
    "    st = STree.STree(x)\n",
    "    \n",
    "    voc = build_voc(letters, k)\n",
    "    \n",
    "    n = len(x)\n",
    "    \n",
    "    enc = np.zeros(len(voc))\n",
    "    mgw = np.zeros((len(voc), k))\n",
    "    roll = np.zeros((len(voc), k))\n",
    "    helt = np.zeros((len(voc), k))\n",
    "    prot = np.zeros((len(voc), k))\n",
    "    \n",
    "    i = 0\n",
    "    \n",
    "    for w in voc.keys():\n",
    "        kmer_positions = st.find_all(w)\n",
    "        enc[i] = len(kmer_positions)\n",
    "        \n",
    "        if len(kmer_positions)>0:\n",
    "            mgw_list = [ [] for _ in range(k)]\n",
    "            prot_list = [ [] for _ in range(k)]\n",
    "            roll_list = [ [] for _ in range(k)]\n",
    "            helt_list = [ [] for _ in range(k)]\n",
    "            found = False\n",
    "            for pos in kmer_positions:\n",
    "                if pos>=2 and pos+k+3<n:\n",
    "                    found = True\n",
    "                    surround = x[pos-2:pos+k+2]\n",
    "                    for j in range(k):\n",
    "                        mgw_list[j].append(dic_mgw[surround[j:j+5].lower().encode('UTF-8')])\n",
    "                        prot_list[j].append(dic_prot[surround[j:j+5].lower().encode('UTF-8')])\n",
    "                        roll_list[j].append(dic_roll[surround[j:j+5].lower().encode('UTF-8')])\n",
    "                        helt_list[j].append(dic_helt[surround[j:j+5].lower().encode('UTF-8')])\n",
    "            for j in range(k):\n",
    "                if found:\n",
    "                    mgw[i, j] = np.array(mgw_list[j]).mean()\n",
    "                    prot[i, j] = np.array(prot_list[j]).mean()\n",
    "                    roll[i, j] = np.array(roll_list[j]).mean()\n",
    "                    helt[i, j] = np.array(helt_list[j]).mean()\n",
    "                #print(j, mgw[i, j])\n",
    "        i+=1\n",
    "    cat = np.concatenate((enc, helt.flatten(), prot.flatten(), roll.flatten(), mgw.flatten() ))\n",
    "    # The first one contains all the features, the others are just for bug fixes\n",
    "    return cat, enc, helt, prot, roll, mgw"
   ]
  },
  {
   "cell_type": "code",
   "execution_count": 199,
   "metadata": {},
   "outputs": [],
   "source": [
    "df = pd.read_csv('data/Xtr0.csv')\n",
    "x = df['seq'][0]"
   ]
  },
  {
   "cell_type": "code",
   "execution_count": 200,
   "metadata": {},
   "outputs": [],
   "source": [
    "cat, enc, helt, prot, roll, mgw = compute_shape_features(x, 6, dic_helt, dic_prot, dic_roll, dic_mgw, letters = 'ATCG')"
   ]
  },
  {
   "cell_type": "code",
   "execution_count": 201,
   "metadata": {},
   "outputs": [
    {
     "data": {
      "text/plain": [
       "(2676.6954703613083,\n",
       " 18365.655814988837,\n",
       " -3377.7499960608525,\n",
       " -556.2929045413541,\n",
       " 96.0)"
      ]
     },
     "execution_count": 201,
     "metadata": {},
     "output_type": "execute_result"
    }
   ],
   "source": [
    "mgw.sum(), helt.sum(), prot.sum(), roll.sum(), enc.sum()"
   ]
  },
  {
   "cell_type": "code",
   "execution_count": 202,
   "metadata": {},
   "outputs": [
    {
     "data": {
      "text/plain": [
       "(102400,)"
      ]
     },
     "execution_count": 202,
     "metadata": {},
     "output_type": "execute_result"
    }
   ],
   "source": [
    "cat.shape"
   ]
  },
  {
   "cell_type": "code",
   "execution_count": 207,
   "metadata": {},
   "outputs": [
    {
     "data": {
      "text/plain": [
       "array([0., 0., 0., ..., 0., 0., 0.])"
      ]
     },
     "execution_count": 207,
     "metadata": {},
     "output_type": "execute_result"
    }
   ],
   "source": [
    "cat"
   ]
  },
  {
   "cell_type": "markdown",
   "metadata": {},
   "source": [
    "## Build the embeddings"
   ]
  },
  {
   "cell_type": "code",
   "execution_count": 9,
   "metadata": {},
   "outputs": [],
   "source": [
    "dic_helt = pickle.load(open('shape_data/helt.frq', 'rb'))\n",
    "dic_prot = pickle.load(open('shape_data/prot.frq', 'rb'))\n",
    "dic_roll = pickle.load(open('shape_data/roll.frq', 'rb'))\n",
    "dic_mgw = pickle.load(open('shape_data/mgw.frq', 'rb'))\n",
    "\n",
    "letters = 'ATCG'\n",
    "length = 3"
   ]
  },
  {
   "cell_type": "code",
   "execution_count": 10,
   "metadata": {},
   "outputs": [
    {
     "name": "stderr",
     "output_type": "stream",
     "text": [
      "2000it [00:56, 35.11it/s]\n",
      "2000it [01:21, 24.53it/s]\n",
      "2000it [00:42, 34.65it/s]\n"
     ]
    }
   ],
   "source": [
    "for ind in range(3):\n",
    "    df = pd.read_csv('data/Xtr'+str(ind)+'.csv')\n",
    "    df_emb = pd.DataFrame(columns = [str(i) for i in range((4**length)*(4*length+1))])\n",
    "    for _, r in tqdm.tqdm(df.iterrows()):\n",
    "        i = r['Id']\n",
    "        seq = r['seq']\n",
    "        cat, _, _, _, _, _ = compute_shape_features(seq, length, dic_helt, dic_prot, dic_roll, dic_mgw,\n",
    "                                                    letters = 'ATCG')\n",
    "        df_emb.loc[i] = cat\n",
    "    df_emb.to_csv('data/'\n",
    "              + 'Xtr' +str(ind) + '_shapespectr'+str(length)+'.csv', header = False, index = False, sep=\" \")"
   ]
  },
  {
   "cell_type": "code",
   "execution_count": 11,
   "metadata": {},
   "outputs": [
    {
     "name": "stderr",
     "output_type": "stream",
     "text": [
      "1000it [00:22, 45.01it/s]\n",
      "1000it [00:19, 52.10it/s]\n",
      "1000it [00:19, 38.22it/s]\n"
     ]
    }
   ],
   "source": [
    "for ind in range(3):\n",
    "    df = pd.read_csv('data/Xte'+str(ind)+'.csv')\n",
    "    df_emb = pd.DataFrame(columns = [str(i) for i in range((4**length)*(4*length+1))])\n",
    "    for _, r in tqdm.tqdm(df.iterrows()):\n",
    "        i = r['Id']\n",
    "        seq = r['seq']\n",
    "        cat, _, _, _, _, _ = compute_shape_features(seq, length, dic_helt, dic_prot, dic_roll, dic_mgw,\n",
    "                                                    letters = 'ATCG')\n",
    "        df_emb.loc[i] = cat\n",
    "    df_emb.to_csv('data/'\n",
    "              + 'Xte' +str(ind) + '_shapespectr'+str(length)+'.csv', header = False, index = False, sep=\" \")"
   ]
  },
  {
   "cell_type": "code",
   "execution_count": null,
   "metadata": {},
   "outputs": [],
   "source": []
  }
 ],
 "metadata": {
  "kernelspec": {
   "display_name": "Python 3",
   "language": "python",
   "name": "python3"
  },
  "language_info": {
   "codemirror_mode": {
    "name": "ipython",
    "version": 3
   },
   "file_extension": ".py",
   "mimetype": "text/x-python",
   "name": "python",
   "nbconvert_exporter": "python",
   "pygments_lexer": "ipython3",
   "version": "3.7.0"
  }
 },
 "nbformat": 4,
 "nbformat_minor": 2
}
