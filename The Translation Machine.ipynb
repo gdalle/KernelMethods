{
 "cells": [
  {
   "cell_type": "code",
   "execution_count": 4,
   "metadata": {},
   "outputs": [],
   "source": [
    "import numpy as np\n",
    "import pandas as pd\n",
    "import matplotlib.pyplot as plt\n",
    "import itertools\n",
    "import tqdm"
   ]
  },
  {
   "cell_type": "code",
   "execution_count": 5,
   "metadata": {},
   "outputs": [],
   "source": [
    "df = pd.read_csv('data/Xtr0.csv')"
   ]
  },
  {
   "cell_type": "code",
   "execution_count": 7,
   "metadata": {},
   "outputs": [
    {
     "data": {
      "text/html": [
       "<div>\n",
       "<style scoped>\n",
       "    .dataframe tbody tr th:only-of-type {\n",
       "        vertical-align: middle;\n",
       "    }\n",
       "\n",
       "    .dataframe tbody tr th {\n",
       "        vertical-align: top;\n",
       "    }\n",
       "\n",
       "    .dataframe thead th {\n",
       "        text-align: right;\n",
       "    }\n",
       "</style>\n",
       "<table border=\"1\" class=\"dataframe\">\n",
       "  <thead>\n",
       "    <tr style=\"text-align: right;\">\n",
       "      <th></th>\n",
       "      <th>Id</th>\n",
       "      <th>seq</th>\n",
       "    </tr>\n",
       "  </thead>\n",
       "  <tbody>\n",
       "    <tr>\n",
       "      <th>0</th>\n",
       "      <td>0</td>\n",
       "      <td>GGAGAATCATTTGAACCCGGGAGGTGGAGGTTGCCGTGAGCTGAGA...</td>\n",
       "    </tr>\n",
       "    <tr>\n",
       "      <th>1</th>\n",
       "      <td>1</td>\n",
       "      <td>ACCCTGCCTACACCGCGGCGGGGACAGGTGGAGGTTTCAACCCCTG...</td>\n",
       "    </tr>\n",
       "    <tr>\n",
       "      <th>2</th>\n",
       "      <td>2</td>\n",
       "      <td>TGCAAATCTGTAAGCATTTCTCAGGCAATGAATTATGTCAACACAA...</td>\n",
       "    </tr>\n",
       "    <tr>\n",
       "      <th>3</th>\n",
       "      <td>3</td>\n",
       "      <td>GCGGGACGTGGGCGTCGAGGGTAAGGATATCTGCAGAAGTACTGTC...</td>\n",
       "    </tr>\n",
       "    <tr>\n",
       "      <th>4</th>\n",
       "      <td>4</td>\n",
       "      <td>GGAGAATAGCATGTATCCGAGAGGTGGAGCTGGCAGTGAGCCGAGA...</td>\n",
       "    </tr>\n",
       "  </tbody>\n",
       "</table>\n",
       "</div>"
      ],
      "text/plain": [
       "   Id                                                seq\n",
       "0   0  GGAGAATCATTTGAACCCGGGAGGTGGAGGTTGCCGTGAGCTGAGA...\n",
       "1   1  ACCCTGCCTACACCGCGGCGGGGACAGGTGGAGGTTTCAACCCCTG...\n",
       "2   2  TGCAAATCTGTAAGCATTTCTCAGGCAATGAATTATGTCAACACAA...\n",
       "3   3  GCGGGACGTGGGCGTCGAGGGTAAGGATATCTGCAGAAGTACTGTC...\n",
       "4   4  GGAGAATAGCATGTATCCGAGAGGTGGAGCTGGCAGTGAGCCGAGA..."
      ]
     },
     "execution_count": 7,
     "metadata": {},
     "output_type": "execute_result"
    }
   ],
   "source": [
    "df.head()"
   ]
  },
  {
   "cell_type": "markdown",
   "metadata": {},
   "source": [
    "All sequences have length 101"
   ]
  },
  {
   "cell_type": "code",
   "execution_count": 36,
   "metadata": {},
   "outputs": [],
   "source": [
    "aa_to_dna = {'Phe': ['TTT', 'TTC'],\n",
    "            'Leu': ['TTA', 'TTG', 'CTT', 'CTC', 'CTA', 'CTG'],\n",
    "            'Ser': ['TCT', 'TCC', 'TCA', 'TCG', 'AGT', 'AGC'],\n",
    "            'Pro': ['CCT', 'CCC', 'CCA', 'CCG'],\n",
    "            'Ile': ['ATT', 'ATC', 'ATA'],\n",
    "            'Met': ['ATG'],\n",
    "            'Val': ['GTT', 'GTC', 'GTA', 'GTG'],\n",
    "            'Thr': ['ACT', 'ACC', 'ACA', 'ACG'],\n",
    "            'Ala': ['GCT', 'GCC', 'GCA', 'GCG'],\n",
    "            'Tyr': ['TAT', 'TAC'],\n",
    "            'His': ['CAT', 'CAC'],\n",
    "            'Gln': ['CAA', 'CAG'],\n",
    "            'Asn': ['AAT', 'AAC'],\n",
    "            'Lys': ['AAA', 'AAG'],\n",
    "            'Asp': ['GAT', 'GAC'],\n",
    "            'Glu': ['GAA', 'GAG'],\n",
    "            'Cys': ['TGT', 'TGC'],\n",
    "            'Trp': ['TGG'],\n",
    "            'Arg': ['CGT', 'CGC', 'CGA', 'CGG', 'AGA', 'AGG'],\n",
    "            'Gly': ['GGT', 'GGC', 'GGA', 'GGG'],\n",
    "            'STOP': ['TAA', 'TAG', 'TGA']\n",
    "            }"
   ]
  },
  {
   "cell_type": "code",
   "execution_count": 55,
   "metadata": {},
   "outputs": [],
   "source": [
    "aa_id = {}\n",
    "i = 0\n",
    "for v in aa_to_dna.keys():\n",
    "    aa_id[v] = i\n",
    "    i+=1"
   ]
  },
  {
   "cell_type": "code",
   "execution_count": 56,
   "metadata": {},
   "outputs": [
    {
     "data": {
      "text/plain": [
       "{'Phe': 0,\n",
       " 'Leu': 1,\n",
       " 'Ser': 2,\n",
       " 'Pro': 3,\n",
       " 'Ile': 4,\n",
       " 'Met': 5,\n",
       " 'Val': 6,\n",
       " 'Thr': 7,\n",
       " 'Ala': 8,\n",
       " 'Tyr': 9,\n",
       " 'His': 10,\n",
       " 'Gln': 11,\n",
       " 'Asn': 12,\n",
       " 'Lys': 13,\n",
       " 'Asp': 14,\n",
       " 'Glu': 15,\n",
       " 'Cys': 16,\n",
       " 'Trp': 17,\n",
       " 'Arg': 18,\n",
       " 'Gly': 19,\n",
       " 'STOP': 20}"
      ]
     },
     "execution_count": 56,
     "metadata": {},
     "output_type": "execute_result"
    }
   ],
   "source": [
    "aa_id"
   ]
  },
  {
   "cell_type": "code",
   "execution_count": 57,
   "metadata": {},
   "outputs": [
    {
     "name": "stdout",
     "output_type": "stream",
     "text": [
      "{'AAA': 0, 'AAT': 1, 'AAC': 2, 'AAG': 3, 'ATA': 4, 'ATT': 5, 'ATC': 6, 'ATG': 7, 'ACA': 8, 'ACT': 9, 'ACC': 10, 'ACG': 11, 'AGA': 12, 'AGT': 13, 'AGC': 14, 'AGG': 15, 'TAA': 16, 'TAT': 17, 'TAC': 18, 'TAG': 19, 'TTA': 20, 'TTT': 21, 'TTC': 22, 'TTG': 23, 'TCA': 24, 'TCT': 25, 'TCC': 26, 'TCG': 27, 'TGA': 28, 'TGT': 29, 'TGC': 30, 'TGG': 31, 'CAA': 32, 'CAT': 33, 'CAC': 34, 'CAG': 35, 'CTA': 36, 'CTT': 37, 'CTC': 38, 'CTG': 39, 'CCA': 40, 'CCT': 41, 'CCC': 42, 'CCG': 43, 'CGA': 44, 'CGT': 45, 'CGC': 46, 'CGG': 47, 'GAA': 48, 'GAT': 49, 'GAC': 50, 'GAG': 51, 'GTA': 52, 'GTT': 53, 'GTC': 54, 'GTG': 55, 'GCA': 56, 'GCT': 57, 'GCC': 58, 'GCG': 59, 'GGA': 60, 'GGT': 61, 'GGC': 62, 'GGG': 63}\n"
     ]
    }
   ],
   "source": [
    "letters = 'ATCG'\n",
    "length = 3\n",
    "def build_voc(letters, length):\n",
    "    vocl = [''.join(x) for x in itertools.product(letters, repeat=length)]\n",
    "    voc = {}\n",
    "    i = 0\n",
    "    for v in vocl:\n",
    "        voc[v] = i\n",
    "        i+=1\n",
    "    return voc\n",
    "voc_id = build_voc(letters, length)\n",
    "print(voc_id)"
   ]
  },
  {
   "cell_type": "markdown",
   "metadata": {},
   "source": [
    "Make the inverse dictionary as a sanity check"
   ]
  },
  {
   "cell_type": "code",
   "execution_count": 58,
   "metadata": {
    "scrolled": true
   },
   "outputs": [],
   "source": [
    "dna_to_aa = {}\n",
    "for trp in voc_id.keys():\n",
    "    dna_to_aa[trp] = [k for (k, v) in aa_to_dna.items() if trp in v][0]"
   ]
  },
  {
   "cell_type": "code",
   "execution_count": 59,
   "metadata": {
    "scrolled": true
   },
   "outputs": [
    {
     "data": {
      "text/plain": [
       "{'AAA': 'Lys',\n",
       " 'AAT': 'Asn',\n",
       " 'AAC': 'Asn',\n",
       " 'AAG': 'Lys',\n",
       " 'ATA': 'Ile',\n",
       " 'ATT': 'Ile',\n",
       " 'ATC': 'Ile',\n",
       " 'ATG': 'Met',\n",
       " 'ACA': 'Thr',\n",
       " 'ACT': 'Thr',\n",
       " 'ACC': 'Thr',\n",
       " 'ACG': 'Thr',\n",
       " 'AGA': 'Arg',\n",
       " 'AGT': 'Ser',\n",
       " 'AGC': 'Ser',\n",
       " 'AGG': 'Arg',\n",
       " 'TAA': 'STOP',\n",
       " 'TAT': 'Tyr',\n",
       " 'TAC': 'Tyr',\n",
       " 'TAG': 'STOP',\n",
       " 'TTA': 'Leu',\n",
       " 'TTT': 'Phe',\n",
       " 'TTC': 'Phe',\n",
       " 'TTG': 'Leu',\n",
       " 'TCA': 'Ser',\n",
       " 'TCT': 'Ser',\n",
       " 'TCC': 'Ser',\n",
       " 'TCG': 'Ser',\n",
       " 'TGA': 'STOP',\n",
       " 'TGT': 'Cys',\n",
       " 'TGC': 'Cys',\n",
       " 'TGG': 'Trp',\n",
       " 'CAA': 'Gln',\n",
       " 'CAT': 'His',\n",
       " 'CAC': 'His',\n",
       " 'CAG': 'Gln',\n",
       " 'CTA': 'Leu',\n",
       " 'CTT': 'Leu',\n",
       " 'CTC': 'Leu',\n",
       " 'CTG': 'Leu',\n",
       " 'CCA': 'Pro',\n",
       " 'CCT': 'Pro',\n",
       " 'CCC': 'Pro',\n",
       " 'CCG': 'Pro',\n",
       " 'CGA': 'Arg',\n",
       " 'CGT': 'Arg',\n",
       " 'CGC': 'Arg',\n",
       " 'CGG': 'Arg',\n",
       " 'GAA': 'Glu',\n",
       " 'GAT': 'Asp',\n",
       " 'GAC': 'Asp',\n",
       " 'GAG': 'Glu',\n",
       " 'GTA': 'Val',\n",
       " 'GTT': 'Val',\n",
       " 'GTC': 'Val',\n",
       " 'GTG': 'Val',\n",
       " 'GCA': 'Ala',\n",
       " 'GCT': 'Ala',\n",
       " 'GCC': 'Ala',\n",
       " 'GCG': 'Ala',\n",
       " 'GGA': 'Gly',\n",
       " 'GGT': 'Gly',\n",
       " 'GGC': 'Gly',\n",
       " 'GGG': 'Gly'}"
      ]
     },
     "execution_count": 59,
     "metadata": {},
     "output_type": "execute_result"
    }
   ],
   "source": [
    "dna_to_aa"
   ]
  },
  {
   "cell_type": "code",
   "execution_count": 60,
   "metadata": {},
   "outputs": [
    {
     "name": "stdout",
     "output_type": "stream",
     "text": [
      "GGAGAATCATTTGAACCCGGGAGGTGGAGGTTGCCGTGAGCTGAGATTGCGCCATTGCACTCCAGCCTGGGCAACAAGAGCAAAACTCTGTCTCACAAAAC\n"
     ]
    }
   ],
   "source": [
    "seq = df['seq'][0]\n",
    "print(seq)"
   ]
  },
  {
   "cell_type": "code",
   "execution_count": 61,
   "metadata": {
    "scrolled": true
   },
   "outputs": [
    {
     "data": {
      "text/plain": [
       "0.7805"
      ]
     },
     "execution_count": 61,
     "metadata": {},
     "output_type": "execute_result"
    }
   ],
   "source": [
    "sum(['ATG' in df['seq'][i] for i in range(df.shape[0])])/df.shape[0]"
   ]
  },
  {
   "cell_type": "markdown",
   "metadata": {},
   "source": [
    "ATG is the Methionine which begins the translation: present in 78% of samples -> we cannot throw away the others. It means the sequences are incomplete and we cannot translate..."
   ]
  },
  {
   "cell_type": "markdown",
   "metadata": {},
   "source": [
    "## Adaptation of the spectrum kernel using genetic coding"
   ]
  },
  {
   "cell_type": "markdown",
   "metadata": {},
   "source": [
    "### Length 3"
   ]
  },
  {
   "cell_type": "code",
   "execution_count": 71,
   "metadata": {},
   "outputs": [],
   "source": [
    "def substrings(x, length):\n",
    "    n = len(x)\n",
    "    sub = []\n",
    "    assert n>=length, 'seq too small'\n",
    "    for i in range(n-length+1):\n",
    "        curr = x[i:i+length]\n",
    "        sub.append(curr)\n",
    "    return sub"
   ]
  },
  {
   "cell_type": "code",
   "execution_count": 72,
   "metadata": {},
   "outputs": [
    {
     "data": {
      "text/plain": [
       "99"
      ]
     },
     "execution_count": 72,
     "metadata": {},
     "output_type": "execute_result"
    }
   ],
   "source": [
    "len(substrings(seq, 3))"
   ]
  },
  {
   "cell_type": "code",
   "execution_count": 73,
   "metadata": {},
   "outputs": [],
   "source": [
    "def encode(sub, voc):\n",
    "    enc = np.zeros(len(voc))\n",
    "    for s in sub:\n",
    "        i = voc[dna_to_aa[s]]\n",
    "        enc[i] += 1\n",
    "    return enc"
   ]
  },
  {
   "cell_type": "code",
   "execution_count": 74,
   "metadata": {},
   "outputs": [
    {
     "name": "stdout",
     "output_type": "stream",
     "text": [
      "Vocabulary has size 21\n"
     ]
    }
   ],
   "source": [
    "letters = 'ATCG'\n",
    "length = 3\n",
    "voc = aa_id\n",
    "print('Vocabulary has size', len(voc))"
   ]
  },
  {
   "cell_type": "code",
   "execution_count": 75,
   "metadata": {},
   "outputs": [
    {
     "name": "stderr",
     "output_type": "stream",
     "text": [
      "2000it [00:02, 669.20it/s]\n",
      "2000it [00:02, 734.02it/s]\n",
      "2000it [00:02, 737.74it/s]\n"
     ]
    }
   ],
   "source": [
    "for ind in range(3):\n",
    "    df = pd.read_csv('data/Xtr'+str(ind)+'.csv')\n",
    "    df_emb = pd.DataFrame(columns = [str(i) for i in range(len(voc))])\n",
    "    for _, r in tqdm.tqdm(df.iterrows()):\n",
    "        i = r['Id']\n",
    "        seq = r['seq']\n",
    "        enc = encode(substrings(seq, length), voc)\n",
    "        df_emb.loc[i] = enc\n",
    "    df_emb.to_csv('data/'\n",
    "              + 'Xtr' +str(ind) + '_translated'+'.csv', header = False, index = False, sep=\" \")\n"
   ]
  },
  {
   "cell_type": "code",
   "execution_count": 79,
   "metadata": {},
   "outputs": [
    {
     "name": "stderr",
     "output_type": "stream",
     "text": [
      "1000it [00:01, 670.51it/s]\n",
      "1000it [00:01, 672.96it/s]\n",
      "1000it [00:01, 759.24it/s]\n"
     ]
    }
   ],
   "source": [
    "for ind in range(3):\n",
    "    df = pd.read_csv('data/Xte'+str(ind)+'.csv')\n",
    "    df_emb = pd.DataFrame(columns = [str(i) for i in range(len(voc))])\n",
    "    for _, r in tqdm.tqdm(df.iterrows()):\n",
    "        i = r['Id']\n",
    "        seq = r['seq']\n",
    "        enc = encode(substrings(seq, length), voc)\n",
    "        df_emb.loc[i] = enc\n",
    "    df_emb.to_csv('data/'\n",
    "              + 'Xte' +str(ind) + '_translated'+'.csv', header = False, index = False, sep=\" \")"
   ]
  },
  {
   "cell_type": "markdown",
   "metadata": {},
   "source": [
    "### Length 6: TODO"
   ]
  },
  {
   "cell_type": "markdown",
   "metadata": {},
   "source": [
    "Comparison of exact subsequences of size 6, up to the coding -> should be better than allowing random substitutions. Translate each couple of aa and compare them. Vocabulary has size $20\\times 20=400$."
   ]
  },
  {
   "cell_type": "code",
   "execution_count": null,
   "metadata": {},
   "outputs": [],
   "source": []
  }
 ],
 "metadata": {
  "kernelspec": {
   "display_name": "Python 3",
   "language": "python",
   "name": "python3"
  },
  "language_info": {
   "codemirror_mode": {
    "name": "ipython",
    "version": 3
   },
   "file_extension": ".py",
   "mimetype": "text/x-python",
   "name": "python",
   "nbconvert_exporter": "python",
   "pygments_lexer": "ipython3",
   "version": "3.7.0"
  }
 },
 "nbformat": 4,
 "nbformat_minor": 2
}
