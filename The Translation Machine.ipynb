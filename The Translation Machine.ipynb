{
 "cells": [
  {
   "cell_type": "code",
   "execution_count": 15,
   "metadata": {},
   "outputs": [],
   "source": [
    "import numpy as np\n",
    "import pandas as pd\n",
    "import matplotlib.pyplot as plt\n",
    "import itertools\n",
    "import tqdm\n",
    "from pprint import pprint"
   ]
  },
  {
   "cell_type": "code",
   "execution_count": 10,
   "metadata": {},
   "outputs": [],
   "source": [
    "df = pd.read_csv('data/Xtr0.csv')"
   ]
  },
  {
   "cell_type": "code",
   "execution_count": 11,
   "metadata": {},
   "outputs": [
    {
     "data": {
      "text/html": [
       "<div>\n",
       "<style scoped>\n",
       "    .dataframe tbody tr th:only-of-type {\n",
       "        vertical-align: middle;\n",
       "    }\n",
       "\n",
       "    .dataframe tbody tr th {\n",
       "        vertical-align: top;\n",
       "    }\n",
       "\n",
       "    .dataframe thead th {\n",
       "        text-align: right;\n",
       "    }\n",
       "</style>\n",
       "<table border=\"1\" class=\"dataframe\">\n",
       "  <thead>\n",
       "    <tr style=\"text-align: right;\">\n",
       "      <th></th>\n",
       "      <th>Id</th>\n",
       "      <th>seq</th>\n",
       "    </tr>\n",
       "  </thead>\n",
       "  <tbody>\n",
       "    <tr>\n",
       "      <th>0</th>\n",
       "      <td>0</td>\n",
       "      <td>GGAGAATCATTTGAACCCGGGAGGTGGAGGTTGCCGTGAGCTGAGA...</td>\n",
       "    </tr>\n",
       "    <tr>\n",
       "      <th>1</th>\n",
       "      <td>1</td>\n",
       "      <td>ACCCTGCCTACACCGCGGCGGGGACAGGTGGAGGTTTCAACCCCTG...</td>\n",
       "    </tr>\n",
       "    <tr>\n",
       "      <th>2</th>\n",
       "      <td>2</td>\n",
       "      <td>TGCAAATCTGTAAGCATTTCTCAGGCAATGAATTATGTCAACACAA...</td>\n",
       "    </tr>\n",
       "    <tr>\n",
       "      <th>3</th>\n",
       "      <td>3</td>\n",
       "      <td>GCGGGACGTGGGCGTCGAGGGTAAGGATATCTGCAGAAGTACTGTC...</td>\n",
       "    </tr>\n",
       "    <tr>\n",
       "      <th>4</th>\n",
       "      <td>4</td>\n",
       "      <td>GGAGAATAGCATGTATCCGAGAGGTGGAGCTGGCAGTGAGCCGAGA...</td>\n",
       "    </tr>\n",
       "  </tbody>\n",
       "</table>\n",
       "</div>"
      ],
      "text/plain": [
       "   Id                                                seq\n",
       "0   0  GGAGAATCATTTGAACCCGGGAGGTGGAGGTTGCCGTGAGCTGAGA...\n",
       "1   1  ACCCTGCCTACACCGCGGCGGGGACAGGTGGAGGTTTCAACCCCTG...\n",
       "2   2  TGCAAATCTGTAAGCATTTCTCAGGCAATGAATTATGTCAACACAA...\n",
       "3   3  GCGGGACGTGGGCGTCGAGGGTAAGGATATCTGCAGAAGTACTGTC...\n",
       "4   4  GGAGAATAGCATGTATCCGAGAGGTGGAGCTGGCAGTGAGCCGAGA..."
      ]
     },
     "execution_count": 11,
     "metadata": {},
     "output_type": "execute_result"
    }
   ],
   "source": [
    "df.head()"
   ]
  },
  {
   "cell_type": "markdown",
   "metadata": {},
   "source": [
    "All sequences have length 101"
   ]
  },
  {
   "cell_type": "code",
   "execution_count": 12,
   "metadata": {},
   "outputs": [],
   "source": [
    "aa_to_dna = {'Phe': ['TTT', 'TTC'],\n",
    "            'Leu': ['TTA', 'TTG', 'CTT', 'CTC', 'CTA', 'CTG'],\n",
    "            'Ser': ['TCT', 'TCC', 'TCA', 'TCG', 'AGT', 'AGC'],\n",
    "            'Pro': ['CCT', 'CCC', 'CCA', 'CCG'],\n",
    "            'Ile': ['ATT', 'ATC', 'ATA'],\n",
    "            'Met': ['ATG'],\n",
    "            'Val': ['GTT', 'GTC', 'GTA', 'GTG'],\n",
    "            'Thr': ['ACT', 'ACC', 'ACA', 'ACG'],\n",
    "            'Ala': ['GCT', 'GCC', 'GCA', 'GCG'],\n",
    "            'Tyr': ['TAT', 'TAC'],\n",
    "            'His': ['CAT', 'CAC'],\n",
    "            'Gln': ['CAA', 'CAG'],\n",
    "            'Asn': ['AAT', 'AAC'],\n",
    "            'Lys': ['AAA', 'AAG'],\n",
    "            'Asp': ['GAT', 'GAC'],\n",
    "            'Glu': ['GAA', 'GAG'],\n",
    "            'Cys': ['TGT', 'TGC'],\n",
    "            'Trp': ['TGG'],\n",
    "            'Arg': ['CGT', 'CGC', 'CGA', 'CGG', 'AGA', 'AGG'],\n",
    "            'Gly': ['GGT', 'GGC', 'GGA', 'GGG'],\n",
    "            'STOP': ['TAA', 'TAG', 'TGA']\n",
    "            }"
   ]
  },
  {
   "cell_type": "code",
   "execution_count": 13,
   "metadata": {},
   "outputs": [],
   "source": [
    "aa_id = {}\n",
    "i = 0\n",
    "for v in aa_to_dna.keys():\n",
    "    aa_id[v] = i\n",
    "    i+=1"
   ]
  },
  {
   "cell_type": "code",
   "execution_count": 16,
   "metadata": {},
   "outputs": [
    {
     "name": "stdout",
     "output_type": "stream",
     "text": [
      "{'Ala': 8,\n",
      " 'Arg': 18,\n",
      " 'Asn': 12,\n",
      " 'Asp': 14,\n",
      " 'Cys': 16,\n",
      " 'Gln': 11,\n",
      " 'Glu': 15,\n",
      " 'Gly': 19,\n",
      " 'His': 10,\n",
      " 'Ile': 4,\n",
      " 'Leu': 1,\n",
      " 'Lys': 13,\n",
      " 'Met': 5,\n",
      " 'Phe': 0,\n",
      " 'Pro': 3,\n",
      " 'STOP': 20,\n",
      " 'Ser': 2,\n",
      " 'Thr': 7,\n",
      " 'Trp': 17,\n",
      " 'Tyr': 9,\n",
      " 'Val': 6}\n"
     ]
    }
   ],
   "source": [
    "pprint(aa_id)"
   ]
  },
  {
   "cell_type": "code",
   "execution_count": 17,
   "metadata": {},
   "outputs": [
    {
     "name": "stdout",
     "output_type": "stream",
     "text": [
      "{'AAA': 0, 'AAT': 1, 'AAC': 2, 'AAG': 3, 'ATA': 4, 'ATT': 5, 'ATC': 6, 'ATG': 7, 'ACA': 8, 'ACT': 9, 'ACC': 10, 'ACG': 11, 'AGA': 12, 'AGT': 13, 'AGC': 14, 'AGG': 15, 'TAA': 16, 'TAT': 17, 'TAC': 18, 'TAG': 19, 'TTA': 20, 'TTT': 21, 'TTC': 22, 'TTG': 23, 'TCA': 24, 'TCT': 25, 'TCC': 26, 'TCG': 27, 'TGA': 28, 'TGT': 29, 'TGC': 30, 'TGG': 31, 'CAA': 32, 'CAT': 33, 'CAC': 34, 'CAG': 35, 'CTA': 36, 'CTT': 37, 'CTC': 38, 'CTG': 39, 'CCA': 40, 'CCT': 41, 'CCC': 42, 'CCG': 43, 'CGA': 44, 'CGT': 45, 'CGC': 46, 'CGG': 47, 'GAA': 48, 'GAT': 49, 'GAC': 50, 'GAG': 51, 'GTA': 52, 'GTT': 53, 'GTC': 54, 'GTG': 55, 'GCA': 56, 'GCT': 57, 'GCC': 58, 'GCG': 59, 'GGA': 60, 'GGT': 61, 'GGC': 62, 'GGG': 63}\n"
     ]
    }
   ],
   "source": [
    "letters = 'ATCG'\n",
    "length = 3\n",
    "def build_voc(letters, length):\n",
    "    vocl = [''.join(x) for x in itertools.product(letters, repeat=length)]\n",
    "    voc = {}\n",
    "    i = 0\n",
    "    for v in vocl:\n",
    "        voc[v] = i\n",
    "        i+=1\n",
    "    return voc\n",
    "voc_id = build_voc(letters, length)\n",
    "print(voc_id)"
   ]
  },
  {
   "cell_type": "markdown",
   "metadata": {},
   "source": [
    "Make the inverse dictionary as a sanity check"
   ]
  },
  {
   "cell_type": "code",
   "execution_count": 18,
   "metadata": {
    "scrolled": true
   },
   "outputs": [],
   "source": [
    "dna_to_aa = {}\n",
    "for trp in voc_id.keys():\n",
    "    dna_to_aa[trp] = [k for (k, v) in aa_to_dna.items() if trp in v][0]"
   ]
  },
  {
   "cell_type": "code",
   "execution_count": 19,
   "metadata": {
    "scrolled": true
   },
   "outputs": [
    {
     "data": {
      "text/plain": [
       "{'AAA': 'Lys',\n",
       " 'AAT': 'Asn',\n",
       " 'AAC': 'Asn',\n",
       " 'AAG': 'Lys',\n",
       " 'ATA': 'Ile',\n",
       " 'ATT': 'Ile',\n",
       " 'ATC': 'Ile',\n",
       " 'ATG': 'Met',\n",
       " 'ACA': 'Thr',\n",
       " 'ACT': 'Thr',\n",
       " 'ACC': 'Thr',\n",
       " 'ACG': 'Thr',\n",
       " 'AGA': 'Arg',\n",
       " 'AGT': 'Ser',\n",
       " 'AGC': 'Ser',\n",
       " 'AGG': 'Arg',\n",
       " 'TAA': 'STOP',\n",
       " 'TAT': 'Tyr',\n",
       " 'TAC': 'Tyr',\n",
       " 'TAG': 'STOP',\n",
       " 'TTA': 'Leu',\n",
       " 'TTT': 'Phe',\n",
       " 'TTC': 'Phe',\n",
       " 'TTG': 'Leu',\n",
       " 'TCA': 'Ser',\n",
       " 'TCT': 'Ser',\n",
       " 'TCC': 'Ser',\n",
       " 'TCG': 'Ser',\n",
       " 'TGA': 'STOP',\n",
       " 'TGT': 'Cys',\n",
       " 'TGC': 'Cys',\n",
       " 'TGG': 'Trp',\n",
       " 'CAA': 'Gln',\n",
       " 'CAT': 'His',\n",
       " 'CAC': 'His',\n",
       " 'CAG': 'Gln',\n",
       " 'CTA': 'Leu',\n",
       " 'CTT': 'Leu',\n",
       " 'CTC': 'Leu',\n",
       " 'CTG': 'Leu',\n",
       " 'CCA': 'Pro',\n",
       " 'CCT': 'Pro',\n",
       " 'CCC': 'Pro',\n",
       " 'CCG': 'Pro',\n",
       " 'CGA': 'Arg',\n",
       " 'CGT': 'Arg',\n",
       " 'CGC': 'Arg',\n",
       " 'CGG': 'Arg',\n",
       " 'GAA': 'Glu',\n",
       " 'GAT': 'Asp',\n",
       " 'GAC': 'Asp',\n",
       " 'GAG': 'Glu',\n",
       " 'GTA': 'Val',\n",
       " 'GTT': 'Val',\n",
       " 'GTC': 'Val',\n",
       " 'GTG': 'Val',\n",
       " 'GCA': 'Ala',\n",
       " 'GCT': 'Ala',\n",
       " 'GCC': 'Ala',\n",
       " 'GCG': 'Ala',\n",
       " 'GGA': 'Gly',\n",
       " 'GGT': 'Gly',\n",
       " 'GGC': 'Gly',\n",
       " 'GGG': 'Gly'}"
      ]
     },
     "execution_count": 19,
     "metadata": {},
     "output_type": "execute_result"
    }
   ],
   "source": [
    "dna_to_aa"
   ]
  },
  {
   "cell_type": "code",
   "execution_count": 20,
   "metadata": {},
   "outputs": [
    {
     "name": "stdout",
     "output_type": "stream",
     "text": [
      "GGAGAATCATTTGAACCCGGGAGGTGGAGGTTGCCGTGAGCTGAGATTGCGCCATTGCACTCCAGCCTGGGCAACAAGAGCAAAACTCTGTCTCACAAAAC\n"
     ]
    }
   ],
   "source": [
    "seq = df['seq'][0]\n",
    "print(seq)"
   ]
  },
  {
   "cell_type": "code",
   "execution_count": 21,
   "metadata": {
    "scrolled": true
   },
   "outputs": [
    {
     "data": {
      "text/plain": [
       "0.7805"
      ]
     },
     "execution_count": 21,
     "metadata": {},
     "output_type": "execute_result"
    }
   ],
   "source": [
    "sum(['ATG' in df['seq'][i] for i in range(df.shape[0])])/df.shape[0]"
   ]
  },
  {
   "cell_type": "markdown",
   "metadata": {},
   "source": [
    "ATG is the Methionine which begins the translation: present in 78% of samples -> we cannot throw away the others. It means the sequences are incomplete and we cannot translate..."
   ]
  },
  {
   "cell_type": "markdown",
   "metadata": {},
   "source": [
    "## Adaptation of the spectrum kernel using genetic coding"
   ]
  },
  {
   "cell_type": "markdown",
   "metadata": {},
   "source": [
    "### Length 3"
   ]
  },
  {
   "cell_type": "code",
   "execution_count": 22,
   "metadata": {},
   "outputs": [],
   "source": [
    "def substrings(x, length):\n",
    "    n = len(x)\n",
    "    sub = []\n",
    "    assert n>=length, 'seq too small'\n",
    "    for i in range(n-length+1):\n",
    "        curr = x[i:i+length]\n",
    "        sub.append(curr)\n",
    "    return sub"
   ]
  },
  {
   "cell_type": "code",
   "execution_count": 23,
   "metadata": {},
   "outputs": [
    {
     "data": {
      "text/plain": [
       "99"
      ]
     },
     "execution_count": 23,
     "metadata": {},
     "output_type": "execute_result"
    }
   ],
   "source": [
    "len(substrings(seq, 3))"
   ]
  },
  {
   "cell_type": "code",
   "execution_count": 24,
   "metadata": {},
   "outputs": [],
   "source": [
    "def encode(sub, voc):\n",
    "    enc = np.zeros(len(voc))\n",
    "    for s in sub:\n",
    "        i = voc[dna_to_aa[s]]\n",
    "        enc[i] += 1\n",
    "    return enc"
   ]
  },
  {
   "cell_type": "code",
   "execution_count": 25,
   "metadata": {},
   "outputs": [
    {
     "name": "stdout",
     "output_type": "stream",
     "text": [
      "Vocabulary has size 21\n"
     ]
    }
   ],
   "source": [
    "letters = 'ATCG'\n",
    "length = 3\n",
    "voc = aa_id\n",
    "print('Vocabulary has size', len(voc))"
   ]
  },
  {
   "cell_type": "code",
   "execution_count": 26,
   "metadata": {
    "scrolled": true
   },
   "outputs": [
    {
     "name": "stderr",
     "output_type": "stream",
     "text": [
      "2000it [00:02, 673.28it/s]\n",
      "0it [00:00, ?it/s]\n"
     ]
    },
    {
     "ename": "KeyboardInterrupt",
     "evalue": "",
     "output_type": "error",
     "traceback": [
      "\u001b[0;31m---------------------------------------------------------------------------\u001b[0m",
      "\u001b[0;31mKeyboardInterrupt\u001b[0m                         Traceback (most recent call last)",
      "\u001b[0;32m<ipython-input-26-948085e454df>\u001b[0m in \u001b[0;36m<module>\u001b[0;34m()\u001b[0m\n\u001b[1;32m      6\u001b[0m         \u001b[0mseq\u001b[0m \u001b[0;34m=\u001b[0m \u001b[0mr\u001b[0m\u001b[0;34m[\u001b[0m\u001b[0;34m'seq'\u001b[0m\u001b[0;34m]\u001b[0m\u001b[0;34m\u001b[0m\u001b[0m\n\u001b[1;32m      7\u001b[0m         \u001b[0menc\u001b[0m \u001b[0;34m=\u001b[0m \u001b[0mencode\u001b[0m\u001b[0;34m(\u001b[0m\u001b[0msubstrings\u001b[0m\u001b[0;34m(\u001b[0m\u001b[0mseq\u001b[0m\u001b[0;34m,\u001b[0m \u001b[0mlength\u001b[0m\u001b[0;34m)\u001b[0m\u001b[0;34m,\u001b[0m \u001b[0mvoc\u001b[0m\u001b[0;34m)\u001b[0m\u001b[0;34m\u001b[0m\u001b[0m\n\u001b[0;32m----> 8\u001b[0;31m         \u001b[0mdf_emb\u001b[0m\u001b[0;34m.\u001b[0m\u001b[0mloc\u001b[0m\u001b[0;34m[\u001b[0m\u001b[0mi\u001b[0m\u001b[0;34m]\u001b[0m \u001b[0;34m=\u001b[0m \u001b[0menc\u001b[0m\u001b[0;34m\u001b[0m\u001b[0m\n\u001b[0m\u001b[1;32m      9\u001b[0m     df_emb.to_csv('data/'\n\u001b[1;32m     10\u001b[0m               + 'Xtr' +str(ind) + '_translated'+'.csv', header = False, index = False, sep=\" \")\n",
      "\u001b[0;32m~/anaconda3/lib/python3.7/site-packages/pandas/core/indexing.py\u001b[0m in \u001b[0;36m__setitem__\u001b[0;34m(self, key, value)\u001b[0m\n\u001b[1;32m    187\u001b[0m             \u001b[0mkey\u001b[0m \u001b[0;34m=\u001b[0m \u001b[0mcom\u001b[0m\u001b[0;34m.\u001b[0m\u001b[0m_apply_if_callable\u001b[0m\u001b[0;34m(\u001b[0m\u001b[0mkey\u001b[0m\u001b[0;34m,\u001b[0m \u001b[0mself\u001b[0m\u001b[0;34m.\u001b[0m\u001b[0mobj\u001b[0m\u001b[0;34m)\u001b[0m\u001b[0;34m\u001b[0m\u001b[0m\n\u001b[1;32m    188\u001b[0m         \u001b[0mindexer\u001b[0m \u001b[0;34m=\u001b[0m \u001b[0mself\u001b[0m\u001b[0;34m.\u001b[0m\u001b[0m_get_setitem_indexer\u001b[0m\u001b[0;34m(\u001b[0m\u001b[0mkey\u001b[0m\u001b[0;34m)\u001b[0m\u001b[0;34m\u001b[0m\u001b[0m\n\u001b[0;32m--> 189\u001b[0;31m         \u001b[0mself\u001b[0m\u001b[0;34m.\u001b[0m\u001b[0m_setitem_with_indexer\u001b[0m\u001b[0;34m(\u001b[0m\u001b[0mindexer\u001b[0m\u001b[0;34m,\u001b[0m \u001b[0mvalue\u001b[0m\u001b[0;34m)\u001b[0m\u001b[0;34m\u001b[0m\u001b[0m\n\u001b[0m\u001b[1;32m    190\u001b[0m \u001b[0;34m\u001b[0m\u001b[0m\n\u001b[1;32m    191\u001b[0m     \u001b[0;32mdef\u001b[0m \u001b[0m_validate_key\u001b[0m\u001b[0;34m(\u001b[0m\u001b[0mself\u001b[0m\u001b[0;34m,\u001b[0m \u001b[0mkey\u001b[0m\u001b[0;34m,\u001b[0m \u001b[0maxis\u001b[0m\u001b[0;34m)\u001b[0m\u001b[0;34m:\u001b[0m\u001b[0;34m\u001b[0m\u001b[0m\n",
      "\u001b[0;32m~/anaconda3/lib/python3.7/site-packages/pandas/core/indexing.py\u001b[0m in \u001b[0;36m_setitem_with_indexer\u001b[0;34m(self, indexer, value)\u001b[0m\n\u001b[1;32m    449\u001b[0m                                        name=indexer)\n\u001b[1;32m    450\u001b[0m \u001b[0;34m\u001b[0m\u001b[0m\n\u001b[0;32m--> 451\u001b[0;31m                     \u001b[0mself\u001b[0m\u001b[0;34m.\u001b[0m\u001b[0mobj\u001b[0m\u001b[0;34m.\u001b[0m\u001b[0m_data\u001b[0m \u001b[0;34m=\u001b[0m \u001b[0mself\u001b[0m\u001b[0;34m.\u001b[0m\u001b[0mobj\u001b[0m\u001b[0;34m.\u001b[0m\u001b[0mappend\u001b[0m\u001b[0;34m(\u001b[0m\u001b[0mvalue\u001b[0m\u001b[0;34m)\u001b[0m\u001b[0;34m.\u001b[0m\u001b[0m_data\u001b[0m\u001b[0;34m\u001b[0m\u001b[0m\n\u001b[0m\u001b[1;32m    452\u001b[0m                     \u001b[0mself\u001b[0m\u001b[0;34m.\u001b[0m\u001b[0mobj\u001b[0m\u001b[0;34m.\u001b[0m\u001b[0m_maybe_update_cacher\u001b[0m\u001b[0;34m(\u001b[0m\u001b[0mclear\u001b[0m\u001b[0;34m=\u001b[0m\u001b[0;32mTrue\u001b[0m\u001b[0;34m)\u001b[0m\u001b[0;34m\u001b[0m\u001b[0m\n\u001b[1;32m    453\u001b[0m                     \u001b[0;32mreturn\u001b[0m \u001b[0mself\u001b[0m\u001b[0;34m.\u001b[0m\u001b[0mobj\u001b[0m\u001b[0;34m\u001b[0m\u001b[0m\n",
      "\u001b[0;32m~/anaconda3/lib/python3.7/site-packages/pandas/core/frame.py\u001b[0m in \u001b[0;36mappend\u001b[0;34m(self, other, ignore_index, verify_integrity, sort)\u001b[0m\n\u001b[1;32m   6190\u001b[0m             \u001b[0;32mexcept\u001b[0m \u001b[0mTypeError\u001b[0m\u001b[0;34m:\u001b[0m\u001b[0;34m\u001b[0m\u001b[0m\n\u001b[1;32m   6191\u001b[0m                 \u001b[0mcombined_columns\u001b[0m \u001b[0;34m=\u001b[0m \u001b[0mself\u001b[0m\u001b[0;34m.\u001b[0m\u001b[0mcolumns\u001b[0m\u001b[0;34m.\u001b[0m\u001b[0mastype\u001b[0m\u001b[0;34m(\u001b[0m\u001b[0mobject\u001b[0m\u001b[0;34m)\u001b[0m\u001b[0;34m.\u001b[0m\u001b[0mappend\u001b[0m\u001b[0;34m(\u001b[0m\u001b[0midx_diff\u001b[0m\u001b[0;34m)\u001b[0m\u001b[0;34m\u001b[0m\u001b[0m\n\u001b[0;32m-> 6192\u001b[0;31m             \u001b[0mother\u001b[0m \u001b[0;34m=\u001b[0m \u001b[0mother\u001b[0m\u001b[0;34m.\u001b[0m\u001b[0mreindex\u001b[0m\u001b[0;34m(\u001b[0m\u001b[0mcombined_columns\u001b[0m\u001b[0;34m,\u001b[0m \u001b[0mcopy\u001b[0m\u001b[0;34m=\u001b[0m\u001b[0;32mFalse\u001b[0m\u001b[0;34m)\u001b[0m\u001b[0;34m\u001b[0m\u001b[0m\n\u001b[0m\u001b[1;32m   6193\u001b[0m             other = DataFrame(other.values.reshape((1, len(other))),\n\u001b[1;32m   6194\u001b[0m                               \u001b[0mindex\u001b[0m\u001b[0;34m=\u001b[0m\u001b[0mindex\u001b[0m\u001b[0;34m,\u001b[0m\u001b[0;34m\u001b[0m\u001b[0m\n",
      "\u001b[0;32m~/anaconda3/lib/python3.7/site-packages/pandas/core/series.py\u001b[0m in \u001b[0;36mreindex\u001b[0;34m(self, index, **kwargs)\u001b[0m\n\u001b[1;32m   3323\u001b[0m     \u001b[0;34m@\u001b[0m\u001b[0mAppender\u001b[0m\u001b[0;34m(\u001b[0m\u001b[0mgeneric\u001b[0m\u001b[0;34m.\u001b[0m\u001b[0m_shared_docs\u001b[0m\u001b[0;34m[\u001b[0m\u001b[0;34m'reindex'\u001b[0m\u001b[0;34m]\u001b[0m \u001b[0;34m%\u001b[0m \u001b[0m_shared_doc_kwargs\u001b[0m\u001b[0;34m)\u001b[0m\u001b[0;34m\u001b[0m\u001b[0m\n\u001b[1;32m   3324\u001b[0m     \u001b[0;32mdef\u001b[0m \u001b[0mreindex\u001b[0m\u001b[0;34m(\u001b[0m\u001b[0mself\u001b[0m\u001b[0;34m,\u001b[0m \u001b[0mindex\u001b[0m\u001b[0;34m=\u001b[0m\u001b[0;32mNone\u001b[0m\u001b[0;34m,\u001b[0m \u001b[0;34m**\u001b[0m\u001b[0mkwargs\u001b[0m\u001b[0;34m)\u001b[0m\u001b[0;34m:\u001b[0m\u001b[0;34m\u001b[0m\u001b[0m\n\u001b[0;32m-> 3325\u001b[0;31m         \u001b[0;32mreturn\u001b[0m \u001b[0msuper\u001b[0m\u001b[0;34m(\u001b[0m\u001b[0mSeries\u001b[0m\u001b[0;34m,\u001b[0m \u001b[0mself\u001b[0m\u001b[0;34m)\u001b[0m\u001b[0;34m.\u001b[0m\u001b[0mreindex\u001b[0m\u001b[0;34m(\u001b[0m\u001b[0mindex\u001b[0m\u001b[0;34m=\u001b[0m\u001b[0mindex\u001b[0m\u001b[0;34m,\u001b[0m \u001b[0;34m**\u001b[0m\u001b[0mkwargs\u001b[0m\u001b[0;34m)\u001b[0m\u001b[0;34m\u001b[0m\u001b[0m\n\u001b[0m\u001b[1;32m   3326\u001b[0m \u001b[0;34m\u001b[0m\u001b[0m\n\u001b[1;32m   3327\u001b[0m     def drop(self, labels=None, axis=0, index=None, columns=None,\n",
      "\u001b[0;32m~/anaconda3/lib/python3.7/site-packages/pandas/core/generic.py\u001b[0m in \u001b[0;36mreindex\u001b[0;34m(self, *args, **kwargs)\u001b[0m\n\u001b[1;32m   3654\u001b[0m         \u001b[0mmethod\u001b[0m \u001b[0;34m=\u001b[0m \u001b[0mmissing\u001b[0m\u001b[0;34m.\u001b[0m\u001b[0mclean_reindex_fill_method\u001b[0m\u001b[0;34m(\u001b[0m\u001b[0mkwargs\u001b[0m\u001b[0;34m.\u001b[0m\u001b[0mpop\u001b[0m\u001b[0;34m(\u001b[0m\u001b[0;34m'method'\u001b[0m\u001b[0;34m,\u001b[0m \u001b[0;32mNone\u001b[0m\u001b[0;34m)\u001b[0m\u001b[0;34m)\u001b[0m\u001b[0;34m\u001b[0m\u001b[0m\n\u001b[1;32m   3655\u001b[0m         \u001b[0mlevel\u001b[0m \u001b[0;34m=\u001b[0m \u001b[0mkwargs\u001b[0m\u001b[0;34m.\u001b[0m\u001b[0mpop\u001b[0m\u001b[0;34m(\u001b[0m\u001b[0;34m'level'\u001b[0m\u001b[0;34m,\u001b[0m \u001b[0;32mNone\u001b[0m\u001b[0;34m)\u001b[0m\u001b[0;34m\u001b[0m\u001b[0m\n\u001b[0;32m-> 3656\u001b[0;31m         \u001b[0mcopy\u001b[0m \u001b[0;34m=\u001b[0m \u001b[0mkwargs\u001b[0m\u001b[0;34m.\u001b[0m\u001b[0mpop\u001b[0m\u001b[0;34m(\u001b[0m\u001b[0;34m'copy'\u001b[0m\u001b[0;34m,\u001b[0m \u001b[0;32mTrue\u001b[0m\u001b[0;34m)\u001b[0m\u001b[0;34m\u001b[0m\u001b[0m\n\u001b[0m\u001b[1;32m   3657\u001b[0m         \u001b[0mlimit\u001b[0m \u001b[0;34m=\u001b[0m \u001b[0mkwargs\u001b[0m\u001b[0;34m.\u001b[0m\u001b[0mpop\u001b[0m\u001b[0;34m(\u001b[0m\u001b[0;34m'limit'\u001b[0m\u001b[0;34m,\u001b[0m \u001b[0;32mNone\u001b[0m\u001b[0;34m)\u001b[0m\u001b[0;34m\u001b[0m\u001b[0m\n\u001b[1;32m   3658\u001b[0m         \u001b[0mtolerance\u001b[0m \u001b[0;34m=\u001b[0m \u001b[0mkwargs\u001b[0m\u001b[0;34m.\u001b[0m\u001b[0mpop\u001b[0m\u001b[0;34m(\u001b[0m\u001b[0;34m'tolerance'\u001b[0m\u001b[0;34m,\u001b[0m \u001b[0;32mNone\u001b[0m\u001b[0;34m)\u001b[0m\u001b[0;34m\u001b[0m\u001b[0m\n",
      "\u001b[0;31mKeyboardInterrupt\u001b[0m: "
     ]
    }
   ],
   "source": [
    "for ind in range(3):\n",
    "    df = pd.read_csv('data/Xtr'+str(ind)+'.csv')\n",
    "    df_emb = pd.DataFrame(columns = [str(i) for i in range(len(voc))])\n",
    "    for _, r in tqdm.tqdm(df.iterrows()):\n",
    "        i = r['Id']\n",
    "        seq = r['seq']\n",
    "        enc = encode(substrings(seq, length), voc)\n",
    "        df_emb.loc[i] = enc\n",
    "    df_emb.to_csv('data/'\n",
    "              + 'Xtr' +str(ind) + '_translated'+'.csv', header = False, index = False, sep=\" \")\n"
   ]
  },
  {
   "cell_type": "code",
   "execution_count": 79,
   "metadata": {},
   "outputs": [
    {
     "name": "stderr",
     "output_type": "stream",
     "text": [
      "1000it [00:01, 670.51it/s]\n",
      "1000it [00:01, 672.96it/s]\n",
      "1000it [00:01, 759.24it/s]\n"
     ]
    }
   ],
   "source": [
    "for ind in range(3):\n",
    "    df = pd.read_csv('data/Xte'+str(ind)+'.csv')\n",
    "    df_emb = pd.DataFrame(columns = [str(i) for i in range(len(voc))])\n",
    "    for _, r in tqdm.tqdm(df.iterrows()):\n",
    "        i = r['Id']\n",
    "        seq = r['seq']\n",
    "        enc = encode(substrings(seq, length), voc)\n",
    "        df_emb.loc[i] = enc\n",
    "    df_emb.to_csv('data/'\n",
    "              + 'Xte' +str(ind) + '_translated'+'.csv', header = False, index = False, sep=\" \")"
   ]
  },
  {
   "cell_type": "markdown",
   "metadata": {},
   "source": [
    "### Length 6: TODO"
   ]
  },
  {
   "cell_type": "markdown",
   "metadata": {},
   "source": [
    "Comparison of exact subsequences of size 6, up to the coding -> should be better than allowing random substitutions. Translate each couple of aa and compare them. Vocabulary has size $21\\times 21=441$."
   ]
  },
  {
   "cell_type": "code",
   "execution_count": 37,
   "metadata": {},
   "outputs": [
    {
     "data": {
      "text/plain": [
       "{'Phe-Phe': 0,\n",
       " 'Phe-Leu': 1,\n",
       " 'Phe-Ser': 2,\n",
       " 'Phe-Pro': 3,\n",
       " 'Phe-Ile': 4,\n",
       " 'Phe-Met': 5,\n",
       " 'Phe-Val': 6,\n",
       " 'Phe-Thr': 7,\n",
       " 'Phe-Ala': 8,\n",
       " 'Phe-Tyr': 9,\n",
       " 'Phe-His': 10,\n",
       " 'Phe-Gln': 11,\n",
       " 'Phe-Asn': 12,\n",
       " 'Phe-Lys': 13,\n",
       " 'Phe-Asp': 14,\n",
       " 'Phe-Glu': 15,\n",
       " 'Phe-Cys': 16,\n",
       " 'Phe-Trp': 17,\n",
       " 'Phe-Arg': 18,\n",
       " 'Phe-Gly': 19,\n",
       " 'Phe-STOP': 20,\n",
       " 'Leu-Phe': 21,\n",
       " 'Leu-Leu': 22,\n",
       " 'Leu-Ser': 23,\n",
       " 'Leu-Pro': 24,\n",
       " 'Leu-Ile': 25,\n",
       " 'Leu-Met': 26,\n",
       " 'Leu-Val': 27,\n",
       " 'Leu-Thr': 28,\n",
       " 'Leu-Ala': 29,\n",
       " 'Leu-Tyr': 30,\n",
       " 'Leu-His': 31,\n",
       " 'Leu-Gln': 32,\n",
       " 'Leu-Asn': 33,\n",
       " 'Leu-Lys': 34,\n",
       " 'Leu-Asp': 35,\n",
       " 'Leu-Glu': 36,\n",
       " 'Leu-Cys': 37,\n",
       " 'Leu-Trp': 38,\n",
       " 'Leu-Arg': 39,\n",
       " 'Leu-Gly': 40,\n",
       " 'Leu-STOP': 41,\n",
       " 'Ser-Phe': 42,\n",
       " 'Ser-Leu': 43,\n",
       " 'Ser-Ser': 44,\n",
       " 'Ser-Pro': 45,\n",
       " 'Ser-Ile': 46,\n",
       " 'Ser-Met': 47,\n",
       " 'Ser-Val': 48,\n",
       " 'Ser-Thr': 49,\n",
       " 'Ser-Ala': 50,\n",
       " 'Ser-Tyr': 51,\n",
       " 'Ser-His': 52,\n",
       " 'Ser-Gln': 53,\n",
       " 'Ser-Asn': 54,\n",
       " 'Ser-Lys': 55,\n",
       " 'Ser-Asp': 56,\n",
       " 'Ser-Glu': 57,\n",
       " 'Ser-Cys': 58,\n",
       " 'Ser-Trp': 59,\n",
       " 'Ser-Arg': 60,\n",
       " 'Ser-Gly': 61,\n",
       " 'Ser-STOP': 62,\n",
       " 'Pro-Phe': 63,\n",
       " 'Pro-Leu': 64,\n",
       " 'Pro-Ser': 65,\n",
       " 'Pro-Pro': 66,\n",
       " 'Pro-Ile': 67,\n",
       " 'Pro-Met': 68,\n",
       " 'Pro-Val': 69,\n",
       " 'Pro-Thr': 70,\n",
       " 'Pro-Ala': 71,\n",
       " 'Pro-Tyr': 72,\n",
       " 'Pro-His': 73,\n",
       " 'Pro-Gln': 74,\n",
       " 'Pro-Asn': 75,\n",
       " 'Pro-Lys': 76,\n",
       " 'Pro-Asp': 77,\n",
       " 'Pro-Glu': 78,\n",
       " 'Pro-Cys': 79,\n",
       " 'Pro-Trp': 80,\n",
       " 'Pro-Arg': 81,\n",
       " 'Pro-Gly': 82,\n",
       " 'Pro-STOP': 83,\n",
       " 'Ile-Phe': 84,\n",
       " 'Ile-Leu': 85,\n",
       " 'Ile-Ser': 86,\n",
       " 'Ile-Pro': 87,\n",
       " 'Ile-Ile': 88,\n",
       " 'Ile-Met': 89,\n",
       " 'Ile-Val': 90,\n",
       " 'Ile-Thr': 91,\n",
       " 'Ile-Ala': 92,\n",
       " 'Ile-Tyr': 93,\n",
       " 'Ile-His': 94,\n",
       " 'Ile-Gln': 95,\n",
       " 'Ile-Asn': 96,\n",
       " 'Ile-Lys': 97,\n",
       " 'Ile-Asp': 98,\n",
       " 'Ile-Glu': 99,\n",
       " 'Ile-Cys': 100,\n",
       " 'Ile-Trp': 101,\n",
       " 'Ile-Arg': 102,\n",
       " 'Ile-Gly': 103,\n",
       " 'Ile-STOP': 104,\n",
       " 'Met-Phe': 105,\n",
       " 'Met-Leu': 106,\n",
       " 'Met-Ser': 107,\n",
       " 'Met-Pro': 108,\n",
       " 'Met-Ile': 109,\n",
       " 'Met-Met': 110,\n",
       " 'Met-Val': 111,\n",
       " 'Met-Thr': 112,\n",
       " 'Met-Ala': 113,\n",
       " 'Met-Tyr': 114,\n",
       " 'Met-His': 115,\n",
       " 'Met-Gln': 116,\n",
       " 'Met-Asn': 117,\n",
       " 'Met-Lys': 118,\n",
       " 'Met-Asp': 119,\n",
       " 'Met-Glu': 120,\n",
       " 'Met-Cys': 121,\n",
       " 'Met-Trp': 122,\n",
       " 'Met-Arg': 123,\n",
       " 'Met-Gly': 124,\n",
       " 'Met-STOP': 125,\n",
       " 'Val-Phe': 126,\n",
       " 'Val-Leu': 127,\n",
       " 'Val-Ser': 128,\n",
       " 'Val-Pro': 129,\n",
       " 'Val-Ile': 130,\n",
       " 'Val-Met': 131,\n",
       " 'Val-Val': 132,\n",
       " 'Val-Thr': 133,\n",
       " 'Val-Ala': 134,\n",
       " 'Val-Tyr': 135,\n",
       " 'Val-His': 136,\n",
       " 'Val-Gln': 137,\n",
       " 'Val-Asn': 138,\n",
       " 'Val-Lys': 139,\n",
       " 'Val-Asp': 140,\n",
       " 'Val-Glu': 141,\n",
       " 'Val-Cys': 142,\n",
       " 'Val-Trp': 143,\n",
       " 'Val-Arg': 144,\n",
       " 'Val-Gly': 145,\n",
       " 'Val-STOP': 146,\n",
       " 'Thr-Phe': 147,\n",
       " 'Thr-Leu': 148,\n",
       " 'Thr-Ser': 149,\n",
       " 'Thr-Pro': 150,\n",
       " 'Thr-Ile': 151,\n",
       " 'Thr-Met': 152,\n",
       " 'Thr-Val': 153,\n",
       " 'Thr-Thr': 154,\n",
       " 'Thr-Ala': 155,\n",
       " 'Thr-Tyr': 156,\n",
       " 'Thr-His': 157,\n",
       " 'Thr-Gln': 158,\n",
       " 'Thr-Asn': 159,\n",
       " 'Thr-Lys': 160,\n",
       " 'Thr-Asp': 161,\n",
       " 'Thr-Glu': 162,\n",
       " 'Thr-Cys': 163,\n",
       " 'Thr-Trp': 164,\n",
       " 'Thr-Arg': 165,\n",
       " 'Thr-Gly': 166,\n",
       " 'Thr-STOP': 167,\n",
       " 'Ala-Phe': 168,\n",
       " 'Ala-Leu': 169,\n",
       " 'Ala-Ser': 170,\n",
       " 'Ala-Pro': 171,\n",
       " 'Ala-Ile': 172,\n",
       " 'Ala-Met': 173,\n",
       " 'Ala-Val': 174,\n",
       " 'Ala-Thr': 175,\n",
       " 'Ala-Ala': 176,\n",
       " 'Ala-Tyr': 177,\n",
       " 'Ala-His': 178,\n",
       " 'Ala-Gln': 179,\n",
       " 'Ala-Asn': 180,\n",
       " 'Ala-Lys': 181,\n",
       " 'Ala-Asp': 182,\n",
       " 'Ala-Glu': 183,\n",
       " 'Ala-Cys': 184,\n",
       " 'Ala-Trp': 185,\n",
       " 'Ala-Arg': 186,\n",
       " 'Ala-Gly': 187,\n",
       " 'Ala-STOP': 188,\n",
       " 'Tyr-Phe': 189,\n",
       " 'Tyr-Leu': 190,\n",
       " 'Tyr-Ser': 191,\n",
       " 'Tyr-Pro': 192,\n",
       " 'Tyr-Ile': 193,\n",
       " 'Tyr-Met': 194,\n",
       " 'Tyr-Val': 195,\n",
       " 'Tyr-Thr': 196,\n",
       " 'Tyr-Ala': 197,\n",
       " 'Tyr-Tyr': 198,\n",
       " 'Tyr-His': 199,\n",
       " 'Tyr-Gln': 200,\n",
       " 'Tyr-Asn': 201,\n",
       " 'Tyr-Lys': 202,\n",
       " 'Tyr-Asp': 203,\n",
       " 'Tyr-Glu': 204,\n",
       " 'Tyr-Cys': 205,\n",
       " 'Tyr-Trp': 206,\n",
       " 'Tyr-Arg': 207,\n",
       " 'Tyr-Gly': 208,\n",
       " 'Tyr-STOP': 209,\n",
       " 'His-Phe': 210,\n",
       " 'His-Leu': 211,\n",
       " 'His-Ser': 212,\n",
       " 'His-Pro': 213,\n",
       " 'His-Ile': 214,\n",
       " 'His-Met': 215,\n",
       " 'His-Val': 216,\n",
       " 'His-Thr': 217,\n",
       " 'His-Ala': 218,\n",
       " 'His-Tyr': 219,\n",
       " 'His-His': 220,\n",
       " 'His-Gln': 221,\n",
       " 'His-Asn': 222,\n",
       " 'His-Lys': 223,\n",
       " 'His-Asp': 224,\n",
       " 'His-Glu': 225,\n",
       " 'His-Cys': 226,\n",
       " 'His-Trp': 227,\n",
       " 'His-Arg': 228,\n",
       " 'His-Gly': 229,\n",
       " 'His-STOP': 230,\n",
       " 'Gln-Phe': 231,\n",
       " 'Gln-Leu': 232,\n",
       " 'Gln-Ser': 233,\n",
       " 'Gln-Pro': 234,\n",
       " 'Gln-Ile': 235,\n",
       " 'Gln-Met': 236,\n",
       " 'Gln-Val': 237,\n",
       " 'Gln-Thr': 238,\n",
       " 'Gln-Ala': 239,\n",
       " 'Gln-Tyr': 240,\n",
       " 'Gln-His': 241,\n",
       " 'Gln-Gln': 242,\n",
       " 'Gln-Asn': 243,\n",
       " 'Gln-Lys': 244,\n",
       " 'Gln-Asp': 245,\n",
       " 'Gln-Glu': 246,\n",
       " 'Gln-Cys': 247,\n",
       " 'Gln-Trp': 248,\n",
       " 'Gln-Arg': 249,\n",
       " 'Gln-Gly': 250,\n",
       " 'Gln-STOP': 251,\n",
       " 'Asn-Phe': 252,\n",
       " 'Asn-Leu': 253,\n",
       " 'Asn-Ser': 254,\n",
       " 'Asn-Pro': 255,\n",
       " 'Asn-Ile': 256,\n",
       " 'Asn-Met': 257,\n",
       " 'Asn-Val': 258,\n",
       " 'Asn-Thr': 259,\n",
       " 'Asn-Ala': 260,\n",
       " 'Asn-Tyr': 261,\n",
       " 'Asn-His': 262,\n",
       " 'Asn-Gln': 263,\n",
       " 'Asn-Asn': 264,\n",
       " 'Asn-Lys': 265,\n",
       " 'Asn-Asp': 266,\n",
       " 'Asn-Glu': 267,\n",
       " 'Asn-Cys': 268,\n",
       " 'Asn-Trp': 269,\n",
       " 'Asn-Arg': 270,\n",
       " 'Asn-Gly': 271,\n",
       " 'Asn-STOP': 272,\n",
       " 'Lys-Phe': 273,\n",
       " 'Lys-Leu': 274,\n",
       " 'Lys-Ser': 275,\n",
       " 'Lys-Pro': 276,\n",
       " 'Lys-Ile': 277,\n",
       " 'Lys-Met': 278,\n",
       " 'Lys-Val': 279,\n",
       " 'Lys-Thr': 280,\n",
       " 'Lys-Ala': 281,\n",
       " 'Lys-Tyr': 282,\n",
       " 'Lys-His': 283,\n",
       " 'Lys-Gln': 284,\n",
       " 'Lys-Asn': 285,\n",
       " 'Lys-Lys': 286,\n",
       " 'Lys-Asp': 287,\n",
       " 'Lys-Glu': 288,\n",
       " 'Lys-Cys': 289,\n",
       " 'Lys-Trp': 290,\n",
       " 'Lys-Arg': 291,\n",
       " 'Lys-Gly': 292,\n",
       " 'Lys-STOP': 293,\n",
       " 'Asp-Phe': 294,\n",
       " 'Asp-Leu': 295,\n",
       " 'Asp-Ser': 296,\n",
       " 'Asp-Pro': 297,\n",
       " 'Asp-Ile': 298,\n",
       " 'Asp-Met': 299,\n",
       " 'Asp-Val': 300,\n",
       " 'Asp-Thr': 301,\n",
       " 'Asp-Ala': 302,\n",
       " 'Asp-Tyr': 303,\n",
       " 'Asp-His': 304,\n",
       " 'Asp-Gln': 305,\n",
       " 'Asp-Asn': 306,\n",
       " 'Asp-Lys': 307,\n",
       " 'Asp-Asp': 308,\n",
       " 'Asp-Glu': 309,\n",
       " 'Asp-Cys': 310,\n",
       " 'Asp-Trp': 311,\n",
       " 'Asp-Arg': 312,\n",
       " 'Asp-Gly': 313,\n",
       " 'Asp-STOP': 314,\n",
       " 'Glu-Phe': 315,\n",
       " 'Glu-Leu': 316,\n",
       " 'Glu-Ser': 317,\n",
       " 'Glu-Pro': 318,\n",
       " 'Glu-Ile': 319,\n",
       " 'Glu-Met': 320,\n",
       " 'Glu-Val': 321,\n",
       " 'Glu-Thr': 322,\n",
       " 'Glu-Ala': 323,\n",
       " 'Glu-Tyr': 324,\n",
       " 'Glu-His': 325,\n",
       " 'Glu-Gln': 326,\n",
       " 'Glu-Asn': 327,\n",
       " 'Glu-Lys': 328,\n",
       " 'Glu-Asp': 329,\n",
       " 'Glu-Glu': 330,\n",
       " 'Glu-Cys': 331,\n",
       " 'Glu-Trp': 332,\n",
       " 'Glu-Arg': 333,\n",
       " 'Glu-Gly': 334,\n",
       " 'Glu-STOP': 335,\n",
       " 'Cys-Phe': 336,\n",
       " 'Cys-Leu': 337,\n",
       " 'Cys-Ser': 338,\n",
       " 'Cys-Pro': 339,\n",
       " 'Cys-Ile': 340,\n",
       " 'Cys-Met': 341,\n",
       " 'Cys-Val': 342,\n",
       " 'Cys-Thr': 343,\n",
       " 'Cys-Ala': 344,\n",
       " 'Cys-Tyr': 345,\n",
       " 'Cys-His': 346,\n",
       " 'Cys-Gln': 347,\n",
       " 'Cys-Asn': 348,\n",
       " 'Cys-Lys': 349,\n",
       " 'Cys-Asp': 350,\n",
       " 'Cys-Glu': 351,\n",
       " 'Cys-Cys': 352,\n",
       " 'Cys-Trp': 353,\n",
       " 'Cys-Arg': 354,\n",
       " 'Cys-Gly': 355,\n",
       " 'Cys-STOP': 356,\n",
       " 'Trp-Phe': 357,\n",
       " 'Trp-Leu': 358,\n",
       " 'Trp-Ser': 359,\n",
       " 'Trp-Pro': 360,\n",
       " 'Trp-Ile': 361,\n",
       " 'Trp-Met': 362,\n",
       " 'Trp-Val': 363,\n",
       " 'Trp-Thr': 364,\n",
       " 'Trp-Ala': 365,\n",
       " 'Trp-Tyr': 366,\n",
       " 'Trp-His': 367,\n",
       " 'Trp-Gln': 368,\n",
       " 'Trp-Asn': 369,\n",
       " 'Trp-Lys': 370,\n",
       " 'Trp-Asp': 371,\n",
       " 'Trp-Glu': 372,\n",
       " 'Trp-Cys': 373,\n",
       " 'Trp-Trp': 374,\n",
       " 'Trp-Arg': 375,\n",
       " 'Trp-Gly': 376,\n",
       " 'Trp-STOP': 377,\n",
       " 'Arg-Phe': 378,\n",
       " 'Arg-Leu': 379,\n",
       " 'Arg-Ser': 380,\n",
       " 'Arg-Pro': 381,\n",
       " 'Arg-Ile': 382,\n",
       " 'Arg-Met': 383,\n",
       " 'Arg-Val': 384,\n",
       " 'Arg-Thr': 385,\n",
       " 'Arg-Ala': 386,\n",
       " 'Arg-Tyr': 387,\n",
       " 'Arg-His': 388,\n",
       " 'Arg-Gln': 389,\n",
       " 'Arg-Asn': 390,\n",
       " 'Arg-Lys': 391,\n",
       " 'Arg-Asp': 392,\n",
       " 'Arg-Glu': 393,\n",
       " 'Arg-Cys': 394,\n",
       " 'Arg-Trp': 395,\n",
       " 'Arg-Arg': 396,\n",
       " 'Arg-Gly': 397,\n",
       " 'Arg-STOP': 398,\n",
       " 'Gly-Phe': 399,\n",
       " 'Gly-Leu': 400,\n",
       " 'Gly-Ser': 401,\n",
       " 'Gly-Pro': 402,\n",
       " 'Gly-Ile': 403,\n",
       " 'Gly-Met': 404,\n",
       " 'Gly-Val': 405,\n",
       " 'Gly-Thr': 406,\n",
       " 'Gly-Ala': 407,\n",
       " 'Gly-Tyr': 408,\n",
       " 'Gly-His': 409,\n",
       " 'Gly-Gln': 410,\n",
       " 'Gly-Asn': 411,\n",
       " 'Gly-Lys': 412,\n",
       " 'Gly-Asp': 413,\n",
       " 'Gly-Glu': 414,\n",
       " 'Gly-Cys': 415,\n",
       " 'Gly-Trp': 416,\n",
       " 'Gly-Arg': 417,\n",
       " 'Gly-Gly': 418,\n",
       " 'Gly-STOP': 419,\n",
       " 'STOP-Phe': 420,\n",
       " 'STOP-Leu': 421,\n",
       " 'STOP-Ser': 422,\n",
       " 'STOP-Pro': 423,\n",
       " 'STOP-Ile': 424,\n",
       " 'STOP-Met': 425,\n",
       " 'STOP-Val': 426,\n",
       " 'STOP-Thr': 427,\n",
       " 'STOP-Ala': 428,\n",
       " 'STOP-Tyr': 429,\n",
       " 'STOP-His': 430,\n",
       " 'STOP-Gln': 431,\n",
       " 'STOP-Asn': 432,\n",
       " 'STOP-Lys': 433,\n",
       " 'STOP-Asp': 434,\n",
       " 'STOP-Glu': 435,\n",
       " 'STOP-Cys': 436,\n",
       " 'STOP-Trp': 437,\n",
       " 'STOP-Arg': 438,\n",
       " 'STOP-Gly': 439,\n",
       " 'STOP-STOP': 440}"
      ]
     },
     "execution_count": 37,
     "metadata": {},
     "output_type": "execute_result"
    }
   ],
   "source": [
    "voc6 = {}\n",
    "i = 0\n",
    "for k in aa_id.keys() :\n",
    "    for j in aa_id.keys() :\n",
    "        voc6[k+'-'+j] = i\n",
    "        i+=1\n",
    "voc6"
   ]
  },
  {
   "cell_type": "code",
   "execution_count": 61,
   "metadata": {},
   "outputs": [],
   "source": [
    "def encode_6(sub, voc):\n",
    "    enc = np.zeros(len(voc))\n",
    "    for s in sub:\n",
    "        i = voc[dna_to_aa[s[:3]]+'-'+dna_to_aa[s[3:]]]\n",
    "        enc[i] += 1\n",
    "    return enc"
   ]
  },
  {
   "cell_type": "code",
   "execution_count": 65,
   "metadata": {},
   "outputs": [
    {
     "name": "stdout",
     "output_type": "stream",
     "text": [
      "Vocabulary has size 441\n"
     ]
    }
   ],
   "source": [
    "letters = 'ATCG'\n",
    "length = 6\n",
    "voc = voc6\n",
    "print('Vocabulary has size', len(voc))"
   ]
  },
  {
   "cell_type": "code",
   "execution_count": 66,
   "metadata": {},
   "outputs": [
    {
     "name": "stderr",
     "output_type": "stream",
     "text": [
      "2000it [00:08, 237.49it/s]\n",
      "2000it [00:09, 222.05it/s]\n",
      "2000it [00:08, 223.10it/s]\n"
     ]
    }
   ],
   "source": [
    "for ind in range(3):\n",
    "    df = pd.read_csv('data/Xtr'+str(ind)+'.csv')\n",
    "    df_emb = pd.DataFrame(columns = [str(i) for i in range(len(voc))])\n",
    "    for _, r in tqdm.tqdm(df.iterrows()):\n",
    "        i = r['Id']\n",
    "        seq = r['seq']\n",
    "        enc = encode_6(substrings(seq, length), voc)\n",
    "        df_emb.loc[i] = enc\n",
    "    df_emb.to_csv('data/'\n",
    "              + 'Xtr' +str(ind) + '_trans6'+'.csv', header = False, index = False, sep=\" \")\n"
   ]
  },
  {
   "cell_type": "code",
   "execution_count": 67,
   "metadata": {},
   "outputs": [
    {
     "name": "stderr",
     "output_type": "stream",
     "text": [
      "1000it [00:03, 307.38it/s]\n",
      "1000it [00:03, 242.75it/s]\n",
      "1000it [00:02, 338.78it/s]\n"
     ]
    }
   ],
   "source": [
    "for ind in range(3):\n",
    "    df = pd.read_csv('data/Xte'+str(ind)+'.csv')\n",
    "    df_emb = pd.DataFrame(columns = [str(i) for i in range(len(voc))])\n",
    "    for _, r in tqdm.tqdm(df.iterrows()):\n",
    "        i = r['Id']\n",
    "        seq = r['seq']\n",
    "        enc = encode_6(substrings(seq, length), voc)\n",
    "        df_emb.loc[i] = enc\n",
    "    df_emb.to_csv('data/'\n",
    "              + 'Xte' +str(ind) + '_trans6'+'.csv', header = False, index = False, sep=\" \")\n"
   ]
  },
  {
   "cell_type": "code",
   "execution_count": null,
   "metadata": {},
   "outputs": [],
   "source": []
  }
 ],
 "metadata": {
  "kernelspec": {
   "display_name": "Python 3",
   "language": "python",
   "name": "python3"
  },
  "language_info": {
   "codemirror_mode": {
    "name": "ipython",
    "version": 3
   },
   "file_extension": ".py",
   "mimetype": "text/x-python",
   "name": "python",
   "nbconvert_exporter": "python",
   "pygments_lexer": "ipython3",
   "version": "3.7.0"
  }
 },
 "nbformat": 4,
 "nbformat_minor": 2
}
