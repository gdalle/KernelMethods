{
 "cells": [
  {
   "cell_type": "code",
   "execution_count": 1,
   "metadata": {},
   "outputs": [],
   "source": [
    "import numpy as np\n",
    "import pandas as pd\n",
    "import matplotlib.pyplot as plt\n",
    "import itertools\n",
    "from tqdm import tqdm\n",
    "import numba\n",
    "from numba import jit"
   ]
  },
  {
   "cell_type": "code",
   "execution_count": 2,
   "metadata": {},
   "outputs": [],
   "source": [
    "df = pd.read_csv('kernel-methods-for-machine-learning-2018-2019/Xtr0.csv')"
   ]
  },
  {
   "cell_type": "code",
   "execution_count": 3,
   "metadata": {},
   "outputs": [
    {
     "data": {
      "text/html": [
       "<div>\n",
       "<style scoped>\n",
       "    .dataframe tbody tr th:only-of-type {\n",
       "        vertical-align: middle;\n",
       "    }\n",
       "\n",
       "    .dataframe tbody tr th {\n",
       "        vertical-align: top;\n",
       "    }\n",
       "\n",
       "    .dataframe thead th {\n",
       "        text-align: right;\n",
       "    }\n",
       "</style>\n",
       "<table border=\"1\" class=\"dataframe\">\n",
       "  <thead>\n",
       "    <tr style=\"text-align: right;\">\n",
       "      <th></th>\n",
       "      <th>Id</th>\n",
       "      <th>seq</th>\n",
       "    </tr>\n",
       "  </thead>\n",
       "  <tbody>\n",
       "    <tr>\n",
       "      <th>0</th>\n",
       "      <td>0</td>\n",
       "      <td>GGAGAATCATTTGAACCCGGGAGGTGGAGGTTGCCGTGAGCTGAGA...</td>\n",
       "    </tr>\n",
       "    <tr>\n",
       "      <th>1</th>\n",
       "      <td>1</td>\n",
       "      <td>ACCCTGCCTACACCGCGGCGGGGACAGGTGGAGGTTTCAACCCCTG...</td>\n",
       "    </tr>\n",
       "    <tr>\n",
       "      <th>2</th>\n",
       "      <td>2</td>\n",
       "      <td>TGCAAATCTGTAAGCATTTCTCAGGCAATGAATTATGTCAACACAA...</td>\n",
       "    </tr>\n",
       "    <tr>\n",
       "      <th>3</th>\n",
       "      <td>3</td>\n",
       "      <td>GCGGGACGTGGGCGTCGAGGGTAAGGATATCTGCAGAAGTACTGTC...</td>\n",
       "    </tr>\n",
       "    <tr>\n",
       "      <th>4</th>\n",
       "      <td>4</td>\n",
       "      <td>GGAGAATAGCATGTATCCGAGAGGTGGAGCTGGCAGTGAGCCGAGA...</td>\n",
       "    </tr>\n",
       "  </tbody>\n",
       "</table>\n",
       "</div>"
      ],
      "text/plain": [
       "   Id                                                seq\n",
       "0   0  GGAGAATCATTTGAACCCGGGAGGTGGAGGTTGCCGTGAGCTGAGA...\n",
       "1   1  ACCCTGCCTACACCGCGGCGGGGACAGGTGGAGGTTTCAACCCCTG...\n",
       "2   2  TGCAAATCTGTAAGCATTTCTCAGGCAATGAATTATGTCAACACAA...\n",
       "3   3  GCGGGACGTGGGCGTCGAGGGTAAGGATATCTGCAGAAGTACTGTC...\n",
       "4   4  GGAGAATAGCATGTATCCGAGAGGTGGAGCTGGCAGTGAGCCGAGA..."
      ]
     },
     "execution_count": 3,
     "metadata": {},
     "output_type": "execute_result"
    }
   ],
   "source": [
    "df.head()"
   ]
  },
  {
   "cell_type": "markdown",
   "metadata": {},
   "source": [
    "All sequences is this set have length 101.\n",
    "\n",
    "We have two parameters $k$ and $\\lambda$.\n",
    "\n",
    "Let $u \\in A^k$. If $i=(i_1, ..., i_k)$, let $x(i)=x_{i_1}...x_{i_k}$. We define :\n",
    "$\\Phi_u(x) = \\sum_{i, x(i) = u} \\lambda^{i_k - i_1 + 1}$"
   ]
  },
  {
   "cell_type": "code",
   "execution_count": 4,
   "metadata": {},
   "outputs": [],
   "source": [
    "k = 3\n",
    "lambd = 0.7\n",
    "letters = [\"A\", \"C\", \"G\", \"T\"]\n",
    "index = np.arange(85)\n",
    "for i in range(4):\n",
    "    index[ord(letters[i])] = i"
   ]
  },
  {
   "cell_type": "markdown",
   "metadata": {},
   "source": [
    "The dot product is computed recursively using auxiliary quantities defined p. 353 and 356."
   ]
  },
  {
   "cell_type": "code",
   "execution_count": 5,
   "metadata": {},
   "outputs": [],
   "source": [
    "def one_hot(s):\n",
    "    \"\"\"\n",
    "    Input : string\n",
    "    Output : n*4 0/1 matrix\n",
    "    \"\"\"\n",
    "    result = np.zeros((len(s), 4))\n",
    "    array = np.array(list(s))\n",
    "    for i in range(4):\n",
    "        result[:, i] = (array == letters[i])\n",
    "    return result"
   ]
  },
  {
   "cell_type": "markdown",
   "metadata": {},
   "source": [
    "Pre-computes the one-hot encodings of the DNA sequences :"
   ]
  },
  {
   "cell_type": "code",
   "execution_count": 6,
   "metadata": {},
   "outputs": [],
   "source": [
    "one_hots = np.zeros((df.shape[0], len(df[\"seq\"][0]), 4))\n",
    "for i in range(df.shape[0]):\n",
    "    one_hots[i] = one_hot(df[\"seq\"][i])\n",
    "\n",
    "df_int = one_hots.argmax(axis=2) # letters replaced with integers"
   ]
  },
  {
   "cell_type": "markdown",
   "metadata": {},
   "source": [
    "Auxiliary function $B$ :"
   ]
  },
  {
   "cell_type": "code",
   "execution_count": 7,
   "metadata": {},
   "outputs": [],
   "source": [
    "@jit(nopython=True)\n",
    "def compute_B(x, y, k, lambd):\n",
    "    \"\"\"\n",
    "    Input : x, y are strings\n",
    "    Returns a n*n*k tensor B such that B[l,i,j] = B_l(x[0:i], y[0:j])\n",
    "    \"\"\"\n",
    "    n = len(x)\n",
    "    B = np.zeros((k, n, n))\n",
    "    B[0, :, :] = 1\n",
    "    for l in range(1, k):\n",
    "        if l > n:\n",
    "            break\n",
    "        for i in range(l, n):\n",
    "            for j in range(l, n):\n",
    "                a = x[i]\n",
    "                b = y[j]\n",
    "                B[l, i, j] = lambd*(B[l, i-1, j] + B[l, i, j-1]) - lambd**2 * B[l, i-1, j-1]\n",
    "                if a == b:\n",
    "                    B[l, i, j] += lambd**2 * B[l-1, i-1, j-1]\n",
    "    return B"
   ]
  },
  {
   "cell_type": "code",
   "execution_count": 9,
   "metadata": {},
   "outputs": [
    {
     "name": "stdout",
     "output_type": "stream",
     "text": [
      "4.71 ms ± 111 µs per loop (mean ± std. dev. of 7 runs, 100 loops each)\n"
     ]
    }
   ],
   "source": [
    "%%timeit\n",
    "_ = compute_B(df[\"seq\"][0], df[\"seq\"][1], k, lambd)"
   ]
  },
  {
   "cell_type": "code",
   "execution_count": 10,
   "metadata": {},
   "outputs": [],
   "source": [
    "@jit(nopython=True)\n",
    "def compute_K(df_int, one_hots, i, j, k, lambd):\n",
    "    \"\"\"\n",
    "    df_int is the list of integer sequences\n",
    "    Returns a n*n*k tensor K such that K[l,i,j] = K_l(x[0:i], y[0:j])\n",
    "    \"\"\"\n",
    "    x = df_int[i]\n",
    "    y = df_int[j]\n",
    "    xo = one_hots[i]\n",
    "    yo = one_hots[j]\n",
    "    \n",
    "    n = df_int.shape[1]\n",
    "    B = compute_B(x, y, k, lambd)\n",
    "    K = np.zeros((k, n, n))\n",
    "    K[0, :, :] = 1\n",
    "    \n",
    "    for l in range(1, k):\n",
    "        if l > n:\n",
    "            break\n",
    "        for i in range(l, n):\n",
    "            for j in range(l, n):\n",
    "                a = x[i]\n",
    "                K[l, i, j] = K[l, i-1, j]\n",
    "                mask = yo[:j, a]\n",
    "                K[l, i, j] += lambd**2 * mask.dot(B[l-1, i-1, :j])\n",
    "    return K"
   ]
  },
  {
   "cell_type": "code",
   "execution_count": 13,
   "metadata": {},
   "outputs": [
    {
     "name": "stdout",
     "output_type": "stream",
     "text": [
      "3.76 ms ± 77.8 µs per loop (mean ± std. dev. of 7 runs, 100 loops each)\n"
     ]
    }
   ],
   "source": [
    "%%timeit\n",
    "_ = compute_K(df_int, one_hots, 0, 1, k, lambd)"
   ]
  },
  {
   "cell_type": "code",
   "execution_count": 14,
   "metadata": {},
   "outputs": [],
   "source": [
    "@jit(nopython=True)\n",
    "def kernel(df_int, one_hots, i, j, k, lambd):\n",
    "    K = compute_K(df_int, one_hots, i, j, k, lambd)\n",
    "    return K[-1, -1, -1]"
   ]
  },
  {
   "cell_type": "code",
   "execution_count": 15,
   "metadata": {},
   "outputs": [],
   "source": [
    "K = np.zeros((2000, 2000))"
   ]
  },
  {
   "cell_type": "code",
   "execution_count": 16,
   "metadata": {},
   "outputs": [
    {
     "name": "stderr",
     "output_type": "stream",
     "text": [
      "100%|██████████| 2000/2000 [00:08<00:00, 237.27it/s]\n"
     ]
    }
   ],
   "source": [
    "for i in tqdm(range(df.shape[0])):\n",
    "    K[i, 0] = kernel(df_int, one_hots, i, 0, k, lambd)"
   ]
  },
  {
   "cell_type": "code",
   "execution_count": 92,
   "metadata": {},
   "outputs": [],
   "source": [
    "@jit(nopython=True, parallel=True)\n",
    "def loop():\n",
    "    K = np.zeros((2000, 2000))\n",
    "    for i in range(2000):\n",
    "        K[i, 0] = kernel(df_int, one_hots, i, 0, k, lambd)"
   ]
  },
  {
   "cell_type": "code",
   "execution_count": 95,
   "metadata": {},
   "outputs": [
    {
     "name": "stdout",
     "output_type": "stream",
     "text": [
      "CPU times: user 6.94 s, sys: 7.88 ms, total: 6.95 s\n",
      "Wall time: 6.92 s\n"
     ]
    }
   ],
   "source": [
    "%%time\n",
    "loop()"
   ]
  }
 ],
 "metadata": {
  "kernelspec": {
   "display_name": "Python 3",
   "language": "python",
   "name": "python3"
  },
  "language_info": {
   "codemirror_mode": {
    "name": "ipython",
    "version": 3
   },
   "file_extension": ".py",
   "mimetype": "text/x-python",
   "name": "python",
   "nbconvert_exporter": "python",
   "pygments_lexer": "ipython3",
   "version": "3.6.7"
  }
 },
 "nbformat": 4,
 "nbformat_minor": 2
}
