{
 "cells": [
  {
   "cell_type": "markdown",
   "metadata": {},
   "source": [
    "# Kernel methods for biological sequence classification"
   ]
  },
  {
   "cell_type": "markdown",
   "metadata": {},
   "source": [
    "MVA 2019 - Kernel methods for machine learning\n",
    "\n",
    "*Éloïse Berthier, Guillaume Dalle, Clément Mantoux*"
   ]
  },
  {
   "cell_type": "code",
   "execution_count": 1,
   "metadata": {
    "ExecuteTime": {
     "end_time": "2019-02-09T23:13:43.436538Z",
     "start_time": "2019-02-09T23:13:42.268959Z"
    }
   },
   "outputs": [
    {
     "name": "stdout",
     "output_type": "stream",
     "text": [
      "Academic license - for non-commercial use only\n"
     ]
    }
   ],
   "source": [
    "import os\n",
    "import cProfile, pstats\n",
    "import tqdm\n",
    "import itertools\n",
    "\n",
    "import numpy as np\n",
    "import scipy.sparse as sp\n",
    "import pandas as pd\n",
    "\n",
    "import cvxpy as cp\n",
    "from qpsolvers import solve_qp\n",
    "import osqp\n",
    "\n",
    "import matplotlib.pyplot as plt\n",
    "\n",
    "from vector_kernels import *"
   ]
  },
  {
   "cell_type": "markdown",
   "metadata": {},
   "source": [
    "Reading data"
   ]
  },
  {
   "cell_type": "code",
   "execution_count": 2,
   "metadata": {
    "ExecuteTime": {
     "end_time": "2019-02-09T23:13:43.447158Z",
     "start_time": "2019-02-09T23:13:43.438497Z"
    }
   },
   "outputs": [],
   "source": [
    "def read_data_mat100(dataset=\"tr0\"):\n",
    "    folder = \"kernel-methods-for-machine-learning-2018-2019\"\n",
    "    features_file = \"X\" + dataset + \"_mat100.csv\"\n",
    "    labels_file = \"Y\" + dataset + \".csv\"\n",
    "    \n",
    "    X = pd.read_csv(\n",
    "        os.path.join(folder, features_file),\n",
    "        sep=\" \",\n",
    "        header=None\n",
    "    )\n",
    "    if \"te\" in dataset:\n",
    "        return np.array(X)\n",
    "    \n",
    "    elif \"tr\" in dataset:\n",
    "        Y = pd.read_csv(\n",
    "            os.path.join(folder, labels_file),\n",
    "            sep=\",\",\n",
    "            index_col=0,\n",
    "        )\n",
    "        return np.array(X), 2 * np.array(Y.iloc[:, 0]) - 1"
   ]
  },
  {
   "cell_type": "code",
   "execution_count": 3,
   "metadata": {
    "ExecuteTime": {
     "end_time": "2019-02-09T23:13:43.930461Z",
     "start_time": "2019-02-09T23:13:43.450350Z"
    }
   },
   "outputs": [],
   "source": [
    "dataset = []\n",
    "for k in [0, 1, 2]:\n",
    "    Xtr, Ytr = read_data_mat100(\"tr\" + str(k))\n",
    "    Xte = read_data_mat100(\"te\" + str(k))\n",
    "    dataset.append([Xtr, Ytr, Xte])"
   ]
  },
  {
   "cell_type": "markdown",
   "metadata": {},
   "source": [
    "## SVM backend & Cross-Validation"
   ]
  },
  {
   "cell_type": "markdown",
   "metadata": {},
   "source": [
    "Quadratic Program optimization for kernel SVM with ridge penalty"
   ]
  },
  {
   "cell_type": "code",
   "execution_count": 4,
   "metadata": {
    "ExecuteTime": {
     "end_time": "2019-02-09T23:13:43.950765Z",
     "start_time": "2019-02-09T23:13:43.936493Z"
    }
   },
   "outputs": [],
   "source": [
    "def compute_predictor(Xtr, Ytr, kernel, lambd, method=\"qpsolvers\"):\n",
    "    m = Xtr.mean(axis=0)\n",
    "    s = Xtr.std(axis=0)\n",
    "    Xc = (Xtr - m)/s\n",
    "\n",
    "    n = len(Xc)\n",
    "\n",
    "    I = np.eye(n)\n",
    "    gram_matrix = kernel(Xc, Xc)\n",
    "    K = gram_matrix + 1e-9*I\n",
    "    \n",
    "    if method == \"cvxpy\":\n",
    "    \n",
    "        alpha = cp.Variable(n)\n",
    "\n",
    "        constraints = [\n",
    "            cp.multiply(Ytr, alpha) >= np.zeros(n),\n",
    "            cp.multiply(Ytr, alpha) <= np.ones(n) / (2 * lambd * n)\n",
    "        ]\n",
    "\n",
    "        objective = cp.Minimize(\n",
    "            - 2 * (Ytr * alpha)\n",
    "            + cp.quad_form(alpha, K)\n",
    "        )\n",
    "\n",
    "        prob = cp.Problem(objective, constraints)\n",
    "        result = prob.solve(solver=cp.OSQP, verbose=False)\n",
    "        alpha_opt = alpha.value\n",
    "        \n",
    "    elif method == \"qpsolvers\":\n",
    "        \n",
    "        P = K\n",
    "        q = - Ytr.astype(float)\n",
    "        # Sparse G\n",
    "        G = sp.vstack([\n",
    "            -sp.diags(Ytr),\n",
    "            sp.diags(Ytr)\n",
    "        ]).tocsc().astype(float)\n",
    "        h = np.hstack([\n",
    "            np.zeros(n),\n",
    "            np.ones(n) / (2 * lambd * n)\n",
    "        ]).astype(float)\n",
    "    \n",
    "        alpha_opt = solve_qp(P=P, q=q, G=G, h=h, solver=\"cvxopt\")\n",
    "    \n",
    "    return lambda x_new: np.sign(alpha_opt.dot(kernel(Xc, (x_new - m)/s)))"
   ]
  },
  {
   "cell_type": "markdown",
   "metadata": {},
   "source": [
    "Profiling both optimization methods"
   ]
  },
  {
   "cell_type": "code",
   "execution_count": null,
   "metadata": {
    "ExecuteTime": {
     "start_time": "2019-02-09T23:13:42.274Z"
    }
   },
   "outputs": [
    {
     "name": "stdout",
     "output_type": "stream",
     "text": [
      "Sat Feb  9 23:57:02 2019    profiling/stats1\n",
      "\n",
      "         15263 function calls (14289 primitive calls) in 5.440 seconds\n",
      "\n",
      "   Ordered by: internal time\n",
      "   List reduced from 531 to 20 due to restriction <20>\n",
      "\n",
      "   ncalls  tottime  percall  cumtime  percall filename:lineno(function)\n",
      "        1    2.010    2.010    2.010    2.010 {method 'solve' of 'osqp.OSQP' objects}\n",
      "        1    1.611    1.611    1.615    1.615 decomp.py:118(eig)\n",
      "        1    1.402    1.402    1.402    1.402 {method 'setup' of 'osqp.OSQP' objects}\n",
      "        5    0.066    0.013    0.066    0.013 {method 'nonzero' of 'numpy.ndarray' objects}\n",
      "        1    0.051    0.051    0.055    0.055 numeric.py:2350(within_tol)\n",
      "        4    0.046    0.011    0.046    0.011 {built-in method scipy.sparse._sparsetools.csr_tocsc}\n",
      "        1    0.034    0.034    0.058    0.058 vector_kernels.py:9(kernel)\n",
      "      191    0.029    0.000    0.029    0.000 {method 'reduce' of 'numpy.ufunc' objects}\n",
      "        1    0.024    0.024    5.440    5.440 <string>:1(<module>)\n",
      "        1    0.024    0.024    0.024    0.024 {method 'dot' of 'numpy.ndarray' objects}\n",
      "    23/17    0.022    0.001    0.128    0.008 coo.py:126(__init__)\n",
      "        7    0.020    0.003    0.020    0.003 {built-in method scipy.sparse._sparsetools.coo_tocsr}\n",
      "        5    0.013    0.003    0.032    0.006 construct.py:501(bmat)\n",
      "        1    0.011    0.011    5.416    5.416 <ipython-input-51-8ac02a720e66>:1(compute_predictor)\n",
      "      495    0.010    0.000    0.010    0.000 {built-in method numpy.core.multiarray.array}\n",
      "        1    0.007    0.007    0.230    0.230 qp_matrix_stuffing.py:51(stuffed_objective)\n",
      "        1    0.007    0.007    0.063    0.063 numeric.py:2274(isclose)\n",
      "        2    0.004    0.002    0.004    0.002 {built-in method builtins.abs}\n",
      "        1    0.004    0.004    0.172    0.172 coeff_extractor.py:131(quad_form)\n",
      "        1    0.004    0.004    0.005    0.005 data.py:122(_mul_scalar)\n",
      "\n",
      "\n",
      "Sun Feb 10 00:13:44 2019    profiling/stats2\n",
      "\n",
      "         2848 function calls (2828 primitive calls) in 0.656 seconds\n",
      "\n",
      "   Ordered by: internal time\n",
      "   List reduced from 277 to 20 due to restriction <20>\n",
      "\n",
      "   ncalls  tottime  percall  cumtime  percall filename:lineno(function)\n",
      "       16    0.328    0.021    0.328    0.021 {built-in method cvxopt.lapack.potrf}\n",
      "        1    0.093    0.093    0.134    0.134 vector_kernels.py:9(kernel)\n",
      "        8    0.057    0.007    0.396    0.050 misc.py:1389(factor)\n",
      "        1    0.040    0.040    0.040    0.040 {method 'dot' of 'numpy.ndarray' objects}\n",
      "        4    0.034    0.009    0.035    0.009 cvxopt_.py:29(cvxopt_matrix)\n",
      "        1    0.020    0.020    0.651    0.651 <ipython-input-4-cdfb343cdacc>:1(compute_predictor)\n",
      "       30    0.020    0.001    0.020    0.001 {built-in method cvxopt.blas.trsv}\n",
      "        8    0.010    0.001    0.010    0.001 {built-in method cvxopt.base.syrk}\n",
      "        8    0.008    0.001    0.008    0.001 {built-in method cvxopt.base.symv}\n",
      "        1    0.007    0.007    0.007    0.007 _methods.py:91(_var)\n",
      "        1    0.005    0.005    0.005    0.005 twodim_base.py:140(eye)\n",
      "        1    0.005    0.005    0.656    0.656 <string>:1(<module>)\n",
      "        2    0.004    0.002    0.004    0.002 {built-in method _imp.create_dynamic}\n",
      "        1    0.003    0.003    0.442    0.442 coneprog.py:1440(coneqp)\n",
      "        7    0.002    0.000    0.003    0.000 misc.py:422(update_scaling)\n",
      "        1    0.002    0.002    0.443    0.443 coneprog.py:4158(qp)\n",
      "        1    0.001    0.001    0.480    0.480 __init__.py:110(solve_qp)\n",
      "       29    0.001    0.000    0.001    0.000 {method 'reduce' of 'numpy.ufunc' objects}\n",
      "       92    0.001    0.000    0.001    0.000 {built-in method cvxopt.base.gemv}\n",
      "        8    0.001    0.000    0.001    0.000 {built-in method cvxopt.base.gemm}\n",
      "\n",
      "\n"
     ]
    },
    {
     "data": {
      "text/plain": [
       "<pstats.Stats at 0x1140bbef0>"
      ]
     },
     "execution_count": 5,
     "metadata": {},
     "output_type": "execute_result"
    }
   ],
   "source": [
    "Xtr, Ytr, _ = dataset[0]\n",
    "\n",
    "# cProfile.run(\"f = compute_predictor(Xtr, Ytr, gauss(3), 1, method='cvxpy')\", \"profiling/stats1\")\n",
    "pstats.Stats(\"profiling/stats1\").strip_dirs().sort_stats(\"tottime\").print_stats(20)\n",
    "\n",
    "cProfile.run(\"f = compute_predictor(Xtr, Ytr, gauss(3), 1, method='qpsolvers')\", \"profiling/stats2\")\n",
    "pstats.Stats(\"profiling/stats2\").strip_dirs().sort_stats(\"tottime\").print_stats(20)"
   ]
  },
  {
   "cell_type": "markdown",
   "metadata": {},
   "source": [
    "K-fold cross-validation"
   ]
  },
  {
   "cell_type": "code",
   "execution_count": null,
   "metadata": {
    "ExecuteTime": {
     "start_time": "2019-02-09T23:13:42.276Z"
    }
   },
   "outputs": [],
   "source": [
    "kfold = 5\n",
    "\n",
    "def cross_validate(X, Y, kernel, lambd, shuffle=True, kfold=kfold):\n",
    "    acc_train, acc_val = np.zeros(kfold), np.zeros(kfold)\n",
    "    \n",
    "    # jointly shuffle input datasets X, Y\n",
    "    n = X.shape[0]\n",
    "    if shuffle:\n",
    "        perm = np.random.permutation(n)\n",
    "        X, Y = X[perm], Y[perm]\n",
    "    idx = np.arange(n)\n",
    "    for k in range(kfold):\n",
    "        # split the datasets\n",
    "        val_idx = idx[k::kfold]\n",
    "        train_idx = np.delete(idx, val_idx)\n",
    "        n_train = len(train_idx)\n",
    "        n_val = n - n_train\n",
    "        \n",
    "        X_train = X[train_idx]\n",
    "        Y_train = Y[train_idx]\n",
    "        X_val = X[val_idx]\n",
    "        Y_val = Y[val_idx]\n",
    "        \n",
    "        # fit the predictor\n",
    "        f = compute_predictor(X_train, Y_train, kernel, lambd)\n",
    "\n",
    "        Yte_train = f(X_train).reshape(-1)\n",
    "        Ypred_train = ((Yte_train + 1) / 2).astype(int)\n",
    "\n",
    "        Yte_val = f(X_val).reshape(-1)\n",
    "        Ypred_val = ((Yte_val + 1) / 2).astype(int)\n",
    "        \n",
    "        Y_train = ((Y_train + 1) / 2).astype(int)\n",
    "        Y_val = ((Y_val + 1) / 2).astype(int)\n",
    "        \n",
    "        # compute metrics\n",
    "        acc_train[k] = np.mean(Y_train == Ypred_train)\n",
    "        acc_val[k] = np.mean(Y_val == Ypred_val)\n",
    "    return acc_train, acc_val"
   ]
  },
  {
   "cell_type": "markdown",
   "metadata": {},
   "source": [
    "Tool for pretty plots with mean + std"
   ]
  },
  {
   "cell_type": "code",
   "execution_count": null,
   "metadata": {
    "ExecuteTime": {
     "start_time": "2019-02-09T23:13:42.278Z"
    }
   },
   "outputs": [],
   "source": [
    "def lineplotCI(x, y, low, up, c, log=False):\n",
    "    if log:\n",
    "        plt.xscale(\"log\")\n",
    "    plt.plot(x, y, lw = 2, color = c, alpha = 1)\n",
    "    plt.fill_between(x, low, up, color = c, alpha = 0.2)"
   ]
  },
  {
   "cell_type": "markdown",
   "metadata": {},
   "source": [
    "## 2. Parameter tuning"
   ]
  },
  {
   "cell_type": "markdown",
   "metadata": {},
   "source": [
    "### 2.1. Grid search on lambda for the linear kernel"
   ]
  },
  {
   "cell_type": "code",
   "execution_count": null,
   "metadata": {
    "ExecuteTime": {
     "start_time": "2019-02-09T23:13:42.280Z"
    }
   },
   "outputs": [
    {
     "name": "stderr",
     "output_type": "stream",
     "text": [
      "Testing lambda for dataset 1: 100%|██████████| 10/10 [00:15<00:00,  1.46s/it]\n",
      "Testing lambda for dataset 2: 100%|██████████| 10/10 [00:14<00:00,  1.31s/it]\n",
      "Testing lambda for dataset 3: 100%|██████████| 10/10 [00:15<00:00,  1.54s/it]\n"
     ]
    }
   ],
   "source": [
    "lambd_range = np.logspace(-1, 1, 10)\n",
    "\n",
    "acc_train = np.zeros((3, len(lambd_range), kfold))\n",
    "acc_val = np.zeros((3, len(lambd_range), kfold))\n",
    "\n",
    "for d, data in enumerate(dataset):\n",
    "    Xtr, Ytr, _ = data\n",
    "    for i in tqdm.trange(len(lambd_range), desc=\"Testing lambda for dataset {}\".format(d+1)):\n",
    "        lambd = lambd_range[i]\n",
    "        acc_train[d, i], acc_val[d, i] = cross_validate(\n",
    "            Xtr, Ytr,\n",
    "            linear(), lambd,\n",
    "            shuffle=True, kfold=kfold\n",
    "        )"
   ]
  },
  {
   "cell_type": "code",
   "execution_count": null,
   "metadata": {
    "ExecuteTime": {
     "start_time": "2019-02-09T23:13:42.282Z"
    }
   },
   "outputs": [
    {
     "data": {
      "image/png": "[encoded data removed]",
      "text/plain": [
       "<Figure size 432x288 with 1 Axes>"
      ]
     },
     "metadata": {
      "needs_background": "light"
     },
     "output_type": "display_data"
    }
   ],
   "source": [
    "d = 0\n",
    "plt.figure()\n",
    "lineplotCI(\n",
    "    lambd_range,\n",
    "    acc_train[d].mean(axis=1),\n",
    "    acc_train[d].mean(axis=1) + acc_train[d].std(axis=1),\n",
    "    acc_train[d].mean(axis=1) - acc_train[d].std(axis=1),\n",
    "    c='r',\n",
    "    log=True\n",
    ")\n",
    "lineplotCI(\n",
    "    lambd_range,\n",
    "    acc_val[d].mean(axis=1),\n",
    "    acc_val[d].mean(axis=1) + acc_val[d].std(axis=1),\n",
    "    acc_val[d].mean(axis=1) - acc_val[d].std(axis=1),\n",
    "    c='g',\n",
    "    log=True\n",
    ")\n",
    "plt.legend(['train', 'val'])\n",
    "plt.xlabel('Value of lambda')\n",
    "plt.ylabel('Accuracy')\n",
    "plt.title('Cross-validation on dataset {}'.format(d))\n",
    "plt.show()"
   ]
  },
  {
   "cell_type": "code",
   "execution_count": null,
   "metadata": {
    "ExecuteTime": {
     "start_time": "2019-02-09T23:13:42.285Z"
    }
   },
   "outputs": [
    {
     "name": "stdout",
     "output_type": "stream",
     "text": [
      "[0.16681005372000587, 0.16681005372000587, 0.16681005372000587]\n"
     ]
    }
   ],
   "source": [
    "best_lambd = [\n",
    "    lambd_range[np.argmax(np.mean(acc_val[d], axis=1))]\n",
    "    for d in range(3)\n",
    "]\n",
    "print(best_lambd)"
   ]
  },
  {
   "cell_type": "markdown",
   "metadata": {},
   "source": [
    "### 2.2 Grid search on lambda & sigma for the gaussian kernel"
   ]
  },
  {
   "cell_type": "code",
   "execution_count": null,
   "metadata": {
    "ExecuteTime": {
     "start_time": "2019-02-09T23:13:42.288Z"
    }
   },
   "outputs": [
    {
     "name": "stderr",
     "output_type": "stream",
     "text": [
      "Testing (lambd, sigma) for dataset 1: 100%|██████████| 25/25 [00:58<00:00,  1.76s/it]\n",
      "Testing (lambd, sigma) for dataset 2: 100%|██████████| 25/25 [00:51<00:00,  1.72s/it]\n",
      "Testing (lambd, sigma) for dataset 3:  20%|██        | 5/25 [00:10<00:40,  2.03s/it]"
     ]
    }
   ],
   "source": [
    "sigma_range = np.logspace(-1, 1, 5)\n",
    "lambd_range = np.logspace(-1, 1, 5)\n",
    "tuple_range = list(itertools.product(lambd_range, sigma_range))\n",
    "\n",
    "acc_train = np.zeros((3, len(tuple_range), kfold))\n",
    "acc_val = np.zeros((3, len(tuple_range), kfold))\n",
    "\n",
    "for d, data in enumerate(dataset):\n",
    "    Xtr, Ytr, _ = data\n",
    "    for i in tqdm.trange(len(tuple_range), desc=\"Testing (lambd, sigma) for dataset {}\".format(d+1)):\n",
    "        lambd, sigma = tuple_range[i]\n",
    "        acc_train[d, i], acc_val[d, i] = cross_validate(\n",
    "            Xtr, Ytr,\n",
    "            gauss(sigma), lambd,\n",
    "            shuffle=True, kfold=kfold\n",
    "        )"
   ]
  },
  {
   "cell_type": "code",
   "execution_count": null,
   "metadata": {
    "ExecuteTime": {
     "start_time": "2019-02-09T23:13:42.290Z"
    }
   },
   "outputs": [],
   "source": [
    "best_tuple = [\n",
    "    tuple_range[np.argmax(np.mean(acc_val[d], axis=1))]\n",
    "    for d in range(3)\n",
    "]\n",
    "best_lambd = [bt[0] for bt in best_tuple]\n",
    "best_sigma = [bt[1] for bt in best_tuple]"
   ]
  },
  {
   "cell_type": "markdown",
   "metadata": {},
   "source": [
    "## 3. Final predictions"
   ]
  },
  {
   "cell_type": "code",
   "execution_count": null,
   "metadata": {
    "ExecuteTime": {
     "start_time": "2019-02-09T23:13:42.293Z"
    }
   },
   "outputs": [],
   "source": [
    "Ypred = []\n",
    "lambd = 0.\n",
    "\n",
    "for k in [0, 1, 2]:\n",
    "    print(\"\\nDATASET {}\\n\".format(k))\n",
    "\n",
    "    Xtr, Ytr, Xte = dataset[k]\n",
    "    \n",
    "    f = compute_predictor(Xtr, Ytr, gauss(best_sigma[k]), best_lambd[k])\n",
    "    print(np.mean(Ytr == f(Xtr)))\n",
    "    Yte = f(Xte)\n",
    "    \n",
    "    Ypred.extend(list(((Yte + 1) / 2).astype(int)))\n",
    "    \n",
    "Ypred = pd.Series(\n",
    "    index=np.arange(len(Ypred)),\n",
    "    data=Ypred\n",
    ")\n",
    "Ypred.index.name = \"Id\"\n",
    "Ypred.name = \"Bound\"\n",
    "Ypred.to_csv(\"Ypred.csv\", header=True)"
   ]
  }
 ],
 "metadata": {
  "kernelspec": {
   "display_name": "Python [conda env:optim]",
   "language": "python",
   "name": "conda-env-optim-py"
  },
  "language_info": {
   "codemirror_mode": {
    "name": "ipython",
    "version": 3
   },
   "file_extension": ".py",
   "mimetype": "text/x-python",
   "name": "python",
   "nbconvert_exporter": "python",
   "pygments_lexer": "ipython3",
   "version": "3.6.8"
  }
 },
 "nbformat": 4,
 "nbformat_minor": 2
}
