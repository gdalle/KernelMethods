{
 "cells": [
  {
   "cell_type": "code",
   "execution_count": 1,
   "metadata": {
    "ExecuteTime": {
     "end_time": "2019-02-06T22:14:26.166127Z",
     "start_time": "2019-02-06T22:14:25.411505Z"
    }
   },
   "outputs": [],
   "source": [
    "import os\n",
    "import numpy as np\n",
    "import pandas as pd\n",
    "import cvxpy as cp\n",
    "import cplex\n",
    "import osqp"
   ]
  },
  {
   "cell_type": "code",
   "execution_count": 2,
   "metadata": {
    "ExecuteTime": {
     "end_time": "2019-02-06T22:14:26.177378Z",
     "start_time": "2019-02-06T22:14:26.169434Z"
    }
   },
   "outputs": [],
   "source": [
    "def read_data_mat100(dataset=\"tr0\"):\n",
    "    folder = \"kernel-methods-for-machine-learning-2018-2019\"\n",
    "    features_file = \"X\" + dataset + \"_mat100.csv\"\n",
    "    labels_file = \"Y\" + dataset + \".csv\"\n",
    "    \n",
    "    X = pd.read_csv(\n",
    "        os.path.join(folder, features_file),\n",
    "        sep=\" \",\n",
    "        header=None\n",
    "    )\n",
    "    if \"te\" in dataset:\n",
    "        return np.array(X)\n",
    "    \n",
    "    elif \"tr\" in dataset:\n",
    "        Y = pd.read_csv(\n",
    "            os.path.join(folder, labels_file),\n",
    "            sep=\",\",\n",
    "            index_col=0,\n",
    "        )\n",
    "        return np.array(X), 2 * np.array(Y.iloc[:, 0]) - 1"
   ]
  },
  {
   "cell_type": "code",
   "execution_count": 3,
   "metadata": {
    "ExecuteTime": {
     "end_time": "2019-02-06T22:14:26.183472Z",
     "start_time": "2019-02-06T22:14:26.179565Z"
    }
   },
   "outputs": [],
   "source": [
    "def kernel(x1, x2):\n",
    "    return x1.dot(x2)"
   ]
  },
  {
   "cell_type": "code",
   "execution_count": 4,
   "metadata": {
    "ExecuteTime": {
     "end_time": "2019-02-06T22:14:26.331337Z",
     "start_time": "2019-02-06T22:14:26.187610Z"
    }
   },
   "outputs": [],
   "source": [
    "X,Y = read_data_mat100(\"tr0\")\n",
    "m = X.mean(axis=0)\n",
    "s = X.std(axis=0)\n",
    "Xc = (X - m)/s\n",
    "\n",
    "n = len(X)\n",
    "lambd = 1\n",
    "\n",
    "I = np.eye(n)\n",
    "U = (1/n) * np.ones((n, n))\n",
    "gram_matrix = kernel(Xc, Xc.T)\n",
    "K = gram_matrix + 1e-9*I"
   ]
  },
  {
   "cell_type": "markdown",
   "metadata": {},
   "source": [
    "Primal formulation"
   ]
  },
  {
   "cell_type": "code",
   "execution_count": 5,
   "metadata": {
    "ExecuteTime": {
     "end_time": "2019-02-06T22:14:26.342815Z",
     "start_time": "2019-02-06T22:14:26.333523Z"
    }
   },
   "outputs": [],
   "source": [
    "alpha = cp.Variable(n)\n",
    "ksi = cp.Variable(n)\n",
    "\n",
    "constraints1 = [\n",
    "    ksi >= 0,\n",
    "    ksi >= 1 - cp.multiply(Y, (K * alpha))\n",
    "]\n",
    "\n",
    "objective1 = cp.Minimize(\n",
    "    (1/n) * cp.sum(ksi)\n",
    "    + lambd * cp.quad_form(alpha, K)\n",
    ")\n",
    "\n",
    "prob1 = cp.Problem(objective1, constraints1)\n",
    "\n",
    "# result1 = prob1.solve(solver=cp.OSQP, verbose=True)"
   ]
  },
  {
   "cell_type": "markdown",
   "metadata": {},
   "source": [
    "Dual formulation 1"
   ]
  },
  {
   "cell_type": "code",
   "execution_count": 6,
   "metadata": {
    "ExecuteTime": {
     "end_time": "2019-02-06T22:14:26.353509Z",
     "start_time": "2019-02-06T22:14:26.344870Z"
    }
   },
   "outputs": [],
   "source": [
    "mu = cp.Variable(n)\n",
    "\n",
    "constraints2 = [\n",
    "    mu >= np.zeros(n),\n",
    "    mu <= np.ones(n) / n\n",
    "]\n",
    "\n",
    "objective2 = cp.Minimize(\n",
    "    - cp.sum(mu)\n",
    "    + (0.25 / lambd) * cp.quad_form(cp.multiply(mu,Y), K)\n",
    ")\n",
    "\n",
    "prob2 = cp.Problem(objective2, constraints2)\n",
    "\n",
    "# result2 = prob2.solve(solver=cp.OSQP, verbose=True)"
   ]
  },
  {
   "cell_type": "markdown",
   "metadata": {},
   "source": [
    "Dual formulation 2"
   ]
  },
  {
   "cell_type": "code",
   "execution_count": null,
   "metadata": {
    "ExecuteTime": {
     "start_time": "2019-02-06T22:14:32.916Z"
    }
   },
   "outputs": [],
   "source": [
    "alpha = cp.Variable(n)\n",
    "\n",
    "constraints3 = [\n",
    "    cp.multiply(Y, alpha) >= np.zeros(n),\n",
    "    cp.multiply(Y, alpha) <= np.ones(n) / (2 * lambd * n)\n",
    "]\n",
    "\n",
    "objective3 = cp.Minimize(\n",
    "    - 2 * lambd * (Y * alpha)\n",
    "    + lambd * cp.quad_form(alpha, K)\n",
    ")\n",
    "\n",
    "prob3 = cp.Problem(objective3, constraints3)\n",
    "\n",
    "result3 = prob3.solve(solver=cp.OSQP, verbose=True)"
   ]
  },
  {
   "cell_type": "code",
   "execution_count": null,
   "metadata": {
    "ExecuteTime": {
     "end_time": "2019-02-06T22:14:26.509500Z",
     "start_time": "2019-02-06T22:14:25.423Z"
    }
   },
   "outputs": [],
   "source": [
    "def compute_predictor(Xtr, Ytr, kernel, lambd):\n",
    "    m = X.mean(axis=0)\n",
    "    s = X.std(axis=0)\n",
    "    Xc = (X - m)/s\n",
    "\n",
    "    n = len(X)\n",
    "\n",
    "    I = np.eye(n)\n",
    "    U = (1/n) * np.ones((n, n))\n",
    "    gram_matrix = kernel(Xc, Xc.T)\n",
    "    K = gram_matrix + 1e-9*I\n",
    "    \n",
    "    alpha = cp.Variable(n)\n",
    "\n",
    "    constraints = [\n",
    "        cp.multiply(y, alpha) >= np.zeros(n),\n",
    "        cp.multiply(y, alpha) <= np.ones(n) / (2 * lambd * n)\n",
    "    ]\n",
    "\n",
    "    objective = cp.Minimize(\n",
    "        - 2 * lambd * (Y * alpha)\n",
    "        + lambd * cp.quad_form(alpha, K)\n",
    "    )\n",
    "\n",
    "    prob = cp.Problem(objective, constraints)\n",
    "\n",
    "    result = prob.solve(solver=cp.OSQP, verbose=True)\n",
    "    \n",
    "    return lambda x_new: np.sign(alpha.dot(kernel(Xc, (x_new - m)/s)))"
   ]
  },
  {
   "cell_type": "code",
   "execution_count": null,
   "metadata": {},
   "outputs": [],
   "source": []
  }
 ],
 "metadata": {
  "kernelspec": {
   "display_name": "Python [conda env:optim]",
   "language": "python",
   "name": "conda-env-optim-py"
  },
  "language_info": {
   "codemirror_mode": {
    "name": "ipython",
    "version": 3
   },
   "file_extension": ".py",
   "mimetype": "text/x-python",
   "name": "python",
   "nbconvert_exporter": "python",
   "pygments_lexer": "ipython3",
   "version": "3.6.8"
  }
 },
 "nbformat": 4,
 "nbformat_minor": 2
}
