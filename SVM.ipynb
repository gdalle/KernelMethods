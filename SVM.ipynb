{
 "cells": [
  {
   "cell_type": "markdown",
   "metadata": {},
   "source": [
    "# Kernel methods for biological sequence classification"
   ]
  },
  {
   "cell_type": "markdown",
   "metadata": {},
   "source": [
    "MVA 2019 - Kernel methods for machine learning\n",
    "\n",
    "*Éloïse Berthier, Guillaume Dalle, Clément Mantoux*"
   ]
  },
  {
   "cell_type": "code",
   "execution_count": 1,
   "metadata": {
    "ExecuteTime": {
     "end_time": "2019-02-09T23:13:43.436538Z",
     "start_time": "2019-02-09T23:13:42.268959Z"
    }
   },
   "outputs": [],
   "source": [
    "import os\n",
    "import cProfile, pstats\n",
    "import tqdm\n",
    "import itertools\n",
    "\n",
    "import numpy as np\n",
    "import scipy.sparse as sp\n",
    "import pandas as pd\n",
    "\n",
    "import cvxpy as cp\n",
    "from qpsolvers import solve_qp\n",
    "import osqp\n",
    "\n",
    "import matplotlib.pyplot as plt\n",
    "\n",
    "from vector_kernels import *"
   ]
  },
  {
   "cell_type": "markdown",
   "metadata": {},
   "source": [
    "Reading data"
   ]
  },
  {
   "cell_type": "code",
   "execution_count": 2,
   "metadata": {
    "ExecuteTime": {
     "end_time": "2019-02-09T23:13:43.447158Z",
     "start_time": "2019-02-09T23:13:43.438497Z"
    }
   },
   "outputs": [],
   "source": [
    "def read_data_mat100(dataset=\"tr0\"):\n",
    "    folder = \"kernel-methods-for-machine-learning-2018-2019\"\n",
    "    features_file = \"X\" + dataset + \"_mat100.csv\"\n",
    "    labels_file = \"Y\" + dataset + \".csv\"\n",
    "    \n",
    "    X = pd.read_csv(\n",
    "        os.path.join(folder, features_file),\n",
    "        sep=\" \",\n",
    "        header=None\n",
    "    )\n",
    "    if \"te\" in dataset:\n",
    "        return np.array(X)\n",
    "    \n",
    "    elif \"tr\" in dataset:\n",
    "        Y = pd.read_csv(\n",
    "            os.path.join(folder, labels_file),\n",
    "            sep=\",\",\n",
    "            index_col=0,\n",
    "        )\n",
    "        return np.array(X), 2 * np.array(Y.iloc[:, 0]) - 1"
   ]
  },
  {
   "cell_type": "code",
   "execution_count": 3,
   "metadata": {},
   "outputs": [],
   "source": [
    "def read_data_spectr(dataset=\"tr0\", length = 3):\n",
    "    folder = \"kernel-methods-for-machine-learning-2018-2019\"\n",
    "    features_file = \"X\" + dataset + '_spectr'+str(length)+'_hamming1'+'.csv'\n",
    "    labels_file = \"Y\" + dataset + \".csv\"\n",
    "    \n",
    "    X = pd.read_csv(\n",
    "        os.path.join(folder, features_file),\n",
    "        sep=\" \",\n",
    "        header=None\n",
    "    )\n",
    "    if \"te\" in dataset:\n",
    "        return np.array(X)\n",
    "    \n",
    "    elif \"tr\" in dataset:\n",
    "        Y = pd.read_csv(\n",
    "            os.path.join(folder, labels_file),\n",
    "            sep=\",\",\n",
    "            index_col=0,\n",
    "        )\n",
    "        return np.array(X), 2 * np.array(Y.iloc[:, 0]) - 1"
   ]
  },
  {
   "cell_type": "code",
   "execution_count": 16,
   "metadata": {
    "ExecuteTime": {
     "end_time": "2019-02-09T23:13:43.930461Z",
     "start_time": "2019-02-09T23:13:43.450350Z"
    }
   },
   "outputs": [],
   "source": [
    "dataset = []\n",
    "for k in [0, 1, 2]:\n",
    "    #Xtr, Ytr = read_data_mat100(\"tr\" + str(k))\n",
    "    #Xte = read_data_mat100(\"te\" + str(k))\n",
    "    Xtr, Ytr = read_data_spectr(\"tr\" + str(k), length=4)\n",
    "    Xte = read_data_spectr(\"te\" + str(k), length=4)\n",
    "    dataset.append([Xtr, Ytr, Xte])"
   ]
  },
  {
   "cell_type": "markdown",
   "metadata": {},
   "source": [
    "## SVM backend & Cross-Validation"
   ]
  },
  {
   "cell_type": "markdown",
   "metadata": {},
   "source": [
    "Quadratic Program optimization for kernel SVM with ridge penalty"
   ]
  },
  {
   "cell_type": "code",
   "execution_count": 17,
   "metadata": {
    "ExecuteTime": {
     "end_time": "2019-02-09T23:13:43.950765Z",
     "start_time": "2019-02-09T23:13:43.936493Z"
    }
   },
   "outputs": [],
   "source": [
    "def compute_predictor(Xtr, Ytr, kernel, lambd, method=\"qpsolvers\"):\n",
    "    m = Xtr.mean(axis=0)\n",
    "    s = Xtr.std(axis=0)\n",
    "    Xc = (Xtr - m)/s\n",
    "\n",
    "    n = len(Xc)\n",
    "\n",
    "    I = np.eye(n)\n",
    "    gram_matrix = kernel(Xc, Xc)\n",
    "    K = gram_matrix + 1e-9*I\n",
    "    \n",
    "    if method == \"cvxpy\":\n",
    "    \n",
    "        alpha = cp.Variable(n)\n",
    "\n",
    "        constraints = [\n",
    "            cp.multiply(Ytr, alpha) >= np.zeros(n),\n",
    "            cp.multiply(Ytr, alpha) <= np.ones(n) / (2 * lambd * n)\n",
    "        ]\n",
    "\n",
    "        objective = cp.Minimize(\n",
    "            - 2 * (Ytr * alpha)\n",
    "            + cp.quad_form(alpha, K)\n",
    "        )\n",
    "\n",
    "        prob = cp.Problem(objective, constraints)\n",
    "        result = prob.solve(solver=cp.OSQP, verbose=False)\n",
    "        alpha_opt = alpha.value\n",
    "        \n",
    "    elif method == \"qpsolvers\":\n",
    "        \n",
    "        P = K\n",
    "        q = - Ytr.astype(float)\n",
    "        # Sparse G\n",
    "        G = sp.vstack([\n",
    "            -sp.diags(Ytr),\n",
    "            sp.diags(Ytr)\n",
    "        ]).tocsc().astype(float)\n",
    "        h = np.hstack([\n",
    "            np.zeros(n),\n",
    "            np.ones(n) / (2 * lambd * n)\n",
    "        ]).astype(float)\n",
    "    \n",
    "        alpha_opt = solve_qp(P=P, q=q, G=G, h=h, solver=\"cvxopt\")\n",
    "    \n",
    "    return lambda x_new: np.sign(alpha_opt.dot(kernel(Xc, (x_new - m)/s)))"
   ]
  },
  {
   "cell_type": "markdown",
   "metadata": {},
   "source": [
    "Profiling both optimization methods"
   ]
  },
  {
   "cell_type": "code",
   "execution_count": 18,
   "metadata": {
    "ExecuteTime": {
     "start_time": "2019-02-09T23:13:42.274Z"
    }
   },
   "outputs": [
    {
     "name": "stdout",
     "output_type": "stream",
     "text": [
      "Mon Feb 11 11:46:51 2019    profiling/stats2\n",
      "\n",
      "         2393 function calls (2391 primitive calls) in 0.996 seconds\n",
      "\n",
      "   Ordered by: internal time\n",
      "   List reduced from 193 to 20 due to restriction <20>\n",
      "\n",
      "   ncalls  tottime  percall  cumtime  percall filename:lineno(function)\n",
      "       16    0.563    0.035    0.563    0.035 {built-in method cvxopt.lapack.potrf}\n",
      "        1    0.115    0.115    0.179    0.179 vector_kernels.py:9(kernel)\n",
      "        8    0.084    0.010    0.664    0.083 misc.py:1389(factor)\n",
      "        1    0.060    0.060    0.060    0.060 {method 'dot' of 'numpy.ndarray' objects}\n",
      "        1    0.039    0.039    0.989    0.989 <ipython-input-17-cdfb343cdacc>:1(compute_predictor)\n",
      "       30    0.035    0.001    0.035    0.001 {built-in method cvxopt.blas.trsv}\n",
      "        4    0.035    0.009    0.035    0.009 cvxopt_.py:29(cvxopt_matrix)\n",
      "        8    0.016    0.002    0.016    0.002 {built-in method cvxopt.base.syrk}\n",
      "        8    0.010    0.001    0.010    0.001 {built-in method cvxopt.base.symv}\n",
      "        1    0.007    0.007    0.996    0.996 <string>:1(<module>)\n",
      "        1    0.005    0.005    0.005    0.005 twodim_base.py:140(eye)\n",
      "        1    0.005    0.005    0.006    0.006 _methods.py:86(_var)\n",
      "       29    0.003    0.000    0.003    0.000 {method 'reduce' of 'numpy.ufunc' objects}\n",
      "        2    0.003    0.001    0.004    0.002 linalg.py:2103(norm)\n",
      "        1    0.003    0.003    0.720    0.720 coneprog.py:4156(qp)\n",
      "        1    0.003    0.003    0.717    0.717 coneprog.py:1440(coneqp)\n",
      "        1    0.002    0.002    0.758    0.758 __init__.py:110(solve_qp)\n",
      "        7    0.002    0.000    0.002    0.000 misc.py:422(update_scaling)\n",
      "       92    0.001    0.000    0.001    0.000 {built-in method cvxopt.base.gemv}\n",
      "        8    0.001    0.000    0.001    0.000 {built-in method cvxopt.base.gemm}\n",
      "\n",
      "\n"
     ]
    },
    {
     "data": {
      "text/plain": [
       "<pstats.Stats at 0x817b60400>"
      ]
     },
     "execution_count": 18,
     "metadata": {},
     "output_type": "execute_result"
    }
   ],
   "source": [
    "Xtr, Ytr, _ = dataset[0]\n",
    "\n",
    "#cProfile.run(\"f = compute_predictor(Xtr, Ytr, gauss(3), 1, method='cvxpy')\", \"profiling/stats1\")\n",
    "#pstats.Stats(\"profiling/stats1\").strip_dirs().sort_stats(\"tottime\").print_stats(20)\n",
    "\n",
    "cProfile.run(\"f = compute_predictor(Xtr, Ytr, gauss(3), 1, method='qpsolvers')\", \"profiling/stats2\")\n",
    "pstats.Stats(\"profiling/stats2\").strip_dirs().sort_stats(\"tottime\").print_stats(20)"
   ]
  },
  {
   "cell_type": "markdown",
   "metadata": {},
   "source": [
    "K-fold cross-validation"
   ]
  },
  {
   "cell_type": "code",
   "execution_count": 19,
   "metadata": {
    "ExecuteTime": {
     "start_time": "2019-02-09T23:13:42.276Z"
    }
   },
   "outputs": [],
   "source": [
    "kfold = 5\n",
    "\n",
    "def cross_validate(X, Y, kernel, lambd, shuffle=True, kfold=kfold):\n",
    "    acc_train, acc_val = np.zeros(kfold), np.zeros(kfold)\n",
    "    \n",
    "    # jointly shuffle input datasets X, Y\n",
    "    n = X.shape[0]\n",
    "    if shuffle:\n",
    "        perm = np.random.permutation(n)\n",
    "        X, Y = X[perm], Y[perm]\n",
    "    idx = np.arange(n)\n",
    "    for k in range(kfold):\n",
    "        # split the datasets\n",
    "        val_idx = idx[k::kfold]\n",
    "        train_idx = np.delete(idx, val_idx)\n",
    "        n_train = len(train_idx)\n",
    "        n_val = n - n_train\n",
    "        \n",
    "        X_train = X[train_idx]\n",
    "        Y_train = Y[train_idx]\n",
    "        X_val = X[val_idx]\n",
    "        Y_val = Y[val_idx]\n",
    "        \n",
    "        # fit the predictor\n",
    "        f = compute_predictor(X_train, Y_train, kernel, lambd)\n",
    "\n",
    "        Yte_train = f(X_train).reshape(-1)\n",
    "        Ypred_train = ((Yte_train + 1) / 2).astype(int)\n",
    "\n",
    "        Yte_val = f(X_val).reshape(-1)\n",
    "        Ypred_val = ((Yte_val + 1) / 2).astype(int)\n",
    "        \n",
    "        Y_train = ((Y_train + 1) / 2).astype(int)\n",
    "        Y_val = ((Y_val + 1) / 2).astype(int)\n",
    "        \n",
    "        # compute metrics\n",
    "        acc_train[k] = np.mean(Y_train == Ypred_train)\n",
    "        acc_val[k] = np.mean(Y_val == Ypred_val)\n",
    "    return acc_train, acc_val"
   ]
  },
  {
   "cell_type": "markdown",
   "metadata": {},
   "source": [
    "Tool for pretty plots with mean + std"
   ]
  },
  {
   "cell_type": "code",
   "execution_count": 20,
   "metadata": {
    "ExecuteTime": {
     "start_time": "2019-02-09T23:13:42.278Z"
    }
   },
   "outputs": [],
   "source": [
    "def lineplotCI(x, y, low, up, c, log=False):\n",
    "    if log:\n",
    "        plt.xscale(\"log\")\n",
    "    plt.plot(x, y, lw = 2, color = c, alpha = 1)\n",
    "    plt.fill_between(x, low, up, color = c, alpha = 0.2)"
   ]
  },
  {
   "cell_type": "markdown",
   "metadata": {},
   "source": [
    "## 2. Parameter tuning"
   ]
  },
  {
   "cell_type": "markdown",
   "metadata": {},
   "source": [
    "### 2.1. Grid search on lambda for the linear kernel"
   ]
  },
  {
   "cell_type": "code",
   "execution_count": 27,
   "metadata": {
    "ExecuteTime": {
     "start_time": "2019-02-09T23:13:42.280Z"
    }
   },
   "outputs": [
    {
     "name": "stderr",
     "output_type": "stream",
     "text": [
      "Testing lambda for dataset 1: 100%|██████████| 10/10 [00:37<00:00,  3.42s/it]\n",
      "Testing lambda for dataset 2: 100%|██████████| 10/10 [00:35<00:00,  3.35s/it]\n",
      "Testing lambda for dataset 3: 100%|██████████| 10/10 [00:40<00:00,  3.81s/it]\n"
     ]
    }
   ],
   "source": [
    "lambd_range = np.logspace(-1.5, 1, 10)\n",
    "\n",
    "acc_train = np.zeros((3, len(lambd_range), kfold))\n",
    "acc_val = np.zeros((3, len(lambd_range), kfold))\n",
    "\n",
    "for d, data in enumerate(dataset):\n",
    "    Xtr, Ytr, _ = data\n",
    "    for i in tqdm.trange(len(lambd_range), desc=\"Testing lambda for dataset {}\".format(d+1)):\n",
    "        lambd = lambd_range[i]\n",
    "        acc_train[d, i], acc_val[d, i] = cross_validate(\n",
    "            Xtr, Ytr,\n",
    "            linear(), lambd,\n",
    "            shuffle=True, kfold=kfold\n",
    "        )"
   ]
  },
  {
   "cell_type": "code",
   "execution_count": 28,
   "metadata": {
    "ExecuteTime": {
     "start_time": "2019-02-09T23:13:42.282Z"
    }
   },
   "outputs": [
    {
     "data": {
      "image/png": "[encoded data removed]",
      "text/plain": [
       "<Figure size 432x288 with 1 Axes>"
      ]
     },
     "metadata": {
      "needs_background": "light"
     },
     "output_type": "display_data"
    }
   ],
   "source": [
    "d = 0\n",
    "plt.figure()\n",
    "lineplotCI(\n",
    "    lambd_range,\n",
    "    acc_train[d].mean(axis=1),\n",
    "    acc_train[d].mean(axis=1) + acc_train[d].std(axis=1),\n",
    "    acc_train[d].mean(axis=1) - acc_train[d].std(axis=1),\n",
    "    c='r',\n",
    "    log=True\n",
    ")\n",
    "lineplotCI(\n",
    "    lambd_range,\n",
    "    acc_val[d].mean(axis=1),\n",
    "    acc_val[d].mean(axis=1) + acc_val[d].std(axis=1),\n",
    "    acc_val[d].mean(axis=1) - acc_val[d].std(axis=1),\n",
    "    c='g',\n",
    "    log=True\n",
    ")\n",
    "plt.legend(['train', 'val'])\n",
    "plt.xlabel('Value of lambda')\n",
    "plt.ylabel('Accuracy')\n",
    "plt.title('Cross-validation on dataset {}'.format(d))\n",
    "plt.show()"
   ]
  },
  {
   "cell_type": "code",
   "execution_count": 29,
   "metadata": {
    "ExecuteTime": {
     "start_time": "2019-02-09T23:13:42.285Z"
    }
   },
   "outputs": [
    {
     "name": "stdout",
     "output_type": "stream",
     "text": [
      "[0.05994842503189409, 0.05994842503189409, 0.05994842503189409]\n"
     ]
    }
   ],
   "source": [
    "best_lambd = [\n",
    "    lambd_range[np.argmax(np.mean(acc_val[d], axis=1))]\n",
    "    for d in range(3)\n",
    "]\n",
    "print(best_lambd)"
   ]
  },
  {
   "cell_type": "markdown",
   "metadata": {},
   "source": [
    "### 2.2 Grid search on lambda & sigma for the gaussian kernel"
   ]
  },
  {
   "cell_type": "code",
   "execution_count": 51,
   "metadata": {
    "ExecuteTime": {
     "start_time": "2019-02-09T23:13:42.288Z"
    }
   },
   "outputs": [
    {
     "name": "stderr",
     "output_type": "stream",
     "text": [
      "Testing (lambd, sigma) for dataset 1: 100%|██████████| 25/25 [01:21<00:00,  3.62s/it]\n",
      "Testing (lambd, sigma) for dataset 2: 100%|██████████| 25/25 [01:28<00:00,  3.82s/it]\n",
      "Testing (lambd, sigma) for dataset 3: 100%|██████████| 25/25 [01:24<00:00,  3.53s/it]\n"
     ]
    }
   ],
   "source": [
    "lambd_range = np.logspace(-1, 1, 5)\n",
    "sigma_range = np.linspace(3, 10, 5)\n",
    "tuple_range = list(itertools.product(lambd_range, sigma_range))\n",
    "\n",
    "acc_train = np.zeros((3, len(tuple_range), kfold))\n",
    "acc_val = np.zeros((3, len(tuple_range), kfold))\n",
    "\n",
    "for d, data in enumerate(dataset):\n",
    "    Xtr, Ytr, _ = data\n",
    "    for i in tqdm.trange(len(tuple_range), desc=\"Testing (lambd, sigma) for dataset {}\".format(d+1)):\n",
    "        lambd, sigma = tuple_range[i]\n",
    "        acc_train[d, i], acc_val[d, i] = cross_validate(\n",
    "            Xtr, Ytr,\n",
    "            gauss(sigma), lambd,\n",
    "            shuffle=True, kfold=kfold\n",
    "        )"
   ]
  },
  {
   "cell_type": "code",
   "execution_count": 52,
   "metadata": {
    "ExecuteTime": {
     "start_time": "2019-02-09T23:13:42.290Z"
    }
   },
   "outputs": [],
   "source": [
    "best_tuple = [\n",
    "    tuple_range[np.argmax(np.mean(acc_val[d], axis=1))]\n",
    "    for d in range(3)\n",
    "]\n",
    "best_lambd = [bt[0] for bt in best_tuple]\n",
    "best_sigma = [bt[1] for bt in best_tuple]"
   ]
  },
  {
   "cell_type": "code",
   "execution_count": 54,
   "metadata": {},
   "outputs": [
    {
     "name": "stdout",
     "output_type": "stream",
     "text": [
      "[1.       0.981    0.848125 0.63925  0.56     1.       0.98025  0.839\n",
      " 0.639625 0.55375  1.       0.9815   0.846375 0.62875  0.563125 1.\n",
      " 0.981625 0.846375 0.634375 0.55275  1.       0.98075  0.851875 0.631375\n",
      " 0.561875]\n",
      "[1.       1.       0.899125 0.759125 0.6785   1.       1.       0.9185\n",
      " 0.747    0.67575  1.       1.       0.920125 0.74325  0.677875 1.\n",
      " 1.       0.915875 0.748875 0.6845   1.       1.       0.9195   0.749\n",
      " 0.680375]\n",
      "[1.       0.990125 0.685125 0.610625 0.58725  1.       0.990875 0.68575\n",
      " 0.60975  0.58875  1.       0.990125 0.68625  0.611    0.5895   1.\n",
      " 0.991875 0.685875 0.609625 0.586375 1.       0.991    0.688125 0.610375\n",
      " 0.589   ]\n",
      "[0.5635 0.569  0.5385 0.5245 0.5245 0.571  0.565  0.5385 0.5265 0.52\n",
      " 0.5525 0.5745 0.5435 0.521  0.519  0.549  0.564  0.55   0.5355 0.516\n",
      " 0.5615 0.5585 0.549  0.519  0.516 ]\n",
      "[0.6525 0.655  0.6145 0.615  0.593  0.6605 0.6615 0.6525 0.6035 0.5935\n",
      " 0.6575 0.6715 0.647  0.621  0.588  0.6565 0.663  0.6435 0.601  0.604\n",
      " 0.65   0.668  0.6415 0.614  0.5945]\n",
      "[0.636  0.643  0.6095 0.5895 0.58   0.6355 0.641  0.604  0.588  0.58\n",
      " 0.6345 0.6525 0.6055 0.587  0.5795 0.637  0.656  0.604  0.588  0.582\n",
      " 0.6215 0.6525 0.609  0.5865 0.5805]\n",
      "[(0.1, 3.0), (0.1, 4.75), (0.1, 6.5), (0.1, 8.25), (0.1, 10.0), (0.31622776601683794, 3.0), (0.31622776601683794, 4.75), (0.31622776601683794, 6.5), (0.31622776601683794, 8.25), (0.31622776601683794, 10.0), (1.0, 3.0), (1.0, 4.75), (1.0, 6.5), (1.0, 8.25), (1.0, 10.0), (3.1622776601683795, 3.0), (3.1622776601683795, 4.75), (3.1622776601683795, 6.5), (3.1622776601683795, 8.25), (3.1622776601683795, 10.0), (10.0, 3.0), (10.0, 4.75), (10.0, 6.5), (10.0, 8.25), (10.0, 10.0)]\n"
     ]
    }
   ],
   "source": [
    "print(np.mean(acc_train[0], axis=1))\n",
    "print(np.mean(acc_train[1], axis=1))\n",
    "print(np.mean(acc_train[2], axis=1))\n",
    "print(np.mean(acc_val[0], axis=1))\n",
    "print(np.mean(acc_val[1], axis=1))\n",
    "print(np.mean(acc_val[2], axis=1))\n",
    "print(tuple_range)"
   ]
  },
  {
   "cell_type": "markdown",
   "metadata": {},
   "source": [
    "Works quite well with **datasets 2 and 3 (not 1!)** and tends to overfit..."
   ]
  },
  {
   "cell_type": "markdown",
   "metadata": {},
   "source": [
    "## 3. Final predictions"
   ]
  },
  {
   "cell_type": "code",
   "execution_count": 55,
   "metadata": {
    "ExecuteTime": {
     "start_time": "2019-02-09T23:13:42.293Z"
    }
   },
   "outputs": [
    {
     "name": "stdout",
     "output_type": "stream",
     "text": [
      "\n",
      "DATASET 0\n",
      "\n",
      "0.974\n",
      "\n",
      "DATASET 1\n",
      "\n",
      "1.0\n",
      "\n",
      "DATASET 2\n",
      "\n",
      "0.9845\n"
     ]
    }
   ],
   "source": [
    "Ypred = []\n",
    "lambd = 0.\n",
    "\n",
    "for k in [0, 1, 2]:\n",
    "    print(\"\\nDATASET {}\\n\".format(k))\n",
    "\n",
    "    Xtr, Ytr, Xte = dataset[k]\n",
    "    \n",
    "    f = compute_predictor(Xtr, Ytr, gauss(best_sigma[k]), best_lambd[k])\n",
    "    #f = compute_predictor(Xtr, Ytr, linear(), best_lambd[k])\n",
    "    print(np.mean(Ytr == f(Xtr)))\n",
    "    Yte = f(Xte)\n",
    "    \n",
    "    Ypred.extend(list(((Yte + 1) / 2).astype(int)))\n",
    "    \n",
    "Ypred = pd.Series(\n",
    "    index=np.arange(len(Ypred)),\n",
    "    data=Ypred\n",
    ")\n",
    "Ypred.index.name = \"Id\"\n",
    "Ypred.name = \"Bound\"\n",
    "Ypred.to_csv(\"Ypred.csv\", header=True)"
   ]
  },
  {
   "cell_type": "code",
   "execution_count": null,
   "metadata": {},
   "outputs": [],
   "source": []
  }
 ],
 "metadata": {
  "kernelspec": {
   "display_name": "Python 3",
   "language": "python",
   "name": "python3"
  },
  "language_info": {
   "codemirror_mode": {
    "name": "ipython",
    "version": 3
   },
   "file_extension": ".py",
   "mimetype": "text/x-python",
   "name": "python",
   "nbconvert_exporter": "python",
   "pygments_lexer": "ipython3",
   "version": "3.7.0"
  }
 },
 "nbformat": 4,
 "nbformat_minor": 2
}
