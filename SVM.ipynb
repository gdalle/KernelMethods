{
 "cells": [
  {
   "cell_type": "code",
   "execution_count": 1,
   "metadata": {
    "ExecuteTime": {
     "end_time": "2019-02-06T22:31:54.912468Z",
     "start_time": "2019-02-06T22:31:54.120472Z"
    }
   },
   "outputs": [],
   "source": [
    "import os\n",
    "import numpy as np\n",
    "import pandas as pd\n",
    "import cvxpy as cp\n",
    "import osqp\n",
    "import matplotlib.pyplot as plt\n",
    "from vector_kernels import *"
   ]
  },
  {
   "cell_type": "code",
   "execution_count": 2,
   "metadata": {},
   "outputs": [],
   "source": [
    "# tool for pretty plots with mean + std\n",
    "def lineplotCI(x, y, low, up, c, alp = 0.2):\n",
    "    plt.plot(x, y, lw = 2, color = c, alpha = 1)\n",
    "    plt.fill_between(x, low, up, color = c, alpha = alp)"
   ]
  },
  {
   "cell_type": "code",
   "execution_count": 3,
   "metadata": {
    "ExecuteTime": {
     "end_time": "2019-02-06T22:31:54.920537Z",
     "start_time": "2019-02-06T22:31:54.915033Z"
    }
   },
   "outputs": [],
   "source": [
    "def read_data_mat100(dataset=\"tr0\"):\n",
    "    folder = \"kernel-methods-for-machine-learning-2018-2019\"\n",
    "    features_file = \"X\" + dataset + \"_mat100.csv\"\n",
    "    labels_file = \"Y\" + dataset + \".csv\"\n",
    "    \n",
    "    X = pd.read_csv(\n",
    "        os.path.join(folder, features_file),\n",
    "        sep=\" \",\n",
    "        header=None\n",
    "    )\n",
    "    if \"te\" in dataset:\n",
    "        return np.array(X)\n",
    "    \n",
    "    elif \"tr\" in dataset:\n",
    "        Y = pd.read_csv(\n",
    "            os.path.join(folder, labels_file),\n",
    "            sep=\",\",\n",
    "            index_col=0,\n",
    "        )\n",
    "        return np.array(X), 2 * np.array(Y.iloc[:, 0]) - 1"
   ]
  },
  {
   "cell_type": "code",
   "execution_count": 4,
   "metadata": {
    "ExecuteTime": {
     "end_time": "2019-02-06T22:31:54.937009Z",
     "start_time": "2019-02-06T22:31:54.930580Z"
    }
   },
   "outputs": [],
   "source": [
    "def compute_predictor(Xtr, Ytr, kernel, lambd):\n",
    "    m = Xtr.mean(axis=0)\n",
    "    s = Xtr.std(axis=0)\n",
    "    Xc = (Xtr - m)/s\n",
    "\n",
    "    n = len(Xc)\n",
    "\n",
    "    I = np.eye(n)\n",
    "    U = (1/n) * np.ones((n, n))\n",
    "    gram_matrix = kernel(Xc, Xc)\n",
    "    K = gram_matrix + 1e-9*I\n",
    "    \n",
    "    alpha = cp.Variable(n)\n",
    "\n",
    "    constraints = [\n",
    "        cp.multiply(Ytr, alpha) >= np.zeros(n),\n",
    "        cp.multiply(Ytr, alpha) <= np.ones(n) / (2 * lambd * n)\n",
    "    ]\n",
    "\n",
    "    objective = cp.Minimize(\n",
    "        - 2 * (Ytr * alpha)\n",
    "        + cp.quad_form(alpha, K)\n",
    "    )\n",
    "\n",
    "    prob = cp.Problem(objective, constraints)\n",
    "\n",
    "    result = prob.solve(solver=cp.OSQP, verbose=False)\n",
    "    \n",
    "    return lambda x_new: np.sign(alpha.value.dot(kernel(Xc, (x_new - m)/s)))"
   ]
  },
  {
   "cell_type": "code",
   "execution_count": 5,
   "metadata": {},
   "outputs": [],
   "source": [
    "def cross_validate(X, Y, kernel, lambd, shuffle = True, kfold = 5):\n",
    "    acc_train, acc_val = np.zeros(kfold), np.zeros(kfold)\n",
    "    \n",
    "    # jointly shuffle input datasets X, Y\n",
    "    n = X.shape[0]\n",
    "    if shuffle:\n",
    "        perm = np.random.permutation(n)\n",
    "        X, Y = X[perm], Y[perm]\n",
    "    idx = np.arange(n)\n",
    "    for k in range(kfold):\n",
    "        # split the datasets\n",
    "        val_idx = idx[k::kfold]\n",
    "        train_idx = np.delete(idx, val_idx)\n",
    "        n_train = len(train_idx)\n",
    "        n_val = n - n_train\n",
    "        \n",
    "        X_train = X[train_idx]\n",
    "        Y_train = Y[train_idx]\n",
    "        X_val = X[val_idx]\n",
    "        Y_val = Y[val_idx]\n",
    "        \n",
    "        # fit the predictor\n",
    "        f = compute_predictor(X_train, Y_train, kernel, lambd)\n",
    "\n",
    "        Yte_train = f(X_train).reshape(-1)\n",
    "        Ypred_train = ((Yte_train + 1) / 2).astype(int)\n",
    "\n",
    "        Yte_val = f(X_val).reshape(-1)\n",
    "        Ypred_val = ((Yte_val + 1) / 2).astype(int)\n",
    "        \n",
    "        Y_train = ((Y_train + 1) / 2).astype(int)\n",
    "        Y_val = ((Y_val + 1) / 2).astype(int)\n",
    "        \n",
    "        # compute metrics\n",
    "        acc_train[k] = np.mean(Y_train == Ypred_train)\n",
    "        acc_val[k] = np.mean(Y_val == Ypred_val)\n",
    "    return acc_train, acc_val"
   ]
  },
  {
   "cell_type": "code",
   "execution_count": 6,
   "metadata": {},
   "outputs": [],
   "source": [
    "dataset = []\n",
    "for k in [0, 1, 2]:\n",
    "    Xtr, Ytr = read_data_mat100(\"tr\" + str(k))\n",
    "    Xte = read_data_mat100(\"te\" + str(k))\n",
    "    dataset.append([Xtr, Ytr, Xte])"
   ]
  },
  {
   "cell_type": "markdown",
   "metadata": {},
   "source": [
    "### Grid search on lambda (on each dataset)"
   ]
  },
  {
   "cell_type": "code",
   "execution_count": 8,
   "metadata": {},
   "outputs": [
    {
     "name": "stdout",
     "output_type": "stream",
     "text": [
      "Lambda:  0.1\n",
      "Train accuracy:  0.994375\n",
      "Valid accuracy:  0.5640000000000001\n",
      "------------\n",
      "Lambda:  0.2\n",
      "Train accuracy:  0.9716249999999998\n",
      "Valid accuracy:  0.5495\n",
      "------------\n",
      "Lambda:  0.5\n",
      "Train accuracy:  0.9571249999999999\n",
      "Valid accuracy:  0.5525\n",
      "------------\n",
      "Lambda:  1.0\n",
      "Train accuracy:  0.9517499999999999\n",
      "Valid accuracy:  0.5405\n",
      "------------\n",
      "Lambda:  2.0\n",
      "Train accuracy:  0.94825\n",
      "Valid accuracy:  0.5294999999999999\n",
      "------------\n",
      "Lambda:  5\n",
      "Train accuracy:  0.9405000000000001\n",
      "Valid accuracy:  0.5245\n",
      "------------\n",
      "Lambda:  10\n",
      "Train accuracy:  0.93025\n",
      "Valid accuracy:  0.5265\n",
      "------------\n"
     ]
    }
   ],
   "source": [
    "lambd_range = [1e-1, 2e-1, 5e-1, 1., 2., 5, 10]\n",
    "kfold = 5\n",
    "acc_train = np.zeros((len(lambd_range), kfold))\n",
    "acc_val = np.zeros((len(lambd_range), kfold))\n",
    "for i, lambd in enumerate(lambd_range):\n",
    "    Xtr, Ytr, _ = dataset[0]\n",
    "    acc_train[i], acc_val[i] = cross_validate(Xtr, Ytr, gauss(3), lambd, shuffle=True, kfold=kfold)\n",
    "    print('Lambda: ', lambd)\n",
    "    print('Train accuracy: ', np.mean(acc_train[i]))\n",
    "    print('Valid accuracy: ', np.mean(acc_val[i]))\n",
    "    print('------------')"
   ]
  },
  {
   "cell_type": "code",
   "execution_count": 9,
   "metadata": {},
   "outputs": [
    {
     "data": {
      "image/png": "[encoded data removed]",
      "text/plain": [
       "<Figure size 432x288 with 1 Axes>"
      ]
     },
     "metadata": {
      "needs_background": "light"
     },
     "output_type": "display_data"
    }
   ],
   "source": [
    "plt.figure()\n",
    "lineplotCI(lambd_range, acc_train.mean(axis=1), acc_train.mean(axis=1)+acc_train.std(axis=1),\n",
    "           acc_train.mean(axis=1)-acc_train.std(axis=1), c='r')\n",
    "lineplotCI(lambd_range, acc_val.mean(axis=1), acc_val.mean(axis=1)+acc_val.std(axis=1),\n",
    "           acc_val.mean(axis=1)-acc_val.std(axis=1), c='g')\n",
    "plt.legend(['train', 'val'])\n",
    "plt.xlabel('lambda')\n",
    "plt.ylabel('accuracy')\n",
    "plt.show()"
   ]
  },
  {
   "cell_type": "code",
   "execution_count": 8,
   "metadata": {},
   "outputs": [],
   "source": [
    "best_lambda = 0.1"
   ]
  },
  {
   "cell_type": "markdown",
   "metadata": {},
   "source": [
    "### Grid search on sigma for the Gaussian Kernel (on each dataset)"
   ]
  },
  {
   "cell_type": "markdown",
   "metadata": {},
   "source": [
    "DS 1 avec lambda=0.1"
   ]
  },
  {
   "cell_type": "code",
   "execution_count": 9,
   "metadata": {},
   "outputs": [
    {
     "name": "stdout",
     "output_type": "stream",
     "text": [
      "Sigma:  0.1\n",
      "Train accuracy:  1.0\n",
      "Valid accuracy:  0.5199999999999999\n",
      "------------\n",
      "Sigma:  0.2\n",
      "Train accuracy:  1.0\n",
      "Valid accuracy:  0.5095000000000001\n",
      "------------\n",
      "Sigma:  0.5\n",
      "Train accuracy:  1.0\n",
      "Valid accuracy:  0.5605\n",
      "------------\n",
      "Sigma:  1.0\n",
      "Train accuracy:  1.0\n",
      "Valid accuracy:  0.554\n",
      "------------\n",
      "Sigma:  2.0\n",
      "Train accuracy:  1.0\n",
      "Valid accuracy:  0.562\n",
      "------------\n",
      "Sigma:  3\n",
      "Train accuracy:  0.9946249999999999\n",
      "Valid accuracy:  0.5735\n",
      "------------\n",
      "Sigma:  4\n",
      "Train accuracy:  0.9408749999999999\n",
      "Valid accuracy:  0.552\n",
      "------------\n",
      "Sigma:  5\n",
      "Train accuracy:  0.7665000000000001\n",
      "Valid accuracy:  0.5365\n",
      "------------\n",
      "Sigma:  6\n",
      "Train accuracy:  0.6355\n",
      "Valid accuracy:  0.5305\n",
      "------------\n"
     ]
    }
   ],
   "source": [
    "sigma_range = [1e-1, 2e-1, 5e-1, 1., 2., 3, 4, 5, 6]\n",
    "kfold = 5\n",
    "acc_train = np.zeros((len(sigma_range), kfold))\n",
    "acc_val = np.zeros((len(sigma_range), kfold))\n",
    "for i, sigma in enumerate(sigma_range):\n",
    "    Xtr, Ytr, _ = dataset[0]\n",
    "    acc_train[i], acc_val[i] = cross_validate(Xtr, Ytr, gauss(sigma), best_lambda, shuffle=True, kfold=kfold)\n",
    "    print('Sigma: ', sigma)\n",
    "    print('Train accuracy: ', np.mean(acc_train[i]))\n",
    "    print('Valid accuracy: ', np.mean(acc_val[i]))\n",
    "    print('------------')"
   ]
  },
  {
   "cell_type": "code",
   "execution_count": 10,
   "metadata": {},
   "outputs": [
    {
     "data": {
      "image/png": "[encoded data removed]",
      "text/plain": [
       "<Figure size 432x288 with 1 Axes>"
      ]
     },
     "metadata": {
      "needs_background": "light"
     },
     "output_type": "display_data"
    }
   ],
   "source": [
    "plt.figure()\n",
    "lineplotCI(sigma_range, acc_train.mean(axis=1), acc_train.mean(axis=1)+acc_train.std(axis=1),\n",
    "           acc_train.mean(axis=1)-acc_train.std(axis=1), c='r')\n",
    "lineplotCI(sigma_range, acc_val.mean(axis=1), acc_val.mean(axis=1)+acc_val.std(axis=1),\n",
    "           acc_val.mean(axis=1)-acc_val.std(axis=1), c='g')\n",
    "plt.legend(['train', 'val'])\n",
    "plt.xlabel('sigma')\n",
    "plt.ylabel('accuracy')\n",
    "plt.show()"
   ]
  },
  {
   "cell_type": "markdown",
   "metadata": {},
   "source": [
    "Best lambdas and sigmas for the three datasets with the Gaussian kernel :"
   ]
  },
  {
   "cell_type": "code",
   "execution_count": 7,
   "metadata": {},
   "outputs": [],
   "source": [
    "best_lambdas = [0.1, 0.5, 0.5]\n",
    "best_sigmas  = [3, 3, 3]"
   ]
  },
  {
   "cell_type": "markdown",
   "metadata": {},
   "source": [
    "### Timings"
   ]
  },
  {
   "cell_type": "code",
   "execution_count": 15,
   "metadata": {},
   "outputs": [],
   "source": [
    "Xtr = np.random.randn(2000, 100)\n",
    "w = np.random.randn(100)\n",
    "Ytr = (Xtr.dot(w) > 0)"
   ]
  },
  {
   "cell_type": "markdown",
   "metadata": {},
   "source": [
    "OSQP :"
   ]
  },
  {
   "cell_type": "code",
   "execution_count": 20,
   "metadata": {},
   "outputs": [
    {
     "name": "stdout",
     "output_type": "stream",
     "text": [
      "1.18 s ± 82.1 ms per loop (mean ± std. dev. of 7 runs, 1 loop each)\n"
     ]
    }
   ],
   "source": [
    "%%timeit\n",
    "f = compute_predictor(Xtr, Ytr, gauss(1), 1)"
   ]
  },
  {
   "cell_type": "markdown",
   "metadata": {},
   "source": [
    "ECOS :"
   ]
  },
  {
   "cell_type": "code",
   "execution_count": 18,
   "metadata": {},
   "outputs": [
    {
     "name": "stdout",
     "output_type": "stream",
     "text": [
      "1.82 s ± 471 ms per loop (mean ± std. dev. of 7 runs, 1 loop each)\n"
     ]
    }
   ],
   "source": [
    "%%timeit\n",
    "f = compute_predictor(Xtr, Ytr, gauss(1), 1)"
   ]
  },
  {
   "cell_type": "markdown",
   "metadata": {},
   "source": [
    "SCS : did not finish"
   ]
  },
  {
   "cell_type": "code",
   "execution_count": 16,
   "metadata": {},
   "outputs": [
    {
     "name": "stdout",
     "output_type": "stream",
     "text": [
      "CPU times: user 9.56 s, sys: 323 ms, total: 9.88 s\n",
      "Wall time: 8.24 s\n"
     ]
    }
   ],
   "source": [
    "%%time\n",
    "f = compute_predictor(Xtr, Ytr, gauss(1), 1)"
   ]
  },
  {
   "cell_type": "code",
   "execution_count": 17,
   "metadata": {},
   "outputs": [
    {
     "name": "stdout",
     "output_type": "stream",
     "text": [
      "0.4895\n",
      "CPU times: user 140 ms, sys: 47.8 ms, total: 188 ms\n",
      "Wall time: 125 ms\n"
     ]
    }
   ],
   "source": [
    "%%time\n",
    "print(np.mean(Ytr == f(Xtr)))"
   ]
  },
  {
   "cell_type": "markdown",
   "metadata": {},
   "source": [
    "### Make the final predictions"
   ]
  },
  {
   "cell_type": "code",
   "execution_count": 18,
   "metadata": {
    "ExecuteTime": {
     "end_time": "2019-02-06T22:33:03.459952Z",
     "start_time": "2019-02-06T22:32:40.731372Z"
    }
   },
   "outputs": [
    {
     "name": "stdout",
     "output_type": "stream",
     "text": [
      "\n",
      "DATASET 0\n",
      "\n",
      "0.9905\n",
      "\n",
      "DATASET 1\n",
      "\n",
      "1.0\n",
      "\n",
      "DATASET 2\n",
      "\n",
      "0.9945\n"
     ]
    }
   ],
   "source": [
    "Ypred = []\n",
    "lambd = 0.\n",
    "\n",
    "for k in [0, 1, 2]:\n",
    "    print(\"\\nDATASET {}\\n\".format(k))\n",
    "\n",
    "    Xtr, Ytr, Xte = dataset[k]\n",
    "    \n",
    "    if k==0:\n",
    "        lambd = .2\n",
    "    elif k==1:\n",
    "        lambd = 1.\n",
    "    elif k==2:\n",
    "        lambd = .2\n",
    "    \n",
    "    f = compute_predictor(Xtr, Ytr, gauss(best_sigmas[k]), best_lambdas[k])\n",
    "    print(np.mean(Ytr == f(Xtr)))\n",
    "    Yte = f(Xte)\n",
    "    \n",
    "    Ypred.extend(list(((Yte + 1) / 2).astype(int)))\n",
    "    \n",
    "Ypred = pd.Series(\n",
    "    index=np.arange(len(Ypred)),\n",
    "    data=Ypred\n",
    ")\n",
    "Ypred.index.name = \"Id\"\n",
    "Ypred.name = \"Bound\"\n",
    "Ypred.to_csv(\"Ypred.csv\", header=True)"
   ]
  },
  {
   "cell_type": "code",
   "execution_count": null,
   "metadata": {},
   "outputs": [],
   "source": []
  }
 ],
 "metadata": {
  "kernelspec": {
   "display_name": "Python 3",
   "language": "python",
   "name": "python3"
  },
  "language_info": {
   "codemirror_mode": {
    "name": "ipython",
    "version": 3
   },
   "file_extension": ".py",
   "mimetype": "text/x-python",
   "name": "python",
   "nbconvert_exporter": "python",
   "pygments_lexer": "ipython3",
   "version": "3.6.7"
  }
 },
 "nbformat": 4,
 "nbformat_minor": 2
}
