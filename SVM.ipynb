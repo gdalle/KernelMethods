{
 "cells": [
  {
   "cell_type": "code",
   "execution_count": 61,
   "metadata": {
    "ExecuteTime": {
     "end_time": "2019-02-06T22:31:54.912468Z",
     "start_time": "2019-02-06T22:31:54.120472Z"
    }
   },
   "outputs": [],
   "source": [
    "import os\n",
    "import numpy as np\n",
    "import pandas as pd\n",
    "import cvxpy as cp\n",
    "#import cplex\n",
    "import osqp\n",
    "import matplotlib.pyplot as plt"
   ]
  },
  {
   "cell_type": "code",
   "execution_count": 82,
   "metadata": {},
   "outputs": [],
   "source": [
    "# tool for pretty plots with mean + std\n",
    "def lineplotCI(x, y, low, up, c, alp = 0.2):\n",
    "    plt.plot(x, y, lw = 2, color = c, alpha = 1)\n",
    "    plt.fill_between(x, low, up, color = c, alpha = alp)"
   ]
  },
  {
   "cell_type": "code",
   "execution_count": 62,
   "metadata": {
    "ExecuteTime": {
     "end_time": "2019-02-06T22:31:54.920537Z",
     "start_time": "2019-02-06T22:31:54.915033Z"
    }
   },
   "outputs": [],
   "source": [
    "def read_data_mat100(dataset=\"tr0\"):\n",
    "    folder = \"kernel-methods-for-machine-learning-2018-2019\"\n",
    "    features_file = \"X\" + dataset + \"_mat100.csv\"\n",
    "    labels_file = \"Y\" + dataset + \".csv\"\n",
    "    \n",
    "    X = pd.read_csv(\n",
    "        os.path.join(folder, features_file),\n",
    "        sep=\" \",\n",
    "        header=None\n",
    "    )\n",
    "    if \"te\" in dataset:\n",
    "        return np.array(X)\n",
    "    \n",
    "    elif \"tr\" in dataset:\n",
    "        Y = pd.read_csv(\n",
    "            os.path.join(folder, labels_file),\n",
    "            sep=\",\",\n",
    "            index_col=0,\n",
    "        )\n",
    "        return np.array(X), 2 * np.array(Y.iloc[:, 0]) - 1"
   ]
  },
  {
   "cell_type": "code",
   "execution_count": 12,
   "metadata": {
    "ExecuteTime": {
     "end_time": "2019-02-06T22:31:54.927890Z",
     "start_time": "2019-02-06T22:31:54.923180Z"
    }
   },
   "outputs": [],
   "source": [
    "def kernel(x1, x2):\n",
    "    return x1.dot(x2)\n",
    "\n",
    "lambd = 1"
   ]
  },
  {
   "cell_type": "code",
   "execution_count": 13,
   "metadata": {
    "ExecuteTime": {
     "end_time": "2019-02-06T22:31:54.937009Z",
     "start_time": "2019-02-06T22:31:54.930580Z"
    }
   },
   "outputs": [],
   "source": [
    "def compute_predictor(Xtr, Ytr, kernel, lambd):\n",
    "    m = Xtr.mean(axis=0)\n",
    "    s = Xtr.std(axis=0)\n",
    "    Xc = (Xtr - m)/s\n",
    "\n",
    "    n = len(Xc)\n",
    "\n",
    "    I = np.eye(n)\n",
    "    U = (1/n) * np.ones((n, n))\n",
    "    gram_matrix = kernel(Xc, Xc.T)\n",
    "    K = gram_matrix + 1e-9*I\n",
    "    \n",
    "    alpha = cp.Variable(n)\n",
    "\n",
    "    constraints = [\n",
    "        cp.multiply(Ytr, alpha) >= np.zeros(n),\n",
    "        cp.multiply(Ytr, alpha) <= np.ones(n) / (2 * lambd * n)\n",
    "    ]\n",
    "\n",
    "    objective = cp.Minimize(\n",
    "        - 2 * (Ytr * alpha)\n",
    "        + cp.quad_form(alpha, K)\n",
    "    )\n",
    "\n",
    "    prob = cp.Problem(objective, constraints)\n",
    "\n",
    "    result = prob.solve(solver=cp.OSQP, verbose=False)\n",
    "    \n",
    "    return lambda x_new: np.sign(alpha.value.dot(kernel(Xc, (x_new - m)/s)))"
   ]
  },
  {
   "cell_type": "code",
   "execution_count": 56,
   "metadata": {},
   "outputs": [],
   "source": [
    "def cross_validate(X, Y, kernel, lambd, p=0.9, shuffle = True, kfold = 5):\n",
    "    acc_train, acc_val = np.zeros(kfold), np.zeros(kfold)\n",
    "    \n",
    "    for k in range(kfold):\n",
    "        # jointly shuffle input datasets X, Y\n",
    "        n = X.shape[0]\n",
    "        if shuffle:\n",
    "            perm = np.random.permutation(n)\n",
    "            X, Y = X[perm], Y[perm]\n",
    "\n",
    "        # split the datasets\n",
    "        n_train = int(p*n)\n",
    "        n_val = n - n_train\n",
    "        X_train = X[:n_train]\n",
    "        Y_train = Y[:n_train]\n",
    "        X_val = X[n_train:]\n",
    "        Y_val = Y[n_train:]\n",
    "\n",
    "        # fit the predictor\n",
    "        f = compute_predictor(X_train, Y_train, kernel, lambd)\n",
    "\n",
    "        Yte_train = np.array([f(X_train[i]) for i in range(n_train)])\n",
    "        Ypred_train = list(((Yte_train + 1) / 2).astype(int))\n",
    "\n",
    "        Yte_val = np.array([f(X_val[i]) for i in range(n_val)])\n",
    "        Ypred_val = list(((Yte_val + 1) / 2).astype(int))\n",
    "        \n",
    "        Y_train = list(((Y_train + 1) / 2).astype(int))\n",
    "        Y_val = list(((Y_val + 1) / 2).astype(int))\n",
    "        \n",
    "        #print(np.array(Ypred_train) - np.array(Y_train))\n",
    "        # compute metrics\n",
    "        acc_train[k] = 1. - np.sum(np.abs(np.array(Ypred_train) - np.array(Y_train)))/n_train\n",
    "        acc_val[k] = 1. - np.sum(np.abs(np.array(Ypred_val) - np.array(Y_val)))/n_val\n",
    "\n",
    "    return acc_train, acc_val"
   ]
  },
  {
   "cell_type": "markdown",
   "metadata": {},
   "source": [
    "### Grid search on lambda (on each dataset)"
   ]
  },
  {
   "cell_type": "code",
   "execution_count": 87,
   "metadata": {},
   "outputs": [
    {
     "name": "stdout",
     "output_type": "stream",
     "text": [
      "Lambda:  0.1\n",
      "Train accuracy:  0.6626666666666667\n",
      "Valid accuracy:  0.603\n",
      "------------\n",
      "Lambda:  0.2\n",
      "Train accuracy:  0.6565555555555556\n",
      "Valid accuracy:  0.624\n",
      "------------\n",
      "Lambda:  0.5\n",
      "Train accuracy:  0.6428888888888888\n",
      "Valid accuracy:  0.582\n",
      "------------\n",
      "Lambda:  1.0\n",
      "Train accuracy:  0.642888888888889\n",
      "Valid accuracy:  0.6010000000000001\n",
      "------------\n",
      "Lambda:  2.0\n",
      "Train accuracy:  0.6458888888888887\n",
      "Valid accuracy:  0.6119999999999999\n",
      "------------\n"
     ]
    }
   ],
   "source": [
    "lambd_range = [1e-1, 2e-1, 5e-1, 1., 2.]\n",
    "acc_train = np.zeros((len(lambd_range), 5))\n",
    "acc_val = np.zeros((len(lambd_range), 5))\n",
    "for i, lambd in enumerate(lambd_range):\n",
    "    Xtr, Ytr = read_data_mat100(\"tr\" + str(2))\n",
    "    acc_train[i], acc_val[i] = cross_validate(Xtr, Ytr, kernel, lambd, p=0.9, shuffle = True, kfold = 5)\n",
    "    print('Lambda: ', lambd)\n",
    "    print('Train accuracy: ', np.mean(acc_train[i]))\n",
    "    print('Valid accuracy: ', np.mean(acc_val[i]))\n",
    "    print('------------')"
   ]
  },
  {
   "cell_type": "code",
   "execution_count": 88,
   "metadata": {},
   "outputs": [
    {
     "data": {
      "text/plain": [
       "Text(0,0.5,'accuracy')"
      ]
     },
     "execution_count": 88,
     "metadata": {},
     "output_type": "execute_result"
    },
    {
     "data": {
      "image/png": "[encoded data removed]",
      "text/plain": [
       "<Figure size 432x288 with 1 Axes>"
      ]
     },
     "metadata": {
      "needs_background": "light"
     },
     "output_type": "display_data"
    }
   ],
   "source": [
    "plt.figure()\n",
    "lineplotCI(lambd_range, acc_train.mean(axis=1), acc_train.mean(axis=1)+acc_train.std(axis=1),\n",
    "           acc_train.mean(axis=1)-acc_train.std(axis=1), c='r')\n",
    "lineplotCI(lambd_range, acc_val.mean(axis=1), acc_val.mean(axis=1)+acc_val.std(axis=1),\n",
    "           acc_val.mean(axis=1)-acc_val.std(axis=1), c='g')\n",
    "plt.legend(['train', 'val'])\n",
    "plt.xlabel('lambda')\n",
    "plt.ylabel('accuracy')"
   ]
  },
  {
   "cell_type": "markdown",
   "metadata": {},
   "source": [
    "### Make the final predictions"
   ]
  },
  {
   "cell_type": "code",
   "execution_count": 89,
   "metadata": {
    "ExecuteTime": {
     "end_time": "2019-02-06T22:33:03.459952Z",
     "start_time": "2019-02-06T22:32:40.731372Z"
    }
   },
   "outputs": [
    {
     "name": "stdout",
     "output_type": "stream",
     "text": [
      "\n",
      "DATASET 0\n",
      "\n",
      "\n",
      "DATASET 1\n",
      "\n",
      "\n",
      "DATASET 2\n",
      "\n"
     ]
    }
   ],
   "source": [
    "Ypred = []\n",
    "lambd = 0.\n",
    "\n",
    "for k in [0, 1, 2]:\n",
    "    print(\"\\nDATASET {}\\n\".format(k))\n",
    "\n",
    "    Xtr, Ytr = read_data_mat100(\"tr\" + str(k))\n",
    "    Xte = read_data_mat100(\"te\" + str(k))\n",
    "    \n",
    "    if k==0:\n",
    "        lambd = .2\n",
    "    elif k==1:\n",
    "        lambd = 1.\n",
    "    elif k==2:\n",
    "        lambd = .2\n",
    "    \n",
    "    f = compute_predictor(Xtr, Ytr, kernel, lambd)\n",
    "    Yte = np.array([f(Xte[i]) for i in range(len(Xte))])\n",
    "    \n",
    "    Ypred.extend(list(((Yte + 1) / 2).astype(int)))\n",
    "    \n",
    "Ypred = pd.Series(\n",
    "    index=np.arange(len(Ypred)),\n",
    "    data=Ypred\n",
    ")\n",
    "Ypred.index.name = \"Id\"\n",
    "Ypred.name = \"Bound\"\n",
    "Ypred.to_csv(\"Ypred.csv\", header=True)"
   ]
  },
  {
   "cell_type": "code",
   "execution_count": null,
   "metadata": {},
   "outputs": [],
   "source": []
  }
 ],
 "metadata": {
  "kernelspec": {
   "display_name": "Python 3",
   "language": "python",
   "name": "python3"
  },
  "language_info": {
   "codemirror_mode": {
    "name": "ipython",
    "version": 3
   },
   "file_extension": ".py",
   "mimetype": "text/x-python",
   "name": "python",
   "nbconvert_exporter": "python",
   "pygments_lexer": "ipython3",
   "version": "3.7.0"
  }
 },
 "nbformat": 4,
 "nbformat_minor": 2
}
